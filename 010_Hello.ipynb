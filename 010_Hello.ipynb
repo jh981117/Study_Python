{
  "nbformat": 4,
  "nbformat_minor": 0,
  "metadata": {
    "colab": {
      "provenance": [],
      "authorship_tag": "ABX9TyMEztmEj8YJV1ogltB3kQPZ",
      "include_colab_link": true
    },
    "kernelspec": {
      "name": "python3",
      "display_name": "Python 3"
    },
    "language_info": {
      "name": "python"
    }
  },
  "cells": [
    {
      "cell_type": "markdown",
      "metadata": {
        "id": "view-in-github",
        "colab_type": "text"
      },
      "source": [
        "<a href=\"https://colab.research.google.com/github/jh981117/Study_Python/blob/main/010_Hello.ipynb\" target=\"_parent\"><img src=\"https://colab.research.google.com/assets/colab-badge.svg\" alt=\"Open In Colab\"/></a>"
      ]
    },
    {
      "cell_type": "markdown",
      "source": [
        "# Hello Python\n"
      ],
      "metadata": {
        "id": "N6W1B4zwBQDl"
      }
    },
    {
      "cell_type": "code",
      "source": [
        "print(100)\n",
        "print(200)\n",
        "print(300)"
      ],
      "metadata": {
        "colab": {
          "base_uri": "https://localhost:8080/"
        },
        "id": "HYU8H2gYBuCA",
        "outputId": "4d69bb35-8b18-4bc7-9080-cfb7ef1daaaf"
      },
      "execution_count": null,
      "outputs": [
        {
          "output_type": "stream",
          "name": "stdout",
          "text": [
            "100\n",
            "200\n",
            "300\n"
          ]
        }
      ]
    },
    {
      "cell_type": "code",
      "source": [
        "print(100); print(200); print(300);"
      ],
      "metadata": {
        "colab": {
          "base_uri": "https://localhost:8080/"
        },
        "id": "RWgsDIO9BzXP",
        "outputId": "1fe731b8-4fae-4276-c568-30fede87ad9e"
      },
      "execution_count": null,
      "outputs": [
        {
          "output_type": "stream",
          "name": "stdout",
          "text": [
            "100\n",
            "200\n",
            "300\n"
          ]
        }
      ]
    },
    {
      "cell_type": "markdown",
      "source": [
        "# 주석 (Comment)\n"
      ],
      "metadata": {
        "id": "Okfeoy19CBft"
      }
    },
    {
      "cell_type": "code",
      "source": [
        "# 주석 (Comment)\n",
        "#  프로그램의 실행과는 관계없이\n",
        "#  코드에 메모등을 남길때 사용\n",
        "\n",
        "# 1. 한줄 주석:  line comment)\n",
        "#    '#' 으로 시작\n",
        "#    '#' 우측부터의 한 줄은 '주석'으로 처리\n"
      ],
      "metadata": {
        "id": "7uYOhu24CD-n"
      },
      "execution_count": null,
      "outputs": []
    },
    {
      "cell_type": "code",
      "source": [
        "# 2. 블럭주석\n",
        "\"\"\"\n",
        "  이 안의 내용들은\n",
        "  주석 처리\n",
        "\"\"\""
      ],
      "metadata": {
        "colab": {
          "base_uri": "https://localhost:8080/",
          "height": 35
        },
        "id": "XH3lx9SnB29L",
        "outputId": "ef4534d8-2f80-473f-a951-6992a138d456"
      },
      "execution_count": null,
      "outputs": [
        {
          "output_type": "execute_result",
          "data": {
            "text/plain": [
              "'\\n  이 안의 내용들은\\n  주석 처리\\n'"
            ],
            "application/vnd.google.colaboratory.intrinsic+json": {
              "type": "string"
            }
          },
          "metadata": {},
          "execution_count": 3
        }
      ]
    },
    {
      "cell_type": "code",
      "source": [
        "'''\n",
        "  이것도 블럭주석\n",
        "'''"
      ],
      "metadata": {
        "colab": {
          "base_uri": "https://localhost:8080/",
          "height": 35
        },
        "id": "jN2KQUf7Cgao",
        "outputId": "6f138701-6147-4495-d7b9-7d2ddf928cba"
      },
      "execution_count": null,
      "outputs": [
        {
          "output_type": "execute_result",
          "data": {
            "text/plain": [
              "'\\n  이것도 블럭주석\\n'"
            ],
            "application/vnd.google.colaboratory.intrinsic+json": {
              "type": "string"
            }
          },
          "metadata": {},
          "execution_count": 4
        }
      ]
    },
    {
      "cell_type": "markdown",
      "source": [
        "# 숫자 (정수, 실수) 데이터\n"
      ],
      "metadata": {
        "id": "Qgdrb-TkC2qE"
      }
    },
    {
      "cell_type": "code",
      "source": [
        "# 숫자 (정수, 실수) 데이터\n",
        "# 소숫점이 없으면 '정수' (int : integer)\n",
        "# 소숫점이 있으면 '실수' (float)\n",
        "# 컴퓨터 프로그래밍에서는 실수를 floating point number 라 함\n"
      ],
      "metadata": {
        "id": "jL-XfYylC5Rn"
      },
      "execution_count": null,
      "outputs": []
    },
    {
      "cell_type": "code",
      "source": [
        "print(10) # 정수 int\n",
        "print(10.0) # 실수 float\n",
        "print(10.) # float\n",
        "print(4 * 5) # int 정수와 정수 연산결과는 정수\n",
        "print(4 * 5.0) # float\n",
        "print(4 / 2) # 나눗셈(/) 연산결과는 언제나 실수 float"
      ],
      "metadata": {
        "colab": {
          "base_uri": "https://localhost:8080/"
        },
        "id": "XpddSPEOC8Dq",
        "outputId": "be77cff9-a8d5-4f98-9c6e-69404c79ddbc"
      },
      "execution_count": null,
      "outputs": [
        {
          "output_type": "stream",
          "name": "stdout",
          "text": [
            "10\n",
            "10.0\n",
            "10.0\n",
            "20\n",
            "20.0\n",
            "2.0\n"
          ]
        }
      ]
    },
    {
      "cell_type": "code",
      "source": [
        "print(4 //2) # 2 (int)\n",
        "print(4 // 2.0)\n",
        "print(3.4 / 1.1)\n",
        "print(3.4 // 1.1)"
      ],
      "metadata": {
        "colab": {
          "base_uri": "https://localhost:8080/"
        },
        "id": "h8x-X4o2C0hD",
        "outputId": "2b29502f-5cba-47ff-bf0f-adc0b0e7ad1f"
      },
      "execution_count": null,
      "outputs": [
        {
          "output_type": "stream",
          "name": "stdout",
          "text": [
            "2\n",
            "2.0\n",
            "3.0909090909090904\n",
            "3.0\n"
          ]
        }
      ]
    },
    {
      "cell_type": "code",
      "source": [
        "#print(5/0)\n",
        "print('실행될까요?')"
      ],
      "metadata": {
        "colab": {
          "base_uri": "https://localhost:8080/"
        },
        "id": "o2FkoIW2E5Kd",
        "outputId": "0327c5ef-90f9-4aee-a615-453cb33facb7"
      },
      "execution_count": null,
      "outputs": [
        {
          "output_type": "stream",
          "name": "stdout",
          "text": [
            "실행될까요?\n"
          ]
        }
      ]
    },
    {
      "cell_type": "code",
      "source": [
        "# 나머지 연산자%"
      ],
      "metadata": {
        "id": "-ECloI8bFJc1"
      },
      "execution_count": null,
      "outputs": []
    },
    {
      "cell_type": "code",
      "source": [
        "# 제곱연산자"
      ],
      "metadata": {
        "id": "45VmYUCNFMQu"
      },
      "execution_count": null,
      "outputs": []
    },
    {
      "cell_type": "code",
      "source": [
        "print(2 ** 4)\n",
        "print(2 ** (1/2))"
      ],
      "metadata": {
        "colab": {
          "base_uri": "https://localhost:8080/"
        },
        "id": "8TdVNWPNFQkD",
        "outputId": "775e78e1-4e38-4801-9397-54ade8836479"
      },
      "execution_count": null,
      "outputs": [
        {
          "output_type": "stream",
          "name": "stdout",
          "text": [
            "16\n",
            "1.4142135623730951\n"
          ]
        }
      ]
    },
    {
      "cell_type": "markdown",
      "source": [
        "# 문자열 str (string)\n",
        "\n",
        "# 문자열 타입 : str (string)\n",
        "# 문자열 리터럴 만드는 방법\n",
        "# 1. 쌍따옴표 (double quotation)\n",
        "# 2. 홀따옴표 (single quotation)\n",
        "# 3. 쌍따옴표3개\n",
        "# 4. 홀따옴표3개\n",
        "# 그밖에\n",
        "#   f-string\n",
        "#   r-string\n",
        "#   ..\n",
        "\n"
      ],
      "metadata": {
        "id": "ZXdV65lFFgQ3"
      }
    },
    {
      "cell_type": "code",
      "source": [
        "# 문자열 연산 *\n",
        "print(\"-\"*20)"
      ],
      "metadata": {
        "colab": {
          "base_uri": "https://localhost:8080/"
        },
        "id": "Dsrbup5MFfFP",
        "outputId": "989e702c-ce6a-46e1-869b-d7013abaeb3b"
      },
      "execution_count": null,
      "outputs": [
        {
          "output_type": "stream",
          "name": "stdout",
          "text": [
            "--------------------\n"
          ]
        }
      ]
    },
    {
      "cell_type": "code",
      "source": [
        "# len() 함수\n",
        "# len(str) => 문자열의 문자개수\n",
        "\n",
        "len(\"Python\")\n",
        "len(\"파이선\")\n",
        "6"
      ],
      "metadata": {
        "colab": {
          "base_uri": "https://localhost:8080/"
        },
        "id": "G8V6vB4PGL7q",
        "outputId": "8f02b884-86a2-472c-8789-77cb618d9398"
      },
      "execution_count": null,
      "outputs": [
        {
          "output_type": "execute_result",
          "data": {
            "text/plain": [
              "6"
            ]
          },
          "metadata": {},
          "execution_count": 23
        }
      ]
    },
    {
      "cell_type": "code",
      "source": [
        "100\n",
        "200\n",
        "300"
      ],
      "metadata": {
        "colab": {
          "base_uri": "https://localhost:8080/"
        },
        "id": "DbxK2mMfFa2e",
        "outputId": "f6db2eb6-6f04-4534-f321-9e7fbd5eb145"
      },
      "execution_count": null,
      "outputs": [
        {
          "output_type": "execute_result",
          "data": {
            "text/plain": [
              "300"
            ]
          },
          "metadata": {},
          "execution_count": 25
        }
      ]
    },
    {
      "cell_type": "code",
      "source": [
        "print (100)\n",
        "print (200)\n",
        "print (300)"
      ],
      "metadata": {
        "colab": {
          "base_uri": "https://localhost:8080/"
        },
        "id": "0pXwFVZuGy_c",
        "outputId": "4210acd0-19b1-4a33-8f86-448635ac80e8"
      },
      "execution_count": null,
      "outputs": [
        {
          "output_type": "stream",
          "name": "stdout",
          "text": [
            "100\n",
            "200\n",
            "300\n"
          ]
        }
      ]
    },
    {
      "cell_type": "code",
      "source": [
        "# 자동접합, 인접한 문자열은 자동으로 붙는다 (concat)\n",
        "s = \"hello\", \"python\"\n",
        "print(s)"
      ],
      "metadata": {
        "colab": {
          "base_uri": "https://localhost:8080/"
        },
        "id": "Kb49tv_hHI7J",
        "outputId": "6eefd3b9-a6e5-4c15-a8b2-25c8e1423d13"
      },
      "execution_count": null,
      "outputs": [
        {
          "output_type": "stream",
          "name": "stdout",
          "text": [
            "('hello', 'python')\n"
          ]
        }
      ]
    },
    {
      "cell_type": "markdown",
      "source": [
        "# bool 타입\n"
      ],
      "metadata": {
        "id": "Supy4L_1HjEd"
      }
    },
    {
      "cell_type": "code",
      "source": [
        "# True 혹은 False"
      ],
      "metadata": {
        "id": "ZiMAycfgHkwq"
      },
      "execution_count": null,
      "outputs": []
    },
    {
      "cell_type": "code",
      "source": [
        "True"
      ],
      "metadata": {
        "colab": {
          "base_uri": "https://localhost:8080/"
        },
        "id": "OwSj6sSiHnHl",
        "outputId": "e6d9a66c-fa1f-46a1-86f2-06a7ae08f138"
      },
      "execution_count": null,
      "outputs": [
        {
          "output_type": "execute_result",
          "data": {
            "text/plain": [
              "True"
            ]
          },
          "metadata": {},
          "execution_count": 29
        }
      ]
    },
    {
      "cell_type": "code",
      "source": [
        "False"
      ],
      "metadata": {
        "colab": {
          "base_uri": "https://localhost:8080/"
        },
        "id": "dzYWLe5JHouD",
        "outputId": "d32f2073-f3e8-46da-b89c-3f4ba02bdaf3"
      },
      "execution_count": null,
      "outputs": [
        {
          "output_type": "execute_result",
          "data": {
            "text/plain": [
              "False"
            ]
          },
          "metadata": {},
          "execution_count": 30
        }
      ]
    },
    {
      "cell_type": "code",
      "source": [
        "# print(true)"
      ],
      "metadata": {
        "id": "bvxEo9hJHv_Z"
      },
      "execution_count": null,
      "outputs": []
    },
    {
      "cell_type": "code",
      "source": [
        "print(20>10)"
      ],
      "metadata": {
        "colab": {
          "base_uri": "https://localhost:8080/"
        },
        "id": "hpOjb-hUH3QV",
        "outputId": "4ee66d35-5aee-4c80-ccea-b4fac4ce6f87"
      },
      "execution_count": null,
      "outputs": [
        {
          "output_type": "stream",
          "name": "stdout",
          "text": [
            "True\n"
          ]
        }
      ]
    },
    {
      "cell_type": "markdown",
      "source": [
        "# None 타입\n",
        "아무런 값도 없는 데이터\n"
      ],
      "metadata": {
        "id": "_5_6Lcy_IDzO"
      }
    },
    {
      "cell_type": "code",
      "source": [
        "print (None)"
      ],
      "metadata": {
        "colab": {
          "base_uri": "https://localhost:8080/"
        },
        "id": "woQE0G0LIMfr",
        "outputId": "4c7df33f-bb4f-413f-fa64-4dc80a6600fa"
      },
      "execution_count": null,
      "outputs": [
        {
          "output_type": "stream",
          "name": "stdout",
          "text": [
            "None\n"
          ]
        }
      ]
    },
    {
      "cell_type": "code",
      "source": [
        "None"
      ],
      "metadata": {
        "id": "o1ay3u-DIc9y"
      },
      "execution_count": null,
      "outputs": []
    },
    {
      "cell_type": "code",
      "source": [
        "\"\"\"\n",
        "  강동키 자냐? 강동키 자냐? 강동키 자냐? 강동키 자냐? 강동키 자냐? 강동키 자냐? 강동키 자냐?\n",
        "\"\"\"\n",
        "None"
      ],
      "metadata": {
        "colab": {
          "base_uri": "https://localhost:8080/",
          "height": 35
        },
        "id": "WR8WtR04Id5p",
        "outputId": "f6cf1f3d-fa54-49cb-ce43-aba6c0c8cc8e"
      },
      "execution_count": null,
      "outputs": [
        {
          "output_type": "execute_result",
          "data": {
            "text/plain": [
              "'\\n  강동키 자냐? 강동키 자냐? 강동키 자냐? 강동키 자냐? 강동키 자냐? 강동키 자냐? 강동키 자냐?\\n'"
            ],
            "application/vnd.google.colaboratory.intrinsic+json": {
              "type": "string"
            }
          },
          "metadata": {},
          "execution_count": 37
        }
      ]
    },
    {
      "cell_type": "markdown",
      "source": [
        "# Type() 함수"
      ],
      "metadata": {
        "id": "fUgk-ChPJIg0"
      }
    },
    {
      "cell_type": "code",
      "source": [
        "print(type(10))\n",
        "print(type(10.0))\n",
        "print(type(\"10\"))\n",
        "print(type(True))\n",
        "print(type(None))"
      ],
      "metadata": {
        "colab": {
          "base_uri": "https://localhost:8080/"
        },
        "id": "N_5Jjd_OJQk5",
        "outputId": "76919def-84c9-4982-97a0-8ce2965e325f"
      },
      "execution_count": null,
      "outputs": [
        {
          "output_type": "stream",
          "name": "stdout",
          "text": [
            "<class 'int'>\n",
            "<class 'float'>\n",
            "<class 'str'>\n",
            "<class 'bool'>\n",
            "<class 'NoneType'>\n"
          ]
        }
      ]
    },
    {
      "cell_type": "code",
      "source": [
        "# \"hello\"\n",
        "# 'hello'\n",
        "# (hello)\n",
        "# {hello}\n",
        "# [hello]"
      ],
      "metadata": {
        "id": "FJbpBxWPJhS1"
      },
      "execution_count": null,
      "outputs": []
    },
    {
      "cell_type": "markdown",
      "source": [
        "#Indentation\n",
        " 들여쓰기 '열' 맞춰야한다\n"
      ],
      "metadata": {
        "id": "uKUYImCHOnN0"
      }
    },
    {
      "cell_type": "code",
      "source": [
        "# IndentationError 발생!\n",
        "\"\"\"\n",
        "print(100)\n",
        " print(200)\n",
        "print(300)\n",
        "\"\"\"\n",
        "None"
      ],
      "metadata": {
        "colab": {
          "base_uri": "https://localhost:8080/"
        },
        "id": "5GAViMqsIkvm",
        "outputId": "6096b6e5-f3a4-41de-e509-59f94d1e86af"
      },
      "execution_count": null,
      "outputs": [
        {
          "output_type": "stream",
          "name": "stdout",
          "text": [
            "100\n",
            "200\n",
            "300\n"
          ]
        }
      ]
    },
    {
      "cell_type": "code",
      "source": [],
      "metadata": {
        "id": "qCNjKRFGOa0h"
      },
      "execution_count": null,
      "outputs": []
    },
    {
      "cell_type": "code",
      "source": [],
      "metadata": {
        "id": "o0LH1vsbOZdN"
      },
      "execution_count": null,
      "outputs": []
    },
    {
      "cell_type": "code",
      "source": [],
      "metadata": {
        "id": "MRDCrZiYOXBK"
      },
      "execution_count": null,
      "outputs": []
    },
    {
      "cell_type": "code",
      "source": [],
      "metadata": {
        "id": "yB7Vhx4TICY0"
      },
      "execution_count": null,
      "outputs": []
    }
  ]
}