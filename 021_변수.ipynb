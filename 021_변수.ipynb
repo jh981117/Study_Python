{
  "nbformat": 4,
  "nbformat_minor": 0,
  "metadata": {
    "colab": {
      "provenance": [],
      "authorship_tag": "ABX9TyMch3BQRUtxp+LGIq3UYmzV",
      "include_colab_link": true
    },
    "kernelspec": {
      "name": "python3",
      "display_name": "Python 3"
    },
    "language_info": {
      "name": "python"
    }
  },
  "cells": [
    {
      "cell_type": "markdown",
      "metadata": {
        "id": "view-in-github",
        "colab_type": "text"
      },
      "source": [
        "<a href=\"https://colab.research.google.com/github/jh981117/Study_Python/blob/main/021_%EB%B3%80%EC%88%98.ipynb\" target=\"_parent\"><img src=\"https://colab.research.google.com/assets/colab-badge.svg\" alt=\"Open In Colab\"/></a>"
      ]
    },
    {
      "cell_type": "markdown",
      "source": [
        "# 변수 (Variable)"
      ],
      "metadata": {
        "id": "xhG7YyCEPWiD"
      }
    },
    {
      "cell_type": "code",
      "source": [
        "# 파이썬은 변수 선언시 특별한 키워드 없다!"
      ],
      "metadata": {
        "id": "MnSIxjC-PZ0u"
      },
      "execution_count": null,
      "outputs": []
    },
    {
      "cell_type": "code",
      "source": [
        "a = 10\n",
        "a"
      ],
      "metadata": {
        "colab": {
          "base_uri": "https://localhost:8080/"
        },
        "id": "4TQsdCmxPefi",
        "outputId": "32269c9e-5a62-4e0f-f062-a66311145c37"
      },
      "execution_count": null,
      "outputs": [
        {
          "output_type": "execute_result",
          "data": {
            "text/plain": [
              "10"
            ]
          },
          "metadata": {},
          "execution_count": 2
        }
      ]
    },
    {
      "cell_type": "code",
      "source": [
        "type(a)"
      ],
      "metadata": {
        "colab": {
          "base_uri": "https://localhost:8080/"
        },
        "id": "CkuC15sYPi9S",
        "outputId": "9374dba8-7260-4a76-cdb2-059caae7f36d"
      },
      "execution_count": null,
      "outputs": [
        {
          "output_type": "execute_result",
          "data": {
            "text/plain": [
              "int"
            ]
          },
          "metadata": {},
          "execution_count": 3
        }
      ]
    },
    {
      "cell_type": "code",
      "source": [
        "print(\"a값은\", a, \"입니다\")"
      ],
      "metadata": {
        "colab": {
          "base_uri": "https://localhost:8080/"
        },
        "id": "cPbQv9dbPrPg",
        "outputId": "d21f9a5d-6744-48e2-f729-1e2623b63423"
      },
      "execution_count": null,
      "outputs": [
        {
          "output_type": "stream",
          "name": "stdout",
          "text": [
            "a값은 10 입니다\n"
          ]
        }
      ]
    },
    {
      "cell_type": "code",
      "source": [
        "b = 5\n",
        "print(a+b)"
      ],
      "metadata": {
        "colab": {
          "base_uri": "https://localhost:8080/"
        },
        "id": "aSY1O924PvOc",
        "outputId": "5e054b05-0586-486e-dc4d-831ab13c41a9"
      },
      "execution_count": null,
      "outputs": [
        {
          "output_type": "stream",
          "name": "stdout",
          "text": [
            "15\n"
          ]
        }
      ]
    },
    {
      "cell_type": "code",
      "execution_count": null,
      "metadata": {
        "id": "A3hYHHS-PRTl"
      },
      "outputs": [],
      "source": [
        "# print(c) # NameError"
      ]
    },
    {
      "cell_type": "markdown",
      "source": [
        "# 형변환 함수\n",
        "\n",
        "int(), float(), str(), bool()..."
      ],
      "metadata": {
        "id": "XBPeqtJRQnDj"
      }
    },
    {
      "cell_type": "code",
      "source": [
        "myName = \"강동키\""
      ],
      "metadata": {
        "id": "I1-HoaZNQtKW"
      },
      "execution_count": null,
      "outputs": []
    },
    {
      "cell_type": "code",
      "source": [
        "print(\"제 이름은\", myName, \"입니다\")\n",
        "print(\"제 이름은 \" + myName + \" 입니다\")"
      ],
      "metadata": {
        "colab": {
          "base_uri": "https://localhost:8080/"
        },
        "id": "WND3pxSWQ7B9",
        "outputId": "98268691-bfe1-43de-b8d5-bd04bff623e0"
      },
      "execution_count": null,
      "outputs": [
        {
          "output_type": "stream",
          "name": "stdout",
          "text": [
            "제 이름은 강동키 입니다\n",
            "제 이름은 강동키 입니다\n"
          ]
        }
      ]
    },
    {
      "cell_type": "code",
      "source": [
        "age = 10"
      ],
      "metadata": {
        "id": "OG1DKa-xRFOD"
      },
      "execution_count": null,
      "outputs": []
    },
    {
      "cell_type": "code",
      "source": [
        "print(\" 제 나이는\", age, \"살 입니다\")\n",
        "print(\" 제 나이는 \" + age +  \" 살 입니다\")  # 에러! str + int 연산 안됨!"
      ],
      "metadata": {
        "colab": {
          "base_uri": "https://localhost:8080/",
          "height": 184
        },
        "id": "5YRqF93kRIhc",
        "outputId": "694ef305-2315-48a7-9e0e-57661e6c2408"
      },
      "execution_count": null,
      "outputs": [
        {
          "output_type": "stream",
          "name": "stdout",
          "text": [
            " 제 나이는 10 살 입니다\n"
          ]
        },
        {
          "output_type": "error",
          "ename": "TypeError",
          "evalue": "can only concatenate str (not \"int\") to str",
          "traceback": [
            "\u001b[0;31m---------------------------------------------------------------------------\u001b[0m",
            "\u001b[0;31mTypeError\u001b[0m                                 Traceback (most recent call last)",
            "\u001b[0;32m<ipython-input-12-9386f65a68d8>\u001b[0m in \u001b[0;36m<cell line: 2>\u001b[0;34m()\u001b[0m\n\u001b[1;32m      1\u001b[0m \u001b[0mprint\u001b[0m\u001b[0;34m(\u001b[0m\u001b[0;34m\" 제 나이는\"\u001b[0m\u001b[0;34m,\u001b[0m \u001b[0mage\u001b[0m\u001b[0;34m,\u001b[0m \u001b[0;34m\"살 입니다\"\u001b[0m\u001b[0;34m)\u001b[0m\u001b[0;34m\u001b[0m\u001b[0;34m\u001b[0m\u001b[0m\n\u001b[0;32m----> 2\u001b[0;31m \u001b[0mprint\u001b[0m\u001b[0;34m(\u001b[0m\u001b[0;34m\" 제 나이는 \"\u001b[0m \u001b[0;34m+\u001b[0m \u001b[0mage\u001b[0m \u001b[0;34m+\u001b[0m  \u001b[0;34m\" 살 입니다\"\u001b[0m\u001b[0;34m)\u001b[0m\u001b[0;34m\u001b[0m\u001b[0;34m\u001b[0m\u001b[0m\n\u001b[0m",
            "\u001b[0;31mTypeError\u001b[0m: can only concatenate str (not \"int\") to str"
          ]
        }
      ]
    },
    {
      "cell_type": "code",
      "source": [
        "# 형변환 함수 사용\n",
        "print(\"제 나이는 \" + str(age) + \" 살 입니다\") # 10 => \"10\""
      ],
      "metadata": {
        "colab": {
          "base_uri": "https://localhost:8080/"
        },
        "id": "Hq9ANxOhRUtG",
        "outputId": "88c71c2e-173d-430e-92e9-8c969972269f"
      },
      "execution_count": null,
      "outputs": [
        {
          "output_type": "stream",
          "name": "stdout",
          "text": [
            "제 나이는 10 살 입니다\n"
          ]
        }
      ]
    },
    {
      "cell_type": "code",
      "source": [
        "num = \"100\""
      ],
      "metadata": {
        "id": "xWLsxN37R2B2"
      },
      "execution_count": null,
      "outputs": []
    },
    {
      "cell_type": "code",
      "source": [
        "# num + 2  # 에러\n",
        "int(num) + 2 # \"100\" => 100"
      ],
      "metadata": {
        "colab": {
          "base_uri": "https://localhost:8080/"
        },
        "id": "9w0i1BLpR7SU",
        "outputId": "5215707b-bce4-46f0-a5e0-a649b0565311"
      },
      "execution_count": null,
      "outputs": [
        {
          "output_type": "execute_result",
          "data": {
            "text/plain": [
              "102"
            ]
          },
          "metadata": {},
          "execution_count": 17
        }
      ]
    },
    {
      "cell_type": "code",
      "source": [
        "#int('hello') # 형변환 불가능하면 에러"
      ],
      "metadata": {
        "colab": {
          "base_uri": "https://localhost:8080/",
          "height": 147
        },
        "id": "8WUiVz0FR8ig",
        "outputId": "fc4ac172-8807-4a80-f530-59371af7aebb"
      },
      "execution_count": null,
      "outputs": [
        {
          "output_type": "error",
          "ename": "ValueError",
          "evalue": "invalid literal for int() with base 10: 'hello'",
          "traceback": [
            "\u001b[0;31m---------------------------------------------------------------------------\u001b[0m",
            "\u001b[0;31mValueError\u001b[0m                                Traceback (most recent call last)",
            "\u001b[0;32m<ipython-input-18-5a71a97c949d>\u001b[0m in \u001b[0;36m<cell line: 1>\u001b[0;34m()\u001b[0m\n\u001b[0;32m----> 1\u001b[0;31m \u001b[0mint\u001b[0m\u001b[0;34m(\u001b[0m\u001b[0;34m'hello'\u001b[0m\u001b[0;34m)\u001b[0m \u001b[0;31m# 형변환 불가능하면 에러\u001b[0m\u001b[0;34m\u001b[0m\u001b[0;34m\u001b[0m\u001b[0m\n\u001b[0m",
            "\u001b[0;31mValueError\u001b[0m: invalid literal for int() with base 10: 'hello'"
          ]
        }
      ]
    },
    {
      "cell_type": "code",
      "source": [
        "int(3.14)"
      ],
      "metadata": {
        "colab": {
          "base_uri": "https://localhost:8080/"
        },
        "id": "qT20ypCGRDqX",
        "outputId": "1c14972a-b658-4f74-9957-7dacbbc2e32c"
      },
      "execution_count": null,
      "outputs": [
        {
          "output_type": "execute_result",
          "data": {
            "text/plain": [
              "3"
            ]
          },
          "metadata": {},
          "execution_count": 19
        }
      ]
    },
    {
      "cell_type": "code",
      "source": [
        "float(10)"
      ],
      "metadata": {
        "colab": {
          "base_uri": "https://localhost:8080/"
        },
        "id": "iMLGcixRRBKW",
        "outputId": "2145254c-ffdf-4811-8234-1b7db6caf93f"
      },
      "execution_count": null,
      "outputs": [
        {
          "output_type": "execute_result",
          "data": {
            "text/plain": [
              "10.0"
            ]
          },
          "metadata": {},
          "execution_count": 20
        }
      ]
    },
    {
      "cell_type": "code",
      "source": [
        "myName = '강동키'\n",
        "my_name = '동키동키'"
      ],
      "metadata": {
        "id": "GH3ALz0HQoyo"
      },
      "execution_count": null,
      "outputs": []
    },
    {
      "cell_type": "code",
      "source": [
        "_name_ = '최징무'"
      ],
      "metadata": {
        "id": "Z6q8vFt1TNbS"
      },
      "execution_count": null,
      "outputs": []
    },
    {
      "cell_type": "code",
      "source": [
        "#$abc = 10 #Python은 $를 변수명으로 사용 불가 (JS, Java와 다름)"
      ],
      "metadata": {
        "id": "DSUEPI1NTQH0"
      },
      "execution_count": null,
      "outputs": []
    },
    {
      "cell_type": "markdown",
      "source": [
        "# del() 변수 삭제\n"
      ],
      "metadata": {
        "id": "lKfYXArOTamz"
      }
    },
    {
      "cell_type": "code",
      "source": [
        "name= \"서현기\"\n",
        "print(name, type(name))"
      ],
      "metadata": {
        "colab": {
          "base_uri": "https://localhost:8080/"
        },
        "id": "jpKKYv7wTeWY",
        "outputId": "ae4c5039-7766-44b2-d22d-0c08f881a99a"
      },
      "execution_count": null,
      "outputs": [
        {
          "output_type": "stream",
          "name": "stdout",
          "text": [
            "서현기 <class 'str'>\n"
          ]
        }
      ]
    },
    {
      "cell_type": "code",
      "source": [
        "del(name)"
      ],
      "metadata": {
        "id": "tNS1kRVmTqTy"
      },
      "execution_count": null,
      "outputs": []
    },
    {
      "cell_type": "code",
      "source": [
        "# name"
      ],
      "metadata": {
        "colab": {
          "base_uri": "https://localhost:8080/",
          "height": 147
        },
        "id": "xioksLdnTtaS",
        "outputId": "eb46dd21-c83c-441f-fc4c-1c6ff517b047"
      },
      "execution_count": null,
      "outputs": [
        {
          "output_type": "error",
          "ename": "NameError",
          "evalue": "name 'name' is not defined",
          "traceback": [
            "\u001b[0;31m---------------------------------------------------------------------------\u001b[0m",
            "\u001b[0;31mNameError\u001b[0m                                 Traceback (most recent call last)",
            "\u001b[0;32m<ipython-input-29-9bc0cb2ed6de>\u001b[0m in \u001b[0;36m<cell line: 1>\u001b[0;34m()\u001b[0m\n\u001b[0;32m----> 1\u001b[0;31m \u001b[0mname\u001b[0m\u001b[0;34m\u001b[0m\u001b[0;34m\u001b[0m\u001b[0m\n\u001b[0m",
            "\u001b[0;31mNameError\u001b[0m: name 'name' is not defined"
          ]
        }
      ]
    },
    {
      "cell_type": "markdown",
      "source": [
        "# 여러변수 선언\n"
      ],
      "metadata": {
        "id": "CZ1XCzPFUBM7"
      }
    },
    {
      "cell_type": "code",
      "source": [
        "a = 10\n",
        "b = 20\n",
        "c = 30\n",
        "print(a, b, c)"
      ],
      "metadata": {
        "colab": {
          "base_uri": "https://localhost:8080/"
        },
        "id": "UHEW2SmMUDIQ",
        "outputId": "d03c94f8-fb04-418e-d479-af93a688b10b"
      },
      "execution_count": null,
      "outputs": [
        {
          "output_type": "stream",
          "name": "stdout",
          "text": [
            "10 20 30\n"
          ]
        }
      ]
    },
    {
      "cell_type": "code",
      "source": [
        "a = 10; b = 10; c = 30\n",
        "print(a, b, c)"
      ],
      "metadata": {
        "colab": {
          "base_uri": "https://localhost:8080/"
        },
        "id": "3B6oX9lKUHc0",
        "outputId": "20788a94-4b06-4807-f69e-ab6abb8aab01"
      },
      "execution_count": null,
      "outputs": [
        {
          "output_type": "stream",
          "name": "stdout",
          "text": [
            "10 10 30\n"
          ]
        }
      ]
    },
    {
      "cell_type": "code",
      "source": [
        "a, b, c = 100, 200, 300 # 훨씬 pythonic!\n",
        "print(a, b, c)"
      ],
      "metadata": {
        "colab": {
          "base_uri": "https://localhost:8080/"
        },
        "id": "mmA6uPyPUQjb",
        "outputId": "f52f175c-1aeb-41f4-9b00-a55fd3cf72c1"
      },
      "execution_count": null,
      "outputs": [
        {
          "output_type": "stream",
          "name": "stdout",
          "text": [
            "100 200 300\n"
          ]
        }
      ]
    },
    {
      "cell_type": "code",
      "source": [
        "# Python은 ++, -- 없다"
      ],
      "metadata": {
        "id": "Osv39V8mTxPk"
      },
      "execution_count": null,
      "outputs": []
    },
    {
      "cell_type": "code",
      "source": [
        "# 변수값 증가/감소\n",
        "a += 10\n",
        "a = a + 10\n",
        "print(a)"
      ],
      "metadata": {
        "colab": {
          "base_uri": "https://localhost:8080/"
        },
        "id": "qSG0FcppUzbc",
        "outputId": "757b4db5-083b-48bd-86a0-db7a032d241a"
      },
      "execution_count": null,
      "outputs": [
        {
          "output_type": "stream",
          "name": "stdout",
          "text": [
            "140\n"
          ]
        }
      ]
    },
    {
      "cell_type": "code",
      "source": [
        "# 변수 값 바꾸기\n",
        "a = 11\n",
        "b = 33\n",
        "print(a, b)"
      ],
      "metadata": {
        "colab": {
          "base_uri": "https://localhost:8080/"
        },
        "id": "BtvM98kjU5dT",
        "outputId": "46826472-cb4e-4216-e216-61169abc32e6"
      },
      "execution_count": null,
      "outputs": [
        {
          "output_type": "stream",
          "name": "stdout",
          "text": [
            "11 33\n"
          ]
        }
      ]
    },
    {
      "cell_type": "code",
      "source": [
        "a, b = b, a\n",
        "print(a, b)"
      ],
      "metadata": {
        "colab": {
          "base_uri": "https://localhost:8080/"
        },
        "id": "LLDLyGkLVCIo",
        "outputId": "b88f64b4-42fe-464f-a392-35c04c1e2fb5"
      },
      "execution_count": null,
      "outputs": [
        {
          "output_type": "stream",
          "name": "stdout",
          "text": [
            "33 11\n"
          ]
        }
      ]
    },
    {
      "cell_type": "code",
      "source": [],
      "metadata": {
        "id": "lr8v6LHxVHdh"
      },
      "execution_count": null,
      "outputs": []
    }
  ]
}