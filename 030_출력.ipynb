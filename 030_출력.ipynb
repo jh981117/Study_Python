{
  "nbformat": 4,
  "nbformat_minor": 0,
  "metadata": {
    "colab": {
      "provenance": [],
      "authorship_tag": "ABX9TyPKwm4p0oT88tR+u/e6NBkQ",
      "include_colab_link": true
    },
    "kernelspec": {
      "name": "python3",
      "display_name": "Python 3"
    },
    "language_info": {
      "name": "python"
    }
  },
  "cells": [
    {
      "cell_type": "markdown",
      "metadata": {
        "id": "view-in-github",
        "colab_type": "text"
      },
      "source": [
        "<a href=\"https://colab.research.google.com/github/jh981117/Study_Python/blob/main/030_%EC%B6%9C%EB%A0%A5.ipynb\" target=\"_parent\"><img src=\"https://colab.research.google.com/assets/colab-badge.svg\" alt=\"Open In Colab\"/></a>"
      ]
    },
    {
      "cell_type": "markdown",
      "source": [
        "# print() 출력함수\n"
      ],
      "metadata": {
        "id": "w44rdOo0Vr2C"
      }
    },
    {
      "cell_type": "code",
      "source": [
        "print(10)\n",
        "print('hello')\n",
        "print(3.14)"
      ],
      "metadata": {
        "colab": {
          "base_uri": "https://localhost:8080/"
        },
        "id": "HSAs1TFcVvUu",
        "outputId": "01922906-4350-4489-c6fd-aaefc7ce8083"
      },
      "execution_count": null,
      "outputs": [
        {
          "output_type": "stream",
          "name": "stdout",
          "text": [
            "10\n",
            "hello\n",
            "3.14\n"
          ]
        }
      ]
    },
    {
      "cell_type": "markdown",
      "source": [
        "## end 인자"
      ],
      "metadata": {
        "id": "zNH_92I5WBzc"
      }
    },
    {
      "cell_type": "code",
      "source": [
        "print(10, end='')\n",
        "print('최진무')\n",
        "print(1.234)"
      ],
      "metadata": {
        "colab": {
          "base_uri": "https://localhost:8080/"
        },
        "id": "ffznSaD5WIv9",
        "outputId": "f33d94fd-a843-4f40-db0d-925d223b1eae"
      },
      "execution_count": null,
      "outputs": [
        {
          "output_type": "stream",
          "name": "stdout",
          "text": [
            "10최진무\n",
            "1.234\n"
          ]
        }
      ]
    },
    {
      "cell_type": "markdown",
      "source": [
        "## sep 인자\n",
        "\n",
        "separator"
      ],
      "metadata": {
        "id": "DYweCBF0W5t7"
      }
    },
    {
      "cell_type": "code",
      "source": [
        "print(10, 20, 30, sep=' ')"
      ],
      "metadata": {
        "colab": {
          "base_uri": "https://localhost:8080/"
        },
        "id": "RbF-bnykW_BW",
        "outputId": "161bc7ce-73bf-4d41-97c8-ee9e2985e1eb"
      },
      "execution_count": null,
      "outputs": [
        {
          "output_type": "stream",
          "name": "stdout",
          "text": [
            "10 20 30\n"
          ]
        }
      ]
    },
    {
      "cell_type": "code",
      "source": [
        "print(10, 20, 30, sep='--')"
      ],
      "metadata": {
        "colab": {
          "base_uri": "https://localhost:8080/"
        },
        "id": "l4i4GkCPXEin",
        "outputId": "bf036187-87e7-4f4e-c6cb-2d1804b5b40f"
      },
      "execution_count": null,
      "outputs": [
        {
          "output_type": "stream",
          "name": "stdout",
          "text": [
            "10--20--30\n"
          ]
        }
      ]
    },
    {
      "cell_type": "code",
      "source": [
        "path = \"D:\\KDT907\\01_Python\"\n",
        "print(path)"
      ],
      "metadata": {
        "colab": {
          "base_uri": "https://localhost:8080/"
        },
        "id": "YdsSWamRo79B",
        "outputId": "c97250c5-9fa0-4370-9f7d-90d8d45a18b9"
      },
      "execution_count": null,
      "outputs": [
        {
          "output_type": "stream",
          "name": "stdout",
          "text": [
            "D:\\KDT907\u0001_Python\n"
          ]
        }
      ]
    },
    {
      "cell_type": "markdown",
      "source": [
        "# Raw String (r-string)\n",
        "\n",
        "escaping 없는 문자"
      ],
      "metadata": {
        "id": "mJiLuyygpa5K"
      }
    },
    {
      "cell_type": "code",
      "source": [
        "path = r\"D:\\KDT907\\01_Python\"\n",
        "print(path)"
      ],
      "metadata": {
        "colab": {
          "base_uri": "https://localhost:8080/"
        },
        "id": "Z_--GOFzpgLc",
        "outputId": "ebd40b21-7d5c-427a-f3f8-ed8a55b0e5f3"
      },
      "execution_count": null,
      "outputs": [
        {
          "output_type": "stream",
          "name": "stdout",
          "text": [
            "D:\\KDT907\\01_Python\n"
          ]
        }
      ]
    },
    {
      "cell_type": "code",
      "source": [
        "    print(10)\n",
        "    print(20)\n",
        "    print(30)\n",
        "    print(40)\n",
        "    print(50)"
      ],
      "metadata": {
        "colab": {
          "base_uri": "https://localhost:8080/"
        },
        "id": "S5PRf24QppYe",
        "outputId": "dbe6bc10-698e-4f81-ab84-e025d37ca570"
      },
      "execution_count": null,
      "outputs": [
        {
          "output_type": "stream",
          "name": "stdout",
          "text": [
            "10\n",
            "20\n",
            "30\n"
          ]
        }
      ]
    },
    {
      "cell_type": "markdown",
      "source": [
        "# 문자열 포맷팅 (formatting)"
      ],
      "metadata": {
        "id": "_rcJYDErqcm5"
      }
    },
    {
      "cell_type": "markdown",
      "source": [
        "## 방법1 % 연산자 사용"
      ],
      "metadata": {
        "id": "gWuN7cakqoMZ"
      }
    },
    {
      "cell_type": "code",
      "source": [
        "# 서식지정자(format specifier) 를 포함한 문자열과, 각 '서식문자'에 대응하는 데이터들을 연결하여 문자열 완선\n",
        "\n",
        "# 구문)\n",
        "#    \"서식문자포함문자열\" % ( 데이터 튜플 )\n"
      ],
      "metadata": {
        "id": "lSgm1kznq6YS"
      },
      "execution_count": null,
      "outputs": []
    },
    {
      "cell_type": "code",
      "source": [
        "a = \"Hello %s\"\n",
        "print(a)"
      ],
      "metadata": {
        "colab": {
          "base_uri": "https://localhost:8080/"
        },
        "id": "c1F_4EFUrB1Q",
        "outputId": "77733b09-7634-4811-fb3d-54a1bb2cc23d"
      },
      "execution_count": null,
      "outputs": [
        {
          "output_type": "stream",
          "name": "stdout",
          "text": [
            "Hello %s\n"
          ]
        }
      ]
    },
    {
      "cell_type": "code",
      "source": [
        "a = \"Hello %s\" % (\"파이썬\")\n",
        "print(a)"
      ],
      "metadata": {
        "colab": {
          "base_uri": "https://localhost:8080/"
        },
        "id": "21V55an2rRKo",
        "outputId": "6168ab3d-e748-4187-8152-a79da9c47554"
      },
      "execution_count": null,
      "outputs": [
        {
          "output_type": "stream",
          "name": "stdout",
          "text": [
            "Hello 파이썬\n"
          ]
        }
      ]
    },
    {
      "cell_type": "code",
      "source": [
        "a = \"영원히 %s 받는 %s\"\n",
        "print(a)"
      ],
      "metadata": {
        "colab": {
          "base_uri": "https://localhost:8080/"
        },
        "id": "gDnFNWGIrfAI",
        "outputId": "b354ec42-a521-4768-e2f1-b9a5359ff57b"
      },
      "execution_count": null,
      "outputs": [
        {
          "output_type": "stream",
          "name": "stdout",
          "text": [
            "영원히 %s 받는 %s\n"
          ]
        }
      ]
    },
    {
      "cell_type": "code",
      "source": [
        "a = \"영원히 %s 받는 %s\" % (\"고통\", \"이종현\")\n",
        "print(a)"
      ],
      "metadata": {
        "colab": {
          "base_uri": "https://localhost:8080/"
        },
        "id": "CwWWkBk8rka4",
        "outputId": "2da05310-67c2-4774-c119-9a0ea0506e22"
      },
      "execution_count": null,
      "outputs": [
        {
          "output_type": "stream",
          "name": "stdout",
          "text": [
            "영원히 고통 받는 이종현\n"
          ]
        }
      ]
    },
    {
      "cell_type": "code",
      "source": [
        "import math # math 모듈 import"
      ],
      "metadata": {
        "id": "ttVfWLhbsLTJ"
      },
      "execution_count": null,
      "outputs": []
    },
    {
      "cell_type": "code",
      "source": [
        "math.pi"
      ],
      "metadata": {
        "colab": {
          "base_uri": "https://localhost:8080/"
        },
        "id": "7pmbKetQsPMW",
        "outputId": "ac2febf8-ae84-4536-a38e-609ed026e344"
      },
      "execution_count": null,
      "outputs": [
        {
          "output_type": "execute_result",
          "data": {
            "text/plain": [
              "3.141592653589793"
            ]
          },
          "metadata": {},
          "execution_count": 25
        }
      ]
    },
    {
      "cell_type": "code",
      "source": [
        "a = \"원주율은 %f 입니다\""
      ],
      "metadata": {
        "id": "8qlBeS9vsfOo"
      },
      "execution_count": null,
      "outputs": []
    },
    {
      "cell_type": "code",
      "source": [
        "a % (math.pi)"
      ],
      "metadata": {
        "colab": {
          "base_uri": "https://localhost:8080/",
          "height": 35
        },
        "id": "0KZcXt1nsjO4",
        "outputId": "b0f97c7f-f775-4a6d-e365-1c5173d863e0"
      },
      "execution_count": null,
      "outputs": [
        {
          "output_type": "execute_result",
          "data": {
            "text/plain": [
              "'원주율은 3.141593 입니다'"
            ],
            "application/vnd.google.colaboratory.intrinsic+json": {
              "type": "string"
            }
          },
          "metadata": {},
          "execution_count": 27
        }
      ]
    },
    {
      "cell_type": "code",
      "source": [
        "\"원주율은 %.2f 입니다\" % (math.pi)"
      ],
      "metadata": {
        "colab": {
          "base_uri": "https://localhost:8080/",
          "height": 35
        },
        "id": "6INgNB6wsnN4",
        "outputId": "28c5fd74-71fb-455a-91d8-31be39c0f52b"
      },
      "execution_count": null,
      "outputs": [
        {
          "output_type": "execute_result",
          "data": {
            "text/plain": [
              "'원주율은 3.14 입니다'"
            ],
            "application/vnd.google.colaboratory.intrinsic+json": {
              "type": "string"
            }
          },
          "metadata": {},
          "execution_count": 28
        }
      ]
    },
    {
      "cell_type": "markdown",
      "source": [
        "## 방법2 **format() 함수** 사용"
      ],
      "metadata": {
        "id": "EmcnPHI_qx0Q"
      }
    },
    {
      "cell_type": "code",
      "source": [
        "fmt1 = \"내 이름은 {}, 나는 {} 살입니다\"\n",
        "fmt1"
      ],
      "metadata": {
        "colab": {
          "base_uri": "https://localhost:8080/",
          "height": 35
        },
        "id": "Jl2cB0Niq6ro",
        "outputId": "f569b64e-f12a-48e9-f775-5b0cef6ebb29"
      },
      "execution_count": null,
      "outputs": [
        {
          "output_type": "execute_result",
          "data": {
            "text/plain": [
              "'내 이름은 {}, 나는 {} 살입니다'"
            ],
            "application/vnd.google.colaboratory.intrinsic+json": {
              "type": "string"
            }
          },
          "metadata": {},
          "execution_count": 29
        }
      ]
    },
    {
      "cell_type": "code",
      "source": [
        "fmt1.format(\"장고운\", 34)"
      ],
      "metadata": {
        "colab": {
          "base_uri": "https://localhost:8080/",
          "height": 35
        },
        "id": "AUXvRakctFOJ",
        "outputId": "9bd0f721-1561-4139-fad1-2b88a54e72d8"
      },
      "execution_count": null,
      "outputs": [
        {
          "output_type": "execute_result",
          "data": {
            "text/plain": [
              "'내 이름은 장고운, 나는 34 살입니다'"
            ],
            "application/vnd.google.colaboratory.intrinsic+json": {
              "type": "string"
            }
          },
          "metadata": {},
          "execution_count": 30
        }
      ]
    },
    {
      "cell_type": "code",
      "source": [
        "fmt2 = \"내 이름은 {name}, 나는 {age} 살입니다\"\n",
        "fmt2"
      ],
      "metadata": {
        "colab": {
          "base_uri": "https://localhost:8080/",
          "height": 35
        },
        "id": "6t1AbjRctIRz",
        "outputId": "1b5d2f25-6f45-46a3-d0b0-942df8ad2ff7"
      },
      "execution_count": null,
      "outputs": [
        {
          "output_type": "execute_result",
          "data": {
            "text/plain": [
              "'내 이름은 {name}, 나는 {age} 살입니다'"
            ],
            "application/vnd.google.colaboratory.intrinsic+json": {
              "type": "string"
            }
          },
          "metadata": {},
          "execution_count": 31
        }
      ]
    },
    {
      "cell_type": "code",
      "source": [
        "fmt2.format(name = \"김동호\",age = 32)"
      ],
      "metadata": {
        "colab": {
          "base_uri": "https://localhost:8080/",
          "height": 35
        },
        "id": "SCaHeg08tSSC",
        "outputId": "68dc66ff-4fde-4f49-9120-82fbc3c3d2c4"
      },
      "execution_count": null,
      "outputs": [
        {
          "output_type": "execute_result",
          "data": {
            "text/plain": [
              "'내 이름은 김동호, 나는 32 살입니다'"
            ],
            "application/vnd.google.colaboratory.intrinsic+json": {
              "type": "string"
            }
          },
          "metadata": {},
          "execution_count": 33
        }
      ]
    },
    {
      "cell_type": "code",
      "source": [
        "print(\"{}\".format(math.pi))\n",
        "print(\"{:.3f}\".format(math.pi))"
      ],
      "metadata": {
        "colab": {
          "base_uri": "https://localhost:8080/"
        },
        "id": "CtOg1AUTtbZ-",
        "outputId": "f3622b49-4f99-4a51-ce89-5a44edd8312c"
      },
      "execution_count": null,
      "outputs": [
        {
          "output_type": "stream",
          "name": "stdout",
          "text": [
            "3.141592653589793\n",
            "3.142\n"
          ]
        }
      ]
    },
    {
      "cell_type": "markdown",
      "source": [
        "## 방법3 **f-string 사용"
      ],
      "metadata": {
        "id": "hWKIEFcOq32B"
      }
    },
    {
      "cell_type": "code",
      "source": [
        "name = '신철희'\n",
        "age = 38"
      ],
      "metadata": {
        "id": "U4F6oyFcpysF"
      },
      "execution_count": null,
      "outputs": []
    },
    {
      "cell_type": "code",
      "source": [
        "'이름: {}, 나이: {}'.format(name, age)"
      ],
      "metadata": {
        "id": "S1Etepojpvkj"
      },
      "execution_count": null,
      "outputs": []
    },
    {
      "cell_type": "code",
      "source": [
        "f'이름: {name}, 나이: {age}'"
      ],
      "metadata": {
        "id": "dmfzPrLwpfOr"
      },
      "execution_count": null,
      "outputs": []
    },
    {
      "cell_type": "code",
      "source": [
        "f'원주율은 {math.pi} 입니다'"
      ],
      "metadata": {
        "id": "kRPFEj9JpY3V"
      },
      "execution_count": null,
      "outputs": []
    },
    {
      "cell_type": "code",
      "source": [],
      "metadata": {
        "id": "fNH2ut2hWtty"
      },
      "execution_count": null,
      "outputs": []
    },
    {
      "cell_type": "code",
      "source": [],
      "metadata": {
        "id": "JGDHfK-3Wcvg"
      },
      "execution_count": null,
      "outputs": []
    },
    {
      "cell_type": "code",
      "source": [],
      "metadata": {
        "id": "iRIQ8NLEV2Fs"
      },
      "execution_count": null,
      "outputs": []
    },
    {
      "cell_type": "code",
      "execution_count": null,
      "metadata": {
        "id": "Ci1M5EYOVfl_"
      },
      "outputs": [],
      "source": []
    }
  ]
}