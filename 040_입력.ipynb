{
  "nbformat": 4,
  "nbformat_minor": 0,
  "metadata": {
    "colab": {
      "provenance": [],
      "authorship_tag": "ABX9TyMoB6/0uAnJdNWXlINSyrTj",
      "include_colab_link": true
    },
    "kernelspec": {
      "name": "python3",
      "display_name": "Python 3"
    },
    "language_info": {
      "name": "python"
    }
  },
  "cells": [
    {
      "cell_type": "markdown",
      "metadata": {
        "id": "view-in-github",
        "colab_type": "text"
      },
      "source": [
        "<a href=\"https://colab.research.google.com/github/jh981117/Study_Python/blob/main/040_%EC%9E%85%EB%A0%A5.ipynb\" target=\"_parent\"><img src=\"https://colab.research.google.com/assets/colab-badge.svg\" alt=\"Open In Colab\"/></a>"
      ]
    },
    {
      "cell_type": "markdown",
      "source": [
        "# 기본입력함수 input()"
      ],
      "metadata": {
        "id": "eSrQfyS3vw5g"
      }
    },
    {
      "cell_type": "code",
      "execution_count": null,
      "metadata": {
        "id": "1B5ojipPvnsk"
      },
      "outputs": [],
      "source": [
        "# 파이썬 기본입력 함수 input()\n",
        "# 기본적으로 input() 함수는 키보드로 부터 입력받아\n",
        "# 문자열(str) 으로 리턴합니다\n",
        "\n"
      ]
    },
    {
      "cell_type": "code",
      "source": [
        "a = input()"
      ],
      "metadata": {
        "colab": {
          "base_uri": "https://localhost:8080/"
        },
        "id": "w4nu48KlwAab",
        "outputId": "f18d10d2-2eac-4527-c722-6b5623fcfdba"
      },
      "execution_count": null,
      "outputs": [
        {
          "name": "stdout",
          "output_type": "stream",
          "text": [
            "10\n"
          ]
        }
      ]
    },
    {
      "cell_type": "code",
      "source": [
        "a"
      ],
      "metadata": {
        "colab": {
          "base_uri": "https://localhost:8080/",
          "height": 35
        },
        "id": "hXKXuXBEwGTt",
        "outputId": "4ab625a4-1ae0-4685-ced7-03afd963ede3"
      },
      "execution_count": null,
      "outputs": [
        {
          "output_type": "execute_result",
          "data": {
            "text/plain": [
              "'10'"
            ],
            "application/vnd.google.colaboratory.intrinsic+json": {
              "type": "string"
            }
          },
          "metadata": {},
          "execution_count": 3
        }
      ]
    },
    {
      "cell_type": "code",
      "source": [
        "# a + 8 # input () 결과값은 str이다! 산술연산 불가"
      ],
      "metadata": {
        "id": "keTkSvMMwIs4"
      },
      "execution_count": null,
      "outputs": []
    },
    {
      "cell_type": "code",
      "source": [
        "a = int(input())"
      ],
      "metadata": {
        "colab": {
          "base_uri": "https://localhost:8080/"
        },
        "id": "xOqzcONRwQeK",
        "outputId": "1b0eaa3a-0be4-4513-fa4b-e458b9290bdd"
      },
      "execution_count": null,
      "outputs": [
        {
          "name": "stdout",
          "output_type": "stream",
          "text": [
            "20\n"
          ]
        }
      ]
    },
    {
      "cell_type": "code",
      "source": [
        "a, type(a)"
      ],
      "metadata": {
        "colab": {
          "base_uri": "https://localhost:8080/"
        },
        "id": "rlEJ0VytwfBQ",
        "outputId": "fec4f403-a8b0-4f82-e7e9-e1fd7a1718fe"
      },
      "execution_count": null,
      "outputs": [
        {
          "output_type": "execute_result",
          "data": {
            "text/plain": [
              "(20, int)"
            ]
          },
          "metadata": {},
          "execution_count": 7
        }
      ]
    },
    {
      "cell_type": "code",
      "source": [
        "a + 8"
      ],
      "metadata": {
        "colab": {
          "base_uri": "https://localhost:8080/"
        },
        "id": "h3VAfNuZwiev",
        "outputId": "e0370cf5-ef41-4686-b60e-b7e94a441b0f"
      },
      "execution_count": null,
      "outputs": [
        {
          "output_type": "execute_result",
          "data": {
            "text/plain": [
              "28"
            ]
          },
          "metadata": {},
          "execution_count": 8
        }
      ]
    },
    {
      "cell_type": "code",
      "source": [
        "print(\"키를 입력하세요\", end=\"\")\n",
        "height = float(input())\n",
        "\n",
        "print(height, type(height))"
      ],
      "metadata": {
        "colab": {
          "base_uri": "https://localhost:8080/"
        },
        "id": "tBgMpLYSw2v4",
        "outputId": "2d0dc90a-7378-4fc0-f153-bde110bfd856"
      },
      "execution_count": null,
      "outputs": [
        {
          "output_type": "stream",
          "name": "stdout",
          "text": [
            "키를 입력하세요143.8\n",
            "143.8 <class 'float'>\n"
          ]
        }
      ]
    },
    {
      "cell_type": "code",
      "source": [
        "# prompt 를 사용한 input\n",
        "age = int(input(\"나이를 입력하세요: \"))\n",
        "\n",
        "print('나이 =', age)"
      ],
      "metadata": {
        "colab": {
          "base_uri": "https://localhost:8080/"
        },
        "id": "myKWOEkbxCJn",
        "outputId": "92ea06f2-4ee5-4540-a604-537a0393e1bc"
      },
      "execution_count": null,
      "outputs": [
        {
          "output_type": "stream",
          "name": "stdout",
          "text": [
            "나이를 입력하세요: 34\n",
            "나이 = 34\n"
          ]
        }
      ]
    },
    {
      "cell_type": "markdown",
      "source": [
        "# input 으로 한번에 여러개 입력 받기"
      ],
      "metadata": {
        "id": "HuNz_ykcx0gY"
      }
    },
    {
      "cell_type": "code",
      "source": [
        "# a, b, c = input(\"3개를 입력하세요\")"
      ],
      "metadata": {
        "id": "e56_nyzWxeOH"
      },
      "execution_count": null,
      "outputs": []
    },
    {
      "cell_type": "code",
      "source": [
        "# 방법1: input().split() 공백기준으로 구분"
      ],
      "metadata": {
        "id": "pUcE3Pbmx6Yc"
      },
      "execution_count": null,
      "outputs": []
    },
    {
      "cell_type": "code",
      "source": [
        "a, b, c = input(\"3개를 입력하세요\").split()\n",
        "print(f'a={a}, b={b}, c={c}')"
      ],
      "metadata": {
        "colab": {
          "base_uri": "https://localhost:8080/"
        },
        "id": "JfSviVPGyx1Q",
        "outputId": "bf66b353-2d52-4060-c81f-90e311aa8614"
      },
      "execution_count": null,
      "outputs": [
        {
          "output_type": "stream",
          "name": "stdout",
          "text": [
            "3개를 입력하세요10 20 30\n",
            "a=10, b=20, c=30\n"
          ]
        }
      ]
    },
    {
      "cell_type": "code",
      "source": [],
      "metadata": {
        "id": "_HFWKdiYy6Px"
      },
      "execution_count": null,
      "outputs": []
    }
  ]
}