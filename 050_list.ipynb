{
  "nbformat": 4,
  "nbformat_minor": 0,
  "metadata": {
    "colab": {
      "provenance": [],
      "authorship_tag": "ABX9TyNZNB5H15aMSJ1fj2vMLiXR",
      "include_colab_link": true
    },
    "kernelspec": {
      "name": "python3",
      "display_name": "Python 3"
    },
    "language_info": {
      "name": "python"
    }
  },
  "cells": [
    {
      "cell_type": "markdown",
      "metadata": {
        "id": "view-in-github",
        "colab_type": "text"
      },
      "source": [
        "<a href=\"https://colab.research.google.com/github/jh981117/Study_Python/blob/main/050_list.ipynb\" target=\"_parent\"><img src=\"https://colab.research.google.com/assets/colab-badge.svg\" alt=\"Open In Colab\"/></a>"
      ]
    },
    {
      "cell_type": "code",
      "execution_count": null,
      "metadata": {
        "id": "y2Uor-TGi0u9"
      },
      "outputs": [],
      "source": [
        "# 여러개의 데이터를 담는 집합 데이터 타입들..\n",
        "#1. list   :  순서있다.  중복허용,  mutable\n",
        "#2. tuple  :  순서있다,  중복허용,  immutable\n",
        "#3. set : 순서없다,  중복허용안함\n",
        "#4. dict : key, value 쌍으로 구성, 순서없다."
      ]
    },
    {
      "cell_type": "markdown",
      "source": [
        "#List\n"
      ],
      "metadata": {
        "id": "CBP5MGP_i9g1"
      }
    },
    {
      "cell_type": "code",
      "source": [
        "# list 는   [   ]  으로 만든다\n",
        "# 데이터(원소) 들은 , 콤마로 구분한다\n",
        "# 각 데이터(원소) 들은 어떠한 타입도 가능하다"
      ],
      "metadata": {
        "id": "4kFLOTt1i-uo"
      },
      "execution_count": null,
      "outputs": []
    },
    {
      "cell_type": "code",
      "source": [
        "animals = [\"dog\", \"cat\", 'bird', 'fish']\n",
        "print(animals)"
      ],
      "metadata": {
        "colab": {
          "base_uri": "https://localhost:8080/"
        },
        "id": "qoD8U3xqi6jM",
        "outputId": "c84cc688-d507-45e5-9365-f842d67fee38"
      },
      "execution_count": null,
      "outputs": [
        {
          "output_type": "stream",
          "name": "stdout",
          "text": [
            "['dog', 'cat', 'bird', 'fish']\n"
          ]
        }
      ]
    },
    {
      "cell_type": "code",
      "source": [
        "type(animals)"
      ],
      "metadata": {
        "colab": {
          "base_uri": "https://localhost:8080/"
        },
        "id": "YIabxaZ4i6gk",
        "outputId": "06e94d69-3296-43f9-bbae-121f8a133ade"
      },
      "execution_count": null,
      "outputs": [
        {
          "output_type": "execute_result",
          "data": {
            "text/plain": [
              "list"
            ]
          },
          "metadata": {},
          "execution_count": 4
        }
      ]
    },
    {
      "cell_type": "markdown",
      "source": [
        "##index(인덱싱)"
      ],
      "metadata": {
        "id": "57W7ZhL_jFLX"
      }
    },
    {
      "cell_type": "code",
      "source": [
        "animals[0]"
      ],
      "metadata": {
        "colab": {
          "base_uri": "https://localhost:8080/",
          "height": 35
        },
        "id": "mrMJGzKYi6d0",
        "outputId": "dee21196-07e3-4c19-af23-dbd238c88136"
      },
      "execution_count": null,
      "outputs": [
        {
          "output_type": "execute_result",
          "data": {
            "text/plain": [
              "'dog'"
            ],
            "application/vnd.google.colaboratory.intrinsic+json": {
              "type": "string"
            }
          },
          "metadata": {},
          "execution_count": 5
        }
      ]
    },
    {
      "cell_type": "code",
      "source": [
        "type(animals[0])"
      ],
      "metadata": {
        "colab": {
          "base_uri": "https://localhost:8080/"
        },
        "id": "paqE9mxei6bE",
        "outputId": "eda812d9-0451-42d1-df7c-cdcc8940f7fd"
      },
      "execution_count": null,
      "outputs": [
        {
          "output_type": "execute_result",
          "data": {
            "text/plain": [
              "str"
            ]
          },
          "metadata": {},
          "execution_count": 6
        }
      ]
    },
    {
      "cell_type": "code",
      "source": [
        "animals"
      ],
      "metadata": {
        "colab": {
          "base_uri": "https://localhost:8080/"
        },
        "id": "cK_n8fI2i6YU",
        "outputId": "e7643857-4b03-4c70-ddae-6c1af4485d4f"
      },
      "execution_count": null,
      "outputs": [
        {
          "output_type": "execute_result",
          "data": {
            "text/plain": [
              "['dog', 'cat', 'bird', 'fish']"
            ]
          },
          "metadata": {},
          "execution_count": 7
        }
      ]
    },
    {
      "cell_type": "code",
      "source": [
        "# animals[4]  # IndexError"
      ],
      "metadata": {
        "id": "THF7g8FOi6Vs"
      },
      "execution_count": null,
      "outputs": []
    },
    {
      "cell_type": "code",
      "source": [
        "# 음수 인덱싱 가능!\n",
        "animals[-1]"
      ],
      "metadata": {
        "colab": {
          "base_uri": "https://localhost:8080/",
          "height": 35
        },
        "id": "phfVnamxi6TE",
        "outputId": "941d1635-604d-4399-ad90-170d3ae77052"
      },
      "execution_count": null,
      "outputs": [
        {
          "output_type": "execute_result",
          "data": {
            "text/plain": [
              "'fish'"
            ],
            "application/vnd.google.colaboratory.intrinsic+json": {
              "type": "string"
            }
          },
          "metadata": {},
          "execution_count": 9
        }
      ]
    },
    {
      "cell_type": "markdown",
      "source": [
        "## list는 mutable하다\n",
        "원소 변경 가능"
      ],
      "metadata": {
        "id": "taws6EPujNPN"
      }
    },
    {
      "cell_type": "code",
      "source": [
        "print(animals)\n",
        "animals[2] = 'mouse'\n",
        "print(animals)"
      ],
      "metadata": {
        "colab": {
          "base_uri": "https://localhost:8080/"
        },
        "id": "DiG6y4nwi6Qd",
        "outputId": "1dbc38e7-65c7-46b5-b1aa-58734abbe7cb"
      },
      "execution_count": null,
      "outputs": [
        {
          "output_type": "stream",
          "name": "stdout",
          "text": [
            "['dog', 'cat', 'bird', 'fish']\n",
            "['dog', 'cat', 'mouse', 'fish']\n"
          ]
        }
      ]
    },
    {
      "cell_type": "code",
      "source": [
        "# len() 함수\n",
        "len(animals)"
      ],
      "metadata": {
        "colab": {
          "base_uri": "https://localhost:8080/"
        },
        "id": "_TeTunMUi6Ns",
        "outputId": "d6214658-8d86-4d2d-a994-dcad7848c9b6"
      },
      "execution_count": null,
      "outputs": [
        {
          "output_type": "execute_result",
          "data": {
            "text/plain": [
              "4"
            ]
          },
          "metadata": {},
          "execution_count": 11
        }
      ]
    },
    {
      "cell_type": "markdown",
      "source": [
        "## 슬라이싱 (slicing)\n",
        "- 일부분 추출\n",
        "- 범위연산자[:] 사용\n",
        "- step 값 사용가능"
      ],
      "metadata": {
        "id": "DPk7AYpFjSF1"
      }
    },
    {
      "cell_type": "code",
      "source": [
        "animals = ['dog', 'dog', 'cat', 'bird', 'fish']"
      ],
      "metadata": {
        "id": "S3ov0sBni6LE"
      },
      "execution_count": null,
      "outputs": []
    },
    {
      "cell_type": "code",
      "source": [
        "animals"
      ],
      "metadata": {
        "colab": {
          "base_uri": "https://localhost:8080/"
        },
        "id": "zKFnVjPSi6Ik",
        "outputId": "b4552cb0-de38-4f65-9934-74d46a0dde1a"
      },
      "execution_count": null,
      "outputs": [
        {
          "output_type": "execute_result",
          "data": {
            "text/plain": [
              "['dog', 'dog', 'cat', 'bird', 'fish']"
            ]
          },
          "metadata": {},
          "execution_count": 13
        }
      ]
    },
    {
      "cell_type": "code",
      "source": [
        "animals[0:3]  # 0부터 3전까지"
      ],
      "metadata": {
        "colab": {
          "base_uri": "https://localhost:8080/"
        },
        "id": "W-NLug6li6F8",
        "outputId": "9d99232d-4aee-4001-9eaf-bd47ffa6d7de"
      },
      "execution_count": null,
      "outputs": [
        {
          "output_type": "execute_result",
          "data": {
            "text/plain": [
              "['dog', 'dog', 'cat']"
            ]
          },
          "metadata": {},
          "execution_count": 14
        }
      ]
    },
    {
      "cell_type": "code",
      "source": [
        "animals[1:4]"
      ],
      "metadata": {
        "colab": {
          "base_uri": "https://localhost:8080/"
        },
        "id": "ggYja6CZi6Dk",
        "outputId": "13c0b65d-4760-491a-87d5-9f3704a68138"
      },
      "execution_count": null,
      "outputs": [
        {
          "output_type": "execute_result",
          "data": {
            "text/plain": [
              "['dog', 'cat', 'bird']"
            ]
          },
          "metadata": {},
          "execution_count": 15
        }
      ]
    },
    {
      "cell_type": "code",
      "source": [
        "animals[:2]   # 처음부터 2 전까지"
      ],
      "metadata": {
        "colab": {
          "base_uri": "https://localhost:8080/"
        },
        "id": "Owa7GvLKi6A8",
        "outputId": "67c89ce1-54c2-447d-ed15-33000e899f6c"
      },
      "execution_count": null,
      "outputs": [
        {
          "output_type": "execute_result",
          "data": {
            "text/plain": [
              "['dog', 'dog']"
            ]
          },
          "metadata": {},
          "execution_count": 16
        }
      ]
    },
    {
      "cell_type": "code",
      "source": [
        "animals[2:]   # 2부터 끝까지"
      ],
      "metadata": {
        "colab": {
          "base_uri": "https://localhost:8080/"
        },
        "id": "7EjvezCjjYd1",
        "outputId": "83fbfc32-3e32-44e0-c0cc-7ab8b5de1d6a"
      },
      "execution_count": null,
      "outputs": [
        {
          "output_type": "execute_result",
          "data": {
            "text/plain": [
              "['cat', 'bird', 'fish']"
            ]
          },
          "metadata": {},
          "execution_count": 17
        }
      ]
    },
    {
      "cell_type": "code",
      "source": [
        "animals[:]   # 전체범위"
      ],
      "metadata": {
        "colab": {
          "base_uri": "https://localhost:8080/"
        },
        "id": "NDQLlAtfjYbV",
        "outputId": "4268305c-f3cc-4bcc-e476-39ca78f1f0dc"
      },
      "execution_count": null,
      "outputs": [
        {
          "output_type": "execute_result",
          "data": {
            "text/plain": [
              "['dog', 'dog', 'cat', 'bird', 'fish']"
            ]
          },
          "metadata": {},
          "execution_count": 18
        }
      ]
    },
    {
      "cell_type": "code",
      "source": [
        "i = 2\n",
        "animals[:i]"
      ],
      "metadata": {
        "colab": {
          "base_uri": "https://localhost:8080/"
        },
        "id": "KQhfj6YOjYY1",
        "outputId": "043b1626-2620-42f6-e404-232489343445"
      },
      "execution_count": null,
      "outputs": [
        {
          "output_type": "execute_result",
          "data": {
            "text/plain": [
              "['dog', 'dog']"
            ]
          },
          "metadata": {},
          "execution_count": 19
        }
      ]
    },
    {
      "cell_type": "code",
      "source": [
        "# step 값\n",
        "myList = [0, 1, 2, 3, 4, 5, 6, 7, 8, 9, 10]\n",
        "print(myList[1:7])\n",
        "print(myList[1:7:2])  # step 2 건너띄는 값\n",
        "print(myList[3::3])\n",
        "print(myList[::])\n",
        "print(myList[::2])\n",
        "print(myList[5:0])  # []\n",
        "print(myList[5:0:-1])\n",
        "print(myList[::-1])  # 역순!"
      ],
      "metadata": {
        "colab": {
          "base_uri": "https://localhost:8080/"
        },
        "id": "q5MMZ6bkjYWV",
        "outputId": "4d4de5d2-2724-40c2-ad7e-58f9e4ee75d8"
      },
      "execution_count": null,
      "outputs": [
        {
          "output_type": "stream",
          "name": "stdout",
          "text": [
            "[1, 2, 3, 4, 5, 6]\n",
            "[1, 3, 5]\n",
            "[3, 6, 9]\n",
            "[0, 1, 2, 3, 4, 5, 6, 7, 8, 9, 10]\n",
            "[0, 2, 4, 6, 8, 10]\n",
            "[]\n",
            "[5, 4, 3, 2, 1]\n",
            "[10, 9, 8, 7, 6, 5, 4, 3, 2, 1, 0]\n"
          ]
        }
      ]
    },
    {
      "cell_type": "markdown",
      "source": [
        "# list 의 메소드"
      ],
      "metadata": {
        "id": "nzcaGzSyjeTN"
      }
    },
    {
      "cell_type": "code",
      "source": [
        "# append() : 데이터 (원소) 추가, 리스트 뒤에!"
      ],
      "metadata": {
        "id": "yFpq7Af1jYT1"
      },
      "execution_count": null,
      "outputs": []
    },
    {
      "cell_type": "code",
      "source": [
        "print(animals)\n",
        "animals.append('tiger')  # 리턴값 None,   원본변화 (list 가 mutable)"
      ],
      "metadata": {
        "colab": {
          "base_uri": "https://localhost:8080/"
        },
        "id": "ZHaVG6UgjYRF",
        "outputId": "0de3e791-eefc-4048-b766-d87a09767d59"
      },
      "execution_count": null,
      "outputs": [
        {
          "output_type": "stream",
          "name": "stdout",
          "text": [
            "['dog', 'dog', 'cat', 'bird', 'fish']\n"
          ]
        }
      ]
    },
    {
      "cell_type": "code",
      "source": [
        "animals"
      ],
      "metadata": {
        "colab": {
          "base_uri": "https://localhost:8080/"
        },
        "id": "ZkGRG5kgjYOV",
        "outputId": "9d990b9b-6bf7-4ede-d619-8e5cd5eb1504"
      },
      "execution_count": null,
      "outputs": [
        {
          "output_type": "execute_result",
          "data": {
            "text/plain": [
              "['dog', 'dog', 'cat', 'bird', 'fish', 'tiger']"
            ]
          },
          "metadata": {},
          "execution_count": 23
        }
      ]
    },
    {
      "cell_type": "code",
      "source": [
        "#del() 원소삭제"
      ],
      "metadata": {
        "id": "5iAodllKjcOV"
      },
      "execution_count": null,
      "outputs": []
    },
    {
      "cell_type": "code",
      "source": [
        "animals"
      ],
      "metadata": {
        "colab": {
          "base_uri": "https://localhost:8080/"
        },
        "id": "SULWjoBcjcLN",
        "outputId": "d721e333-2e8a-4565-dfc8-041cef2ddfbd"
      },
      "execution_count": null,
      "outputs": [
        {
          "output_type": "execute_result",
          "data": {
            "text/plain": [
              "['dog', 'dog', 'cat', 'bird', 'fish', 'tiger']"
            ]
          },
          "metadata": {},
          "execution_count": 25
        }
      ]
    },
    {
      "cell_type": "code",
      "source": [
        "del(animals[1])"
      ],
      "metadata": {
        "id": "pQx3n1BzjcIt"
      },
      "execution_count": null,
      "outputs": []
    },
    {
      "cell_type": "code",
      "source": [
        "animals"
      ],
      "metadata": {
        "colab": {
          "base_uri": "https://localhost:8080/"
        },
        "id": "NHovNX1PjcGN",
        "outputId": "cc67f104-ad09-4d9b-bde8-b444e766aff6"
      },
      "execution_count": null,
      "outputs": [
        {
          "output_type": "execute_result",
          "data": {
            "text/plain": [
              "['dog', 'cat', 'bird', 'fish', 'tiger']"
            ]
          },
          "metadata": {},
          "execution_count": 27
        }
      ]
    },
    {
      "cell_type": "markdown",
      "source": [
        "# list 연산 + , *"
      ],
      "metadata": {
        "id": "gEYkSmkDjkL8"
      }
    },
    {
      "cell_type": "code",
      "source": [
        "animals = [\"dog\", \"dog\", \"cat\", \"bird\"]\n",
        "colors = [\"white\", \"blue\", \"red\"]\n",
        "\n",
        "# list + list => list"
      ],
      "metadata": {
        "id": "5TSiQ_QPjcC9"
      },
      "execution_count": null,
      "outputs": []
    },
    {
      "cell_type": "code",
      "source": [
        "animals + colors"
      ],
      "metadata": {
        "colab": {
          "base_uri": "https://localhost:8080/"
        },
        "id": "63ej10tBjcAV",
        "outputId": "c49222cc-6ca6-4042-df57-6d76fdf97543"
      },
      "execution_count": null,
      "outputs": [
        {
          "output_type": "execute_result",
          "data": {
            "text/plain": [
              "['dog', 'dog', 'cat', 'bird', 'white', 'blue', 'red']"
            ]
          },
          "metadata": {},
          "execution_count": 29
        }
      ]
    },
    {
      "cell_type": "code",
      "source": [
        "animals * 2"
      ],
      "metadata": {
        "colab": {
          "base_uri": "https://localhost:8080/"
        },
        "id": "H5gWRV6hjb9l",
        "outputId": "393697a8-dea7-4bcf-cb9f-7e38f1ca8514"
      },
      "execution_count": null,
      "outputs": [
        {
          "output_type": "execute_result",
          "data": {
            "text/plain": [
              "['dog', 'dog', 'cat', 'bird', 'dog', 'dog', 'cat', 'bird']"
            ]
          },
          "metadata": {},
          "execution_count": 30
        }
      ]
    },
    {
      "cell_type": "markdown",
      "source": [
        "# 다차원 리스트"
      ],
      "metadata": {
        "id": "ZNmcyA3ejnak"
      }
    },
    {
      "cell_type": "code",
      "source": [
        "# 1차원 리스트\n",
        "colors[0], colors[1]"
      ],
      "metadata": {
        "colab": {
          "base_uri": "https://localhost:8080/"
        },
        "id": "MNWE3Sx7jb69",
        "outputId": "9973c42d-5cfa-420d-8006-1510f212f1c9"
      },
      "execution_count": null,
      "outputs": [
        {
          "output_type": "execute_result",
          "data": {
            "text/plain": [
              "('white', 'blue')"
            ]
          },
          "metadata": {},
          "execution_count": 31
        }
      ]
    },
    {
      "cell_type": "code",
      "source": [
        "data = [\n",
        "    [1, 2, 3],\n",
        "    [10, 20, 30],\n",
        "    [40, 50, 60],\n",
        "]"
      ],
      "metadata": {
        "id": "7MvttGAQjo1c"
      },
      "execution_count": null,
      "outputs": []
    },
    {
      "cell_type": "code",
      "source": [
        "len(data)"
      ],
      "metadata": {
        "colab": {
          "base_uri": "https://localhost:8080/"
        },
        "id": "VZL0Njp3jpDM",
        "outputId": "82ab4cd8-e750-406f-a7dd-20f02a5ac897"
      },
      "execution_count": null,
      "outputs": [
        {
          "output_type": "execute_result",
          "data": {
            "text/plain": [
              "3"
            ]
          },
          "metadata": {},
          "execution_count": 33
        }
      ]
    },
    {
      "cell_type": "code",
      "source": [
        "data"
      ],
      "metadata": {
        "colab": {
          "base_uri": "https://localhost:8080/"
        },
        "id": "yx-9fVUAjo4d",
        "outputId": "16c6a34a-bf28-4e87-aecb-fca8735eeca8"
      },
      "execution_count": null,
      "outputs": [
        {
          "output_type": "execute_result",
          "data": {
            "text/plain": [
              "[[1, 2, 3], [10, 20, 30], [40, 50, 60]]"
            ]
          },
          "metadata": {},
          "execution_count": 34
        }
      ]
    },
    {
      "cell_type": "code",
      "source": [
        "data[0]"
      ],
      "metadata": {
        "colab": {
          "base_uri": "https://localhost:8080/"
        },
        "id": "gm80XWfRjb4d",
        "outputId": "fa2b4c2f-15cc-4014-d77c-bdbd38fb5cae"
      },
      "execution_count": null,
      "outputs": [
        {
          "output_type": "execute_result",
          "data": {
            "text/plain": [
              "[1, 2, 3]"
            ]
          },
          "metadata": {},
          "execution_count": 35
        }
      ]
    },
    {
      "cell_type": "code",
      "source": [
        "data[0][1]"
      ],
      "metadata": {
        "colab": {
          "base_uri": "https://localhost:8080/"
        },
        "id": "R4ROtomkjb11",
        "outputId": "ae9ba585-c388-4669-88e9-cb230159474a"
      },
      "execution_count": null,
      "outputs": [
        {
          "output_type": "execute_result",
          "data": {
            "text/plain": [
              "2"
            ]
          },
          "metadata": {},
          "execution_count": 36
        }
      ]
    },
    {
      "cell_type": "code",
      "source": [
        "# data --> 2차원 list\n",
        "# data[0] --> 1차원 list\n",
        "# data[0][0] --> 0차원, scalar 값\n",
        "\n",
        "# index 할때마다 차원감소 발생"
      ],
      "metadata": {
        "id": "LXoK5DiYjsM0"
      },
      "execution_count": null,
      "outputs": []
    },
    {
      "cell_type": "code",
      "source": [
        "data = [\n",
        "    [1, 2, 3, 4, 5],\n",
        "    [10, 20, 30, 40, 50],\n",
        "    [11, 22, 33, 44, 55]\n",
        "]"
      ],
      "metadata": {
        "id": "G5QVCxGQjsKU"
      },
      "execution_count": null,
      "outputs": []
    },
    {
      "cell_type": "code",
      "source": [
        "# [10, 20, 30]\n",
        "data[1][:3]"
      ],
      "metadata": {
        "colab": {
          "base_uri": "https://localhost:8080/"
        },
        "id": "4VqbXSHYjsH0",
        "outputId": "df23d8cc-29ba-4091-f6f1-1e4dd80dae89"
      },
      "execution_count": null,
      "outputs": [
        {
          "output_type": "execute_result",
          "data": {
            "text/plain": [
              "[10, 20, 30]"
            ]
          },
          "metadata": {},
          "execution_count": 39
        }
      ]
    },
    {
      "cell_type": "code",
      "source": [
        "data[0:2]"
      ],
      "metadata": {
        "colab": {
          "base_uri": "https://localhost:8080/"
        },
        "id": "Jy8liU6Qjv9l",
        "outputId": "a992dfb0-8fbb-4296-85fb-da5fab808bca"
      },
      "execution_count": null,
      "outputs": [
        {
          "output_type": "execute_result",
          "data": {
            "text/plain": [
              "[[1, 2, 3, 4, 5], [10, 20, 30, 40, 50]]"
            ]
          },
          "metadata": {},
          "execution_count": 40
        }
      ]
    },
    {
      "cell_type": "code",
      "source": [
        "data[::2]"
      ],
      "metadata": {
        "colab": {
          "base_uri": "https://localhost:8080/"
        },
        "id": "8YfBkxzYjv7N",
        "outputId": "71d7dcd3-01eb-43c6-c997-40d46e23f179"
      },
      "execution_count": null,
      "outputs": [
        {
          "output_type": "execute_result",
          "data": {
            "text/plain": [
              "[[1, 2, 3, 4, 5], [11, 22, 33, 44, 55]]"
            ]
          },
          "metadata": {},
          "execution_count": 41
        }
      ]
    },
    {
      "cell_type": "markdown",
      "source": [
        "- iterable\n",
        "- str, list, tuple, set, dict 는 모두 iterable 하다"
      ],
      "metadata": {
        "id": "BuUOGS6VjzW9"
      }
    },
    {
      "cell_type": "markdown",
      "source": [
        "---\n",
        "# Assignment Unpacking\n",
        "list 는 iterable 객체다\n",
        "\n",
        "대입연산자와 iterable 을 사용하여 여러 개의 변수에 대입 가능  (이를 Assignment unpacking 이라 함)"
      ],
      "metadata": {
        "id": "mc2psEThj2jt"
      }
    },
    {
      "cell_type": "code",
      "source": [
        "a, b, c, d = 1, 2, 3, 4"
      ],
      "metadata": {
        "id": "uIuMrjEUjy8V"
      },
      "execution_count": null,
      "outputs": []
    },
    {
      "cell_type": "code",
      "source": [
        "a, b, c, d = [1, 2, 3, 4]"
      ],
      "metadata": {
        "id": "QKic96Xtjv4t"
      },
      "execution_count": null,
      "outputs": []
    },
    {
      "cell_type": "code",
      "source": [
        "a, b, c, d"
      ],
      "metadata": {
        "colab": {
          "base_uri": "https://localhost:8080/"
        },
        "id": "Fqz-xH9yjv2N",
        "outputId": "13be61ae-a809-44af-e968-5d7d86a0431f"
      },
      "execution_count": null,
      "outputs": [
        {
          "output_type": "execute_result",
          "data": {
            "text/plain": [
              "(1, 2, 3, 4)"
            ]
          },
          "metadata": {},
          "execution_count": 44
        }
      ]
    },
    {
      "cell_type": "code",
      "source": [
        "a, b, c = \"최진무\""
      ],
      "metadata": {
        "id": "tv8uSMLUjvzl"
      },
      "execution_count": null,
      "outputs": []
    },
    {
      "cell_type": "code",
      "source": [
        "a, b, c"
      ],
      "metadata": {
        "colab": {
          "base_uri": "https://localhost:8080/"
        },
        "id": "VnScWH69jvwl",
        "outputId": "9d262108-9988-4684-dc11-40b9f6b0b648"
      },
      "execution_count": null,
      "outputs": [
        {
          "output_type": "execute_result",
          "data": {
            "text/plain": [
              "('최', '진', '무')"
            ]
          },
          "metadata": {},
          "execution_count": 46
        }
      ]
    },
    {
      "cell_type": "code",
      "source": [
        "# starred expression 사용 하면 unpack 되는 값들보다 적은수의 변수들로도 받아낼수 있다.\n",
        "a, *b, c = [1, 2, 3, 4]"
      ],
      "metadata": {
        "id": "JlztRUzOj7Gd"
      },
      "execution_count": null,
      "outputs": []
    },
    {
      "cell_type": "code",
      "source": [
        "a, b, c"
      ],
      "metadata": {
        "colab": {
          "base_uri": "https://localhost:8080/"
        },
        "id": "twnujYzsj7D1",
        "outputId": "55b987cc-6cd9-459b-dea3-b343db5e4f40"
      },
      "execution_count": null,
      "outputs": [
        {
          "output_type": "execute_result",
          "data": {
            "text/plain": [
              "(1, [2, 3], 4)"
            ]
          },
          "metadata": {},
          "execution_count": 48
        }
      ]
    },
    {
      "cell_type": "code",
      "source": [
        "a, b, *c = [1, 2, 3, 4]\n",
        "a, b, c"
      ],
      "metadata": {
        "colab": {
          "base_uri": "https://localhost:8080/"
        },
        "id": "Q6TmOG64j671",
        "outputId": "8cbcdad8-7b86-44d4-9981-073cfe850592"
      },
      "execution_count": null,
      "outputs": [
        {
          "output_type": "execute_result",
          "data": {
            "text/plain": [
              "(1, 2, [3, 4])"
            ]
          },
          "metadata": {},
          "execution_count": 49
        }
      ]
    },
    {
      "cell_type": "code",
      "source": [
        "# a, *b, *c = [1, 2, 3, 4]   # 복수개의 starred expression 은 앙되요."
      ],
      "metadata": {
        "id": "8udqN5-ej65N"
      },
      "execution_count": null,
      "outputs": []
    },
    {
      "cell_type": "code",
      "source": [
        "_, a, _, b = [1, 2, 3, 4]\n",
        "a, b"
      ],
      "metadata": {
        "colab": {
          "base_uri": "https://localhost:8080/"
        },
        "id": "1XECzzSaj62l",
        "outputId": "48633ab9-b10c-4df2-a711-f8e7d0fe4934"
      },
      "execution_count": null,
      "outputs": [
        {
          "output_type": "execute_result",
          "data": {
            "text/plain": [
              "(2, 4)"
            ]
          },
          "metadata": {},
          "execution_count": 51
        }
      ]
    },
    {
      "cell_type": "code",
      "source": [
        "# walrus 연산자 사용  (Python 3.8 이상)\n",
        "my_list = [a:=3, b:=5, c:=7, d:=9]\n",
        "print(my_list)\n",
        "print(a)\n",
        "print(b)\n",
        "print(c)\n",
        "print(d)"
      ],
      "metadata": {
        "colab": {
          "base_uri": "https://localhost:8080/"
        },
        "id": "lwieRzd6jsEs",
        "outputId": "b2b84240-330c-4063-ce48-a98151f76f3c"
      },
      "execution_count": null,
      "outputs": [
        {
          "output_type": "stream",
          "name": "stdout",
          "text": [
            "[3, 5, 7, 9]\n",
            "3\n",
            "5\n",
            "7\n",
            "9\n"
          ]
        }
      ]
    },
    {
      "cell_type": "markdown",
      "source": [
        "# list 에 데이터 삽입하기"
      ],
      "metadata": {
        "id": "N9Cla967kCXd"
      }
    },
    {
      "cell_type": "code",
      "source": [
        "# 방법1 slice 사용"
      ],
      "metadata": {
        "id": "h-77VbO6kBBV"
      },
      "execution_count": null,
      "outputs": []
    },
    {
      "cell_type": "code",
      "source": [
        "animals = [\"dog\", \"dog\", \"cat\", \"bird\"]\n",
        "# cat 의 위치에 [\"shark\", \"fish\"] 추가 하여 ['dog', 'dog', 'shark', 'fish', 'bird']  ← 이렇게 만들고 싶다면?"
      ],
      "metadata": {
        "id": "m0YtJzAdkA-3"
      },
      "execution_count": null,
      "outputs": []
    },
    {
      "cell_type": "code",
      "source": [
        "animals[2] = [\"shark\", \"fish\"]\n",
        "animals"
      ],
      "metadata": {
        "colab": {
          "base_uri": "https://localhost:8080/"
        },
        "id": "XnT-BAF-kA8N",
        "outputId": "39cd290a-5662-4a6a-959d-1c2635a72fa7"
      },
      "execution_count": null,
      "outputs": [
        {
          "output_type": "execute_result",
          "data": {
            "text/plain": [
              "['dog', 'dog', ['shark', 'fish'], 'bird']"
            ]
          },
          "metadata": {},
          "execution_count": 55
        }
      ]
    },
    {
      "cell_type": "code",
      "source": [
        "animals = [\"dog\", \"dog\", \"cat\", \"bird\"]\n",
        "# slicing 의 결과에 '대입' 가능!\n",
        "animals[2:3] = ['shark', 'fish']  # cat 위치에 shark 와 fish 삽입\n",
        "animals"
      ],
      "metadata": {
        "colab": {
          "base_uri": "https://localhost:8080/"
        },
        "id": "g4b3GHCmkA5v",
        "outputId": "e6fc3d55-7bdb-4320-b9dd-245a6e32b1fd"
      },
      "execution_count": null,
      "outputs": [
        {
          "output_type": "execute_result",
          "data": {
            "text/plain": [
              "['dog', 'dog', 'shark', 'fish', 'bird']"
            ]
          },
          "metadata": {},
          "execution_count": 56
        }
      ]
    },
    {
      "cell_type": "code",
      "source": [
        "animals = [\"dog\", \"dog\", \"cat\", \"bird\"]\n",
        "# cat, bird 의 위치에 shark, fish 삽입 해보기 (slicing 사용)\n",
        "animals[2:4] = ['shark', 'fish']\n",
        "animals"
      ],
      "metadata": {
        "colab": {
          "base_uri": "https://localhost:8080/"
        },
        "id": "TMhhSj_FkA3N",
        "outputId": "1ed8e866-e410-40ed-ecf1-0376502b6181"
      },
      "execution_count": null,
      "outputs": [
        {
          "output_type": "execute_result",
          "data": {
            "text/plain": [
              "['dog', 'dog', 'shark', 'fish']"
            ]
          },
          "metadata": {},
          "execution_count": 57
        }
      ]
    },
    {
      "cell_type": "code",
      "source": [
        "# 방법2  .insert() 사용"
      ],
      "metadata": {
        "id": "wHHmHUwdkA03"
      },
      "execution_count": null,
      "outputs": []
    },
    {
      "cell_type": "code",
      "source": [
        "fruits = [\"Apple\", \"Banana\", \"Orange\"]\n",
        "fruits.insert(0, \"Lemon\")"
      ],
      "metadata": {
        "id": "yKvdWvkfkAyV"
      },
      "execution_count": null,
      "outputs": []
    },
    {
      "cell_type": "code",
      "source": [
        "fruits"
      ],
      "metadata": {
        "colab": {
          "base_uri": "https://localhost:8080/"
        },
        "id": "-4uUiUHhkAvu",
        "outputId": "5b5d4843-1390-4e49-dbaa-8ba39b282145"
      },
      "execution_count": null,
      "outputs": [
        {
          "output_type": "execute_result",
          "data": {
            "text/plain": [
              "['Lemon', 'Apple', 'Banana', 'Orange']"
            ]
          },
          "metadata": {},
          "execution_count": 60
        }
      ]
    },
    {
      "cell_type": "markdown",
      "source": [
        "# .index(value) : 값으로 인덱스 찾기"
      ],
      "metadata": {
        "id": "Zo4q0GRRkKXt"
      }
    },
    {
      "cell_type": "code",
      "source": [
        "fruits.index(\"Apple\")"
      ],
      "metadata": {
        "colab": {
          "base_uri": "https://localhost:8080/"
        },
        "id": "3hzbYamikAs1",
        "outputId": "b946f880-c4fb-4093-ac1e-041dff787013"
      },
      "execution_count": null,
      "outputs": [
        {
          "output_type": "execute_result",
          "data": {
            "text/plain": [
              "1"
            ]
          },
          "metadata": {},
          "execution_count": 61
        }
      ]
    },
    {
      "cell_type": "code",
      "source": [
        "# fruits.index(\"최진무\")  # 없는 원소 찾으면 ValueError"
      ],
      "metadata": {
        "id": "hcNS93QZkKAF"
      },
      "execution_count": null,
      "outputs": []
    },
    {
      "cell_type": "markdown",
      "source": [
        "# .remove(value)  특정 데이터 삭제"
      ],
      "metadata": {
        "id": "jGkvgb8jkNL1"
      }
    },
    {
      "cell_type": "code",
      "source": [
        "fruits"
      ],
      "metadata": {
        "colab": {
          "base_uri": "https://localhost:8080/"
        },
        "id": "tqcS6pB-kJ81",
        "outputId": "9c349fef-c908-48b2-d445-cc93a85213ca"
      },
      "execution_count": null,
      "outputs": [
        {
          "output_type": "execute_result",
          "data": {
            "text/plain": [
              "['Lemon', 'Apple', 'Banana', 'Orange']"
            ]
          },
          "metadata": {},
          "execution_count": 63
        }
      ]
    },
    {
      "cell_type": "code",
      "source": [
        "fruits.remove('Banana')"
      ],
      "metadata": {
        "id": "wJg4BKyQkJ6N"
      },
      "execution_count": null,
      "outputs": []
    },
    {
      "cell_type": "code",
      "source": [
        "fruits"
      ],
      "metadata": {
        "colab": {
          "base_uri": "https://localhost:8080/"
        },
        "id": "gBzt4Y2rkJ3V",
        "outputId": "9ec015d9-519a-4601-dd44-89e163ae95da"
      },
      "execution_count": null,
      "outputs": [
        {
          "output_type": "execute_result",
          "data": {
            "text/plain": [
              "['Lemon', 'Apple', 'Orange']"
            ]
          },
          "metadata": {},
          "execution_count": 65
        }
      ]
    },
    {
      "cell_type": "markdown",
      "source": [
        "# pop()\n",
        "리스트 맨 뒤의 원소 제거하여 리턴 (원본변화)"
      ],
      "metadata": {
        "id": "ofPEbLLTkTgl"
      }
    },
    {
      "cell_type": "code",
      "source": [
        "animals"
      ],
      "metadata": {
        "colab": {
          "base_uri": "https://localhost:8080/"
        },
        "id": "LdypTAuFjsCU",
        "outputId": "9a723054-cf66-4fd0-f9c5-2ec2c94c65a2"
      },
      "execution_count": null,
      "outputs": [
        {
          "output_type": "execute_result",
          "data": {
            "text/plain": [
              "['dog', 'dog', 'shark', 'fish']"
            ]
          },
          "metadata": {},
          "execution_count": 66
        }
      ]
    },
    {
      "cell_type": "code",
      "source": [
        "animals.pop()  # 맨 마지막 값을 빼내어 리턴"
      ],
      "metadata": {
        "colab": {
          "base_uri": "https://localhost:8080/",
          "height": 35
        },
        "id": "Z4ckTnsskWQF",
        "outputId": "8cb44943-e9ac-4bb8-f450-f9bd9c74bc96"
      },
      "execution_count": null,
      "outputs": [
        {
          "output_type": "execute_result",
          "data": {
            "text/plain": [
              "'fish'"
            ],
            "application/vnd.google.colaboratory.intrinsic+json": {
              "type": "string"
            }
          },
          "metadata": {},
          "execution_count": 67
        }
      ]
    },
    {
      "cell_type": "code",
      "source": [
        "animals  # 원본 변화되어 있다!"
      ],
      "metadata": {
        "colab": {
          "base_uri": "https://localhost:8080/"
        },
        "id": "W5Lj3K_9kWNl",
        "outputId": "cbd6e007-606f-4fb5-e159-f6385f2489ad"
      },
      "execution_count": null,
      "outputs": [
        {
          "output_type": "execute_result",
          "data": {
            "text/plain": [
              "['dog', 'dog', 'shark']"
            ]
          },
          "metadata": {},
          "execution_count": 68
        }
      ]
    },
    {
      "cell_type": "code",
      "source": [
        "#  리스트의 중간 원소를 pop 할수 있다\n",
        "animals = ['dog', 'shark', 'cat', 'bird']\n",
        "animals.pop(1)"
      ],
      "metadata": {
        "colab": {
          "base_uri": "https://localhost:8080/",
          "height": 35
        },
        "id": "sStEt8A6kWLF",
        "outputId": "84f13c2b-0f2c-445d-8089-503e330a66f2"
      },
      "execution_count": null,
      "outputs": [
        {
          "output_type": "execute_result",
          "data": {
            "text/plain": [
              "'shark'"
            ],
            "application/vnd.google.colaboratory.intrinsic+json": {
              "type": "string"
            }
          },
          "metadata": {},
          "execution_count": 69
        }
      ]
    },
    {
      "cell_type": "code",
      "source": [
        "animals"
      ],
      "metadata": {
        "colab": {
          "base_uri": "https://localhost:8080/"
        },
        "id": "OiinYV0AkWId",
        "outputId": "094d1693-8963-412d-fcbc-3c7fc0999689"
      },
      "execution_count": null,
      "outputs": [
        {
          "output_type": "execute_result",
          "data": {
            "text/plain": [
              "['dog', 'cat', 'bird']"
            ]
          },
          "metadata": {},
          "execution_count": 70
        }
      ]
    },
    {
      "cell_type": "markdown",
      "source": [
        "# .sort() 와 .reverse()"
      ],
      "metadata": {
        "id": "xEmfWOcPkaFd"
      }
    },
    {
      "cell_type": "code",
      "source": [
        "animals"
      ],
      "metadata": {
        "colab": {
          "base_uri": "https://localhost:8080/"
        },
        "id": "w1DuOtJ3kWF9",
        "outputId": "39008fc2-5cac-4897-8f09-d1f465d16bf4"
      },
      "execution_count": null,
      "outputs": [
        {
          "output_type": "execute_result",
          "data": {
            "text/plain": [
              "['dog', 'cat', 'bird']"
            ]
          },
          "metadata": {},
          "execution_count": 71
        }
      ]
    },
    {
      "cell_type": "code",
      "source": [
        "animals.sort()"
      ],
      "metadata": {
        "id": "gmlkXBErkWDl"
      },
      "execution_count": null,
      "outputs": []
    },
    {
      "cell_type": "code",
      "source": [
        "animals"
      ],
      "metadata": {
        "colab": {
          "base_uri": "https://localhost:8080/"
        },
        "id": "1fEr2owZkcxF",
        "outputId": "15611cf6-90be-4fce-9c47-71ed81d11b03"
      },
      "execution_count": null,
      "outputs": [
        {
          "output_type": "execute_result",
          "data": {
            "text/plain": [
              "['bird', 'cat', 'dog']"
            ]
          },
          "metadata": {},
          "execution_count": 73
        }
      ]
    },
    {
      "cell_type": "code",
      "source": [
        "animals.sort(reverse=True)\n",
        "animals"
      ],
      "metadata": {
        "colab": {
          "base_uri": "https://localhost:8080/"
        },
        "id": "_rO1IcO6kcuw",
        "outputId": "0d444ccb-9efb-4a7c-d16e-1a4ff85fb513"
      },
      "execution_count": null,
      "outputs": [
        {
          "output_type": "execute_result",
          "data": {
            "text/plain": [
              "['dog', 'cat', 'bird']"
            ]
          },
          "metadata": {},
          "execution_count": 74
        }
      ]
    },
    {
      "cell_type": "markdown",
      "source": [
        "# .reverse()"
      ],
      "metadata": {
        "id": "_2V9Yy1skffF"
      }
    },
    {
      "cell_type": "code",
      "source": [
        "animals[::-1]  # 원본 변경 안됨"
      ],
      "metadata": {
        "colab": {
          "base_uri": "https://localhost:8080/"
        },
        "id": "HNs6mHhdkcsN",
        "outputId": "3ccb535d-79f4-4227-dc9b-ae07a0feb567"
      },
      "execution_count": null,
      "outputs": [
        {
          "output_type": "execute_result",
          "data": {
            "text/plain": [
              "['bird', 'cat', 'dog']"
            ]
          },
          "metadata": {},
          "execution_count": 75
        }
      ]
    },
    {
      "cell_type": "code",
      "source": [
        "animals"
      ],
      "metadata": {
        "colab": {
          "base_uri": "https://localhost:8080/"
        },
        "id": "0Kez8mXUkcp3",
        "outputId": "23cb009c-754c-4959-e693-96d43cb0bacb"
      },
      "execution_count": null,
      "outputs": [
        {
          "output_type": "execute_result",
          "data": {
            "text/plain": [
              "['dog', 'cat', 'bird']"
            ]
          },
          "metadata": {},
          "execution_count": 76
        }
      ]
    },
    {
      "cell_type": "code",
      "source": [
        "animals.reverse()  # 원본 변경"
      ],
      "metadata": {
        "id": "L1I2pC3OkcnU"
      },
      "execution_count": null,
      "outputs": []
    },
    {
      "cell_type": "code",
      "source": [
        "animals"
      ],
      "metadata": {
        "colab": {
          "base_uri": "https://localhost:8080/"
        },
        "id": "CfBmLJROkclA",
        "outputId": "86193043-b516-4c1f-90df-ab6c05d59441"
      },
      "execution_count": null,
      "outputs": [
        {
          "output_type": "execute_result",
          "data": {
            "text/plain": [
              "['bird', 'cat', 'dog']"
            ]
          },
          "metadata": {},
          "execution_count": 78
        }
      ]
    },
    {
      "cell_type": "markdown",
      "source": [
        "# sorted() 함수"
      ],
      "metadata": {
        "id": "ULcDQ89tkkMN"
      }
    },
    {
      "cell_type": "code",
      "source": [
        "# sorted(iterable, key=key, reverse=reverse)\n",
        "#    iterable : sort 대상 (list, dict, tuple 등..)\n",
        "#   key : 대소비교를 하는 함수 (디폴트 None)\n",
        "#   reverse : False 오름차순 (디폴트), True 내림차순\n",
        "\n",
        "# 리턴값 : 정렬된 list"
      ],
      "metadata": {
        "id": "Audr17vVkcf-"
      },
      "execution_count": null,
      "outputs": []
    },
    {
      "cell_type": "code",
      "source": [
        "a = [\"b\", \"g\", \"a\", \"d\", \"f\", \"c\", \"h\", \"e\"]\n",
        "sorted(a)  # 결과는 list, 원본 변경 안함."
      ],
      "metadata": {
        "colab": {
          "base_uri": "https://localhost:8080/"
        },
        "id": "mKWeJ74xkmDd",
        "outputId": "62702720-8bb0-4ffa-b699-a44982639123"
      },
      "execution_count": null,
      "outputs": [
        {
          "output_type": "execute_result",
          "data": {
            "text/plain": [
              "['a', 'b', 'c', 'd', 'e', 'f', 'g', 'h']"
            ]
          },
          "metadata": {},
          "execution_count": 80
        }
      ]
    },
    {
      "cell_type": "code",
      "source": [
        "a"
      ],
      "metadata": {
        "colab": {
          "base_uri": "https://localhost:8080/"
        },
        "id": "yuog_oiskmbC",
        "outputId": "b384843b-c9f7-49cc-d7ab-d5b084165e1c"
      },
      "execution_count": null,
      "outputs": [
        {
          "output_type": "execute_result",
          "data": {
            "text/plain": [
              "['b', 'g', 'a', 'd', 'f', 'c', 'h', 'e']"
            ]
          },
          "metadata": {},
          "execution_count": 81
        }
      ]
    },
    {
      "cell_type": "markdown",
      "source": [
        "# list 와 **in 연산자**"
      ],
      "metadata": {
        "id": "-aTcwDeSko4F"
      }
    },
    {
      "cell_type": "code",
      "source": [
        "a"
      ],
      "metadata": {
        "colab": {
          "base_uri": "https://localhost:8080/"
        },
        "id": "QlHUCJ5dkmY1",
        "outputId": "44f8128c-5571-4ace-d367-c66c2a450d3d"
      },
      "execution_count": null,
      "outputs": [
        {
          "output_type": "execute_result",
          "data": {
            "text/plain": [
              "['b', 'g', 'a', 'd', 'f', 'c', 'h', 'e']"
            ]
          },
          "metadata": {},
          "execution_count": 82
        }
      ]
    },
    {
      "cell_type": "code",
      "source": [
        "'f' in a"
      ],
      "metadata": {
        "colab": {
          "base_uri": "https://localhost:8080/"
        },
        "id": "r30Zyo5skmWd",
        "outputId": "91ed0fdd-3161-4660-a4bc-9b4989b2d587"
      },
      "execution_count": null,
      "outputs": [
        {
          "output_type": "execute_result",
          "data": {
            "text/plain": [
              "True"
            ]
          },
          "metadata": {},
          "execution_count": 83
        }
      ]
    },
    {
      "cell_type": "code",
      "source": [
        "'최진무' in a"
      ],
      "metadata": {
        "colab": {
          "base_uri": "https://localhost:8080/"
        },
        "id": "khuPMkpIkmT9",
        "outputId": "9a46f06a-c4bc-45ce-ce26-563f487b072d"
      },
      "execution_count": null,
      "outputs": [
        {
          "output_type": "execute_result",
          "data": {
            "text/plain": [
              "False"
            ]
          },
          "metadata": {},
          "execution_count": 84
        }
      ]
    },
    {
      "cell_type": "code",
      "source": [
        "'f' not in a"
      ],
      "metadata": {
        "colab": {
          "base_uri": "https://localhost:8080/"
        },
        "id": "OnJqTVS_kmIX",
        "outputId": "0d1c54ce-a6fd-4441-b6cb-c5b59e656389"
      },
      "execution_count": null,
      "outputs": [
        {
          "output_type": "execute_result",
          "data": {
            "text/plain": [
              "False"
            ]
          },
          "metadata": {},
          "execution_count": 85
        }
      ]
    },
    {
      "cell_type": "markdown",
      "source": [
        "# str 의 index, slice, in\n",
        "- str 도 iterable 객체다\n",
        "- str 은 immutable 객체다"
      ],
      "metadata": {
        "id": "_FRkF_lKks_9"
      }
    },
    {
      "cell_type": "code",
      "source": [
        "# 문자열 인덱싱\n",
        "str2 = \"hello python\"\n",
        "\n",
        "print(str2[0])\n",
        "print(str2[1])\n",
        "print(str2[11])\n",
        "# print(str2[12])  # index error\n",
        "\n",
        "print(str2[-1])\n",
        "print(str2[-4])\n",
        "\n",
        "print(str2[::2])\n",
        "print(str2[-1::-2])\n",
        "print(str2[::-1])"
      ],
      "metadata": {
        "colab": {
          "base_uri": "https://localhost:8080/"
        },
        "id": "d_NOyu9EkmGH",
        "outputId": "c9cc9c53-c365-453c-f32d-0f645d16d1da"
      },
      "execution_count": null,
      "outputs": [
        {
          "output_type": "stream",
          "name": "stdout",
          "text": [
            "h\n",
            "e\n",
            "n\n",
            "n\n",
            "t\n",
            "hlopto\n",
            "nhy le\n",
            "nohtyp olleh\n"
          ]
        }
      ]
    },
    {
      "cell_type": "code",
      "source": [
        "\"t\" in str2"
      ],
      "metadata": {
        "colab": {
          "base_uri": "https://localhost:8080/"
        },
        "id": "XgcfQ9nNku4V",
        "outputId": "9276f849-096b-4485-bb3a-1f4a35b976f7"
      },
      "execution_count": null,
      "outputs": [
        {
          "output_type": "execute_result",
          "data": {
            "text/plain": [
              "True"
            ]
          },
          "metadata": {},
          "execution_count": 87
        }
      ]
    },
    {
      "cell_type": "code",
      "source": [
        "\"Py\" in str2"
      ],
      "metadata": {
        "colab": {
          "base_uri": "https://localhost:8080/"
        },
        "id": "DvnNqtInkvol",
        "outputId": "353186cb-84f6-4e05-ce68-24ecc74c2e3a"
      },
      "execution_count": null,
      "outputs": [
        {
          "output_type": "execute_result",
          "data": {
            "text/plain": [
              "False"
            ]
          },
          "metadata": {},
          "execution_count": 88
        }
      ]
    },
    {
      "cell_type": "code",
      "source": [
        "str2"
      ],
      "metadata": {
        "colab": {
          "base_uri": "https://localhost:8080/",
          "height": 35
        },
        "id": "irXeWPJykvlO",
        "outputId": "34ea64ae-704a-4caa-c6aa-95366024ae54"
      },
      "execution_count": null,
      "outputs": [
        {
          "output_type": "execute_result",
          "data": {
            "text/plain": [
              "'hello python'"
            ],
            "application/vnd.google.colaboratory.intrinsic+json": {
              "type": "string"
            }
          },
          "metadata": {},
          "execution_count": 89
        }
      ]
    },
    {
      "cell_type": "code",
      "source": [
        "sorted(str2)"
      ],
      "metadata": {
        "colab": {
          "base_uri": "https://localhost:8080/"
        },
        "id": "xuRS37sGkvg1",
        "outputId": "aea5b42e-8f23-49a1-82cc-d9b467c9ce90"
      },
      "execution_count": null,
      "outputs": [
        {
          "output_type": "execute_result",
          "data": {
            "text/plain": [
              "[' ', 'e', 'h', 'h', 'l', 'l', 'n', 'o', 'o', 'p', 't', 'y']"
            ]
          },
          "metadata": {},
          "execution_count": 90
        }
      ]
    },
    {
      "cell_type": "code",
      "source": [
        "# str 은 immutable 하다!!!!\n",
        "# str2[0] = 'K'"
      ],
      "metadata": {
        "id": "L438J8qJkvd1"
      },
      "execution_count": null,
      "outputs": []
    },
    {
      "cell_type": "markdown",
      "source": [
        "# list  와 str"
      ],
      "metadata": {
        "id": "FM9qaraQk1md"
      }
    },
    {
      "cell_type": "code",
      "source": [
        "# str.join() :  list -> 하나의 str"
      ],
      "metadata": {
        "id": "czjSOTpQkvFn"
      },
      "execution_count": null,
      "outputs": []
    },
    {
      "cell_type": "code",
      "source": [
        "animals = [\"dog\", \"shark\", \"cat\", \"bird\"]\n",
        "result = \"-\".join(animals)\n",
        "result"
      ],
      "metadata": {
        "colab": {
          "base_uri": "https://localhost:8080/",
          "height": 35
        },
        "id": "RYPe8J3Yk0rd",
        "outputId": "0a5e47fd-59c5-4a59-aaed-a1fd49d79461"
      },
      "execution_count": null,
      "outputs": [
        {
          "output_type": "execute_result",
          "data": {
            "text/plain": [
              "'dog-shark-cat-bird'"
            ],
            "application/vnd.google.colaboratory.intrinsic+json": {
              "type": "string"
            }
          },
          "metadata": {},
          "execution_count": 93
        }
      ]
    },
    {
      "cell_type": "code",
      "source": [
        "# str.split() : str -> list 로 쪼갬"
      ],
      "metadata": {
        "id": "m7Tryp-Jk0o9"
      },
      "execution_count": null,
      "outputs": []
    },
    {
      "cell_type": "code",
      "source": [
        "result.split(\"-\")"
      ],
      "metadata": {
        "colab": {
          "base_uri": "https://localhost:8080/"
        },
        "id": "GTaAlKAsk0mH",
        "outputId": "58824ce6-769e-4ec3-c4e0-8dac95b7c8be"
      },
      "execution_count": null,
      "outputs": [
        {
          "output_type": "execute_result",
          "data": {
            "text/plain": [
              "['dog', 'shark', 'cat', 'bird']"
            ]
          },
          "metadata": {},
          "execution_count": 95
        }
      ]
    },
    {
      "cell_type": "code",
      "source": [
        "myStr = \"Hello Python 2024\""
      ],
      "metadata": {
        "id": "iL84PHMak0jl"
      },
      "execution_count": null,
      "outputs": []
    },
    {
      "cell_type": "code",
      "source": [
        "# split() 에 매개변수 없이 사용하면 공백 기준으로 문자열 쪼개짐\n",
        "# 공백 : 띄어쓰기, 탭, 줄바꿈...\n",
        "myStr.split()"
      ],
      "metadata": {
        "colab": {
          "base_uri": "https://localhost:8080/"
        },
        "id": "hDOaK1x7k0g9",
        "outputId": "989990ee-a224-4ee7-cf11-0bda96300558"
      },
      "execution_count": null,
      "outputs": [
        {
          "output_type": "execute_result",
          "data": {
            "text/plain": [
              "['Hello', 'Python', '2024']"
            ]
          },
          "metadata": {},
          "execution_count": 97
        }
      ]
    },
    {
      "cell_type": "code",
      "source": [
        "myStr2 = \"    Hello    Python \\t\\n 2024   \\t  \"\n",
        "print(myStr2)"
      ],
      "metadata": {
        "colab": {
          "base_uri": "https://localhost:8080/"
        },
        "id": "ZzMRTtERk0ed",
        "outputId": "89ab448d-a334-409b-e92a-df78741fe484"
      },
      "execution_count": null,
      "outputs": [
        {
          "output_type": "stream",
          "name": "stdout",
          "text": [
            "    Hello    Python \t\n",
            " 2024   \t  \n"
          ]
        }
      ]
    },
    {
      "cell_type": "code",
      "source": [
        "myStr2.split()"
      ],
      "metadata": {
        "colab": {
          "base_uri": "https://localhost:8080/"
        },
        "id": "Gq1Ja_55k0b9",
        "outputId": "3c36d714-2ca0-4077-f0af-2fe4bcdfa01c"
      },
      "execution_count": null,
      "outputs": [
        {
          "output_type": "execute_result",
          "data": {
            "text/plain": [
              "['Hello', 'Python', '2024']"
            ]
          },
          "metadata": {},
          "execution_count": 99
        }
      ]
    },
    {
      "cell_type": "code",
      "source": [
        "# list(iterable) -> list"
      ],
      "metadata": {
        "id": "QOmEgiF9k0Zd"
      },
      "execution_count": null,
      "outputs": []
    },
    {
      "cell_type": "code",
      "source": [
        "myStr3 = \"장고운\"\n",
        "list(myStr3)"
      ],
      "metadata": {
        "colab": {
          "base_uri": "https://localhost:8080/"
        },
        "id": "gs95PuQfk0Wl",
        "outputId": "6b2074c6-715d-4933-9a6e-31ff1c2128db"
      },
      "execution_count": null,
      "outputs": [
        {
          "output_type": "execute_result",
          "data": {
            "text/plain": [
              "['장', '고', '운']"
            ]
          },
          "metadata": {},
          "execution_count": 101
        }
      ]
    },
    {
      "cell_type": "markdown",
      "source": [
        "## 도전"
      ],
      "metadata": {
        "id": "vhyEAu_Nk9VF"
      }
    },
    {
      "cell_type": "code",
      "source": [
        "# 문자열1 - 자가진단4\n",
        "\n",
        "# 문자열을 입력받고 정수를 입력 받아서 문자열의 맨 뒤부터 정수만큼 출력하는 프로그램을 작성하시오.\n",
        "#  만약 입력받은 정수가 문자열의 길이보다 크다면 맨 뒤부터 맨 처음까지 모두 출력한다.\n",
        "# (문자열 길이는 최대 100자 이하이다. )\n",
        "\n",
        "\n",
        "\n",
        "# 입력 예\n",
        "# korea 3\n",
        "\n",
        "# 출력 예\n",
        "# aer"
      ],
      "metadata": {
        "id": "YFpl6xn8k0Tl"
      },
      "execution_count": null,
      "outputs": []
    },
    {
      "cell_type": "code",
      "source": [
        "input_str, N = input().split()\n",
        "input_str[len(input_str) - 1 : len(input_str) - 1 - int(N) : -1]"
      ],
      "metadata": {
        "colab": {
          "base_uri": "https://localhost:8080/",
          "height": 54
        },
        "id": "O2CaXkdClAKd",
        "outputId": "7d4bc240-70a2-4991-db63-7a572d160802"
      },
      "execution_count": null,
      "outputs": [
        {
          "name": "stdout",
          "output_type": "stream",
          "text": [
            "abcde 8\n"
          ]
        },
        {
          "output_type": "execute_result",
          "data": {
            "text/plain": [
              "'edc'"
            ],
            "application/vnd.google.colaboratory.intrinsic+json": {
              "type": "string"
            }
          },
          "metadata": {},
          "execution_count": 103
        }
      ]
    },
    {
      "cell_type": "code",
      "source": [
        "str, n = input().split()\n",
        "str[-1 : -(int(n) + 1) : -1]"
      ],
      "metadata": {
        "colab": {
          "base_uri": "https://localhost:8080/",
          "height": 54
        },
        "id": "zBFyqCZNlAHm",
        "outputId": "d951d0a5-f056-47e5-cf64-c38f094ccbe4"
      },
      "execution_count": null,
      "outputs": [
        {
          "name": "stdout",
          "output_type": "stream",
          "text": [
            "korea 3\n"
          ]
        },
        {
          "output_type": "execute_result",
          "data": {
            "text/plain": [
              "'aer'"
            ],
            "application/vnd.google.colaboratory.intrinsic+json": {
              "type": "string"
            }
          },
          "metadata": {},
          "execution_count": 104
        }
      ]
    },
    {
      "cell_type": "code",
      "source": [],
      "metadata": {
        "id": "SUubex7ZlAEV"
      },
      "execution_count": null,
      "outputs": []
    },
    {
      "cell_type": "code",
      "source": [],
      "metadata": {
        "id": "isLdb_PclABF"
      },
      "execution_count": null,
      "outputs": []
    }
  ]
}