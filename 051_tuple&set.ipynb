{
  "nbformat": 4,
  "nbformat_minor": 0,
  "metadata": {
    "colab": {
      "provenance": [],
      "authorship_tag": "ABX9TyPRRq2nPY7lZ376gIC6Zllf",
      "include_colab_link": true
    },
    "kernelspec": {
      "name": "python3",
      "display_name": "Python 3"
    },
    "language_info": {
      "name": "python"
    }
  },
  "cells": [
    {
      "cell_type": "markdown",
      "metadata": {
        "id": "view-in-github",
        "colab_type": "text"
      },
      "source": [
        "<a href=\"https://colab.research.google.com/github/jh981117/Study_Python/blob/main/051_tuple%26set.ipynb\" target=\"_parent\"><img src=\"https://colab.research.google.com/assets/colab-badge.svg\" alt=\"Open In Colab\"/></a>"
      ]
    },
    {
      "cell_type": "code",
      "execution_count": null,
      "metadata": {
        "id": "HA0emO-e9ZUB"
      },
      "outputs": [],
      "source": [
        "# tuple\n",
        "# 콤마 , 로 구분된 집합 데이터 타입"
      ]
    },
    {
      "cell_type": "code",
      "source": [
        "animals = (\"dog\", \"dog\", \"cat\", \"bird\")"
      ],
      "metadata": {
        "id": "ocIlZD0A9lpy"
      },
      "execution_count": null,
      "outputs": []
    },
    {
      "cell_type": "code",
      "source": [
        "animals"
      ],
      "metadata": {
        "colab": {
          "base_uri": "https://localhost:8080/"
        },
        "id": "GLtskh5V9mw5",
        "outputId": "4d473c4c-6714-4c47-b338-7cbc25aa1e48"
      },
      "execution_count": null,
      "outputs": [
        {
          "output_type": "execute_result",
          "data": {
            "text/plain": [
              "('dog', 'dog', 'cat', 'bird')"
            ]
          },
          "metadata": {},
          "execution_count": 6
        }
      ]
    },
    {
      "cell_type": "code",
      "source": [
        "type(animals)"
      ],
      "metadata": {
        "colab": {
          "base_uri": "https://localhost:8080/"
        },
        "id": "au2vlhFj9qco",
        "outputId": "7c18fd32-b87f-4476-b2ee-9140504c0c6b"
      },
      "execution_count": null,
      "outputs": [
        {
          "output_type": "execute_result",
          "data": {
            "text/plain": [
              "tuple"
            ]
          },
          "metadata": {},
          "execution_count": 7
        }
      ]
    },
    {
      "cell_type": "code",
      "source": [
        "student = \"최진무\", \"찜무\", \"이종원\", \"서현기\"\n",
        "\n",
        "type(student)"
      ],
      "metadata": {
        "colab": {
          "base_uri": "https://localhost:8080/"
        },
        "id": "dGtsxmCe9v_Q",
        "outputId": "d9337042-def2-41ed-bef4-caf630a4a5ed"
      },
      "execution_count": null,
      "outputs": [
        {
          "output_type": "execute_result",
          "data": {
            "text/plain": [
              "tuple"
            ]
          },
          "metadata": {},
          "execution_count": 9
        }
      ]
    },
    {
      "cell_type": "code",
      "source": [
        "# 원소 한개짜리 tuple 을 만드려면?\n",
        "animals = (\"dog\",)\n",
        "\n",
        "print(type(animals), animals, len(animals))"
      ],
      "metadata": {
        "colab": {
          "base_uri": "https://localhost:8080/"
        },
        "id": "j_JUkVBt94cq",
        "outputId": "cc4fe848-3078-4e21-b5aa-49a83ec4f4ca"
      },
      "execution_count": null,
      "outputs": [
        {
          "output_type": "stream",
          "name": "stdout",
          "text": [
            "<class 'tuple'> ('dog',) 1\n"
          ]
        }
      ]
    },
    {
      "cell_type": "code",
      "source": [
        "animals = '강동키',\n",
        "type(animals)"
      ],
      "metadata": {
        "colab": {
          "base_uri": "https://localhost:8080/"
        },
        "id": "v2gzaB4S-EYR",
        "outputId": "11461969-72aa-4f19-a940-5ad60392d3d6"
      },
      "execution_count": null,
      "outputs": [
        {
          "output_type": "execute_result",
          "data": {
            "text/plain": [
              "tuple"
            ]
          },
          "metadata": {},
          "execution_count": 13
        }
      ]
    },
    {
      "cell_type": "code",
      "source": [
        "# index, slice 가능"
      ],
      "metadata": {
        "id": "ruRbD1WF-fwW"
      },
      "execution_count": null,
      "outputs": []
    },
    {
      "cell_type": "code",
      "source": [
        "student[1:3]"
      ],
      "metadata": {
        "colab": {
          "base_uri": "https://localhost:8080/"
        },
        "id": "khJ2aP6O-AEQ",
        "outputId": "c518c216-9726-4059-d1f1-41cefb0f94de"
      },
      "execution_count": null,
      "outputs": [
        {
          "output_type": "execute_result",
          "data": {
            "text/plain": [
              "('찜무', '이종원')"
            ]
          },
          "metadata": {},
          "execution_count": 14
        }
      ]
    },
    {
      "cell_type": "code",
      "source": [
        "# tuple은 immutable 하다! <- 원소 값 변경 불가\n",
        "# student[1] = '치킨무'"
      ],
      "metadata": {
        "id": "tzJh195F-7sR"
      },
      "execution_count": null,
      "outputs": []
    },
    {
      "cell_type": "code",
      "source": [
        "# student.append(\"쏭승현\") # 따라서 내용 변경하는 동작 정의되어 있지 않음."
      ],
      "metadata": {
        "id": "9qD9MYlp_Q0i"
      },
      "execution_count": null,
      "outputs": []
    },
    {
      "cell_type": "code",
      "source": [
        "animals + student"
      ],
      "metadata": {
        "colab": {
          "base_uri": "https://localhost:8080/"
        },
        "id": "cj_tEUlW-_0a",
        "outputId": "a1ef2b92-e5b6-49ae-d971-6fca0b44a4c9"
      },
      "execution_count": null,
      "outputs": [
        {
          "output_type": "execute_result",
          "data": {
            "text/plain": [
              "('강동키', '최진무', '찜무', '이종원', '서현기')"
            ]
          },
          "metadata": {},
          "execution_count": 19
        }
      ]
    },
    {
      "cell_type": "code",
      "source": [
        "student * 3"
      ],
      "metadata": {
        "colab": {
          "base_uri": "https://localhost:8080/"
        },
        "id": "T7ubTBSU_euh",
        "outputId": "128aeec1-9663-4fec-b10e-697f1f8fb349"
      },
      "execution_count": null,
      "outputs": [
        {
          "output_type": "execute_result",
          "data": {
            "text/plain": [
              "('최진무',\n",
              " '찜무',\n",
              " '이종원',\n",
              " '서현기',\n",
              " '최진무',\n",
              " '찜무',\n",
              " '이종원',\n",
              " '서현기',\n",
              " '최진무',\n",
              " '찜무',\n",
              " '이종원',\n",
              " '서현기')"
            ]
          },
          "metadata": {},
          "execution_count": 21
        }
      ]
    },
    {
      "cell_type": "code",
      "source": [
        "# tuple 은 언제 사용하나?\n",
        "# 1. 주로 변경되지 말아야 할 데이터들\n",
        "# 2. 복수의 값 '전달' 목적으로."
      ],
      "metadata": {
        "id": "XmZPMQLz_iJY"
      },
      "execution_count": null,
      "outputs": []
    },
    {
      "cell_type": "code",
      "source": [
        "# 사각형의 weight, height 값\n",
        "rec = [100, 200]\n",
        "print(rec[0], rec[1])\n",
        "\n",
        "weight = rec[0]\n",
        "height = rec[1]\n",
        "print(weight,height)"
      ],
      "metadata": {
        "colab": {
          "base_uri": "https://localhost:8080/"
        },
        "id": "ys0Ol-23_3mC",
        "outputId": "b99876ec-afb8-46a6-fc24-714357802ece"
      },
      "execution_count": null,
      "outputs": [
        {
          "output_type": "stream",
          "name": "stdout",
          "text": [
            "100 200\n",
            "100 200\n"
          ]
        }
      ]
    },
    {
      "cell_type": "code",
      "source": [
        "width, height = (100, 200)\n",
        "print (weight, height)"
      ],
      "metadata": {
        "colab": {
          "base_uri": "https://localhost:8080/"
        },
        "id": "WTTPh30jABlz",
        "outputId": "aa3d044a-53e9-4472-af1c-346504531f2c"
      },
      "execution_count": null,
      "outputs": [
        {
          "output_type": "stream",
          "name": "stdout",
          "text": [
            "100 200\n"
          ]
        }
      ]
    },
    {
      "cell_type": "code",
      "source": [
        "# 나눗셈 결과의 '몫' 과 '나머지'\n",
        "divmod(5, 2)\n",
        "\n",
        "print(f'몫 {quotient}, 나머지 {reamin}')"
      ],
      "metadata": {
        "colab": {
          "base_uri": "https://localhost:8080/"
        },
        "id": "A6btnqUoAkCW",
        "outputId": "68bce998-01bb-484f-85a4-aad3bdc5f5b5"
      },
      "execution_count": null,
      "outputs": [
        {
          "output_type": "execute_result",
          "data": {
            "text/plain": [
              "(2, 1)"
            ]
          },
          "metadata": {},
          "execution_count": 28
        }
      ]
    },
    {
      "cell_type": "markdown",
      "source": [
        "# set"
      ],
      "metadata": {
        "id": "J0hLarGPBUZY"
      }
    },
    {
      "cell_type": "code",
      "source": [
        "# set\n",
        "# 만드는 방법\n",
        "# 1.set()  함수로 만들수도 있고\n",
        "# 2. {  } 으로 만들수도 있다.\n",
        "\n",
        "#1. list   :  순서있다.  중복허용,  mutable\n",
        "#2. tuple  :  순서있다,  중복허용,  immutable\n",
        "#3. set : 순서없다,  중복허용안함\n",
        "#4. dict : key, value 쌍으로 구성, 순서없다."
      ],
      "metadata": {
        "id": "6-tuh2vdAnkJ"
      },
      "execution_count": null,
      "outputs": []
    },
    {
      "cell_type": "code",
      "source": [
        "animals = {\"dog\", \"cat\", \"bird\", \"cat\", \"dog\", \"강동키\"}\n",
        "\n",
        "print(animals, type(animals), len(animals))"
      ],
      "metadata": {
        "colab": {
          "base_uri": "https://localhost:8080/"
        },
        "id": "2ciJiiupBZqz",
        "outputId": "42e3d05e-4408-4a9d-9a63-7ba9d6c214ab"
      },
      "execution_count": null,
      "outputs": [
        {
          "output_type": "stream",
          "name": "stdout",
          "text": [
            "{'cat', 'dog', 'bird', '강동키'} <class 'set'> 4\n"
          ]
        }
      ]
    },
    {
      "cell_type": "code",
      "source": [
        "# abunaks[0] # 인덱스 사용 불가! not subscriptable"
      ],
      "metadata": {
        "id": "3Dw_tTRXBtiR"
      },
      "execution_count": null,
      "outputs": []
    },
    {
      "cell_type": "code",
      "source": [
        "str1 = \"aaaabbbbbcccccaaabb\"\n",
        "print(list(str1))\n",
        "print(tuple(str1))\n",
        "print(set(str1))"
      ],
      "metadata": {
        "colab": {
          "base_uri": "https://localhost:8080/"
        },
        "id": "xhk7vbonC6nz",
        "outputId": "e906ab55-2053-41e7-d961-dab69d5d2584"
      },
      "execution_count": null,
      "outputs": [
        {
          "output_type": "stream",
          "name": "stdout",
          "text": [
            "['a', 'a', 'a', 'a', 'b', 'b', 'b', 'b', 'b', 'c', 'c', 'c', 'c', 'c', 'a', 'a', 'a', 'b', 'b']\n",
            "('a', 'a', 'a', 'a', 'b', 'b', 'b', 'b', 'b', 'c', 'c', 'c', 'c', 'c', 'a', 'a', 'a', 'b', 'b')\n",
            "{'a', 'c', 'b'}\n"
          ]
        }
      ]
    },
    {
      "cell_type": "code",
      "source": [
        "animals = [\"진무\", \"진무\", \"찜무\", \"짬무\"]\n",
        "# 위 list 에서 중복된 데이터를 제거하고 싶다면?\n",
        "\n",
        "list(set(animals))"
      ],
      "metadata": {
        "colab": {
          "base_uri": "https://localhost:8080/"
        },
        "id": "Egk2CttTDNPp",
        "outputId": "1d1035de-b9e9-45b0-d91b-83f9605968e1"
      },
      "execution_count": null,
      "outputs": [
        {
          "output_type": "execute_result",
          "data": {
            "text/plain": [
              "['찜무', '짬무', '진무']"
            ]
          },
          "metadata": {},
          "execution_count": 35
        }
      ]
    },
    {
      "cell_type": "code",
      "source": [
        "# empty set\n",
        "a = {}\n",
        "a = set()\n",
        "\n",
        "a, type(a), len(a)"
      ],
      "metadata": {
        "colab": {
          "base_uri": "https://localhost:8080/"
        },
        "id": "lboxaaRWD5hL",
        "outputId": "ed2eb0a4-b5d8-472d-d0f7-1bbb9eb84317"
      },
      "execution_count": null,
      "outputs": [
        {
          "output_type": "execute_result",
          "data": {
            "text/plain": [
              "(set(), set, 0)"
            ]
          },
          "metadata": {},
          "execution_count": 36
        }
      ]
    },
    {
      "cell_type": "code",
      "source": [
        "# add(), remove()\n",
        "# 추가, 삭제"
      ],
      "metadata": {
        "id": "CI-Zp7DKD61q"
      },
      "execution_count": null,
      "outputs": []
    },
    {
      "cell_type": "code",
      "source": [
        "a.add('dog')\n",
        "a"
      ],
      "metadata": {
        "colab": {
          "base_uri": "https://localhost:8080/"
        },
        "id": "MjTHVuZhD8Zx",
        "outputId": "5199c688-e028-4886-bae2-c1c6d48e18d0"
      },
      "execution_count": null,
      "outputs": [
        {
          "output_type": "execute_result",
          "data": {
            "text/plain": [
              "{'dog'}"
            ]
          },
          "metadata": {},
          "execution_count": 38
        }
      ]
    },
    {
      "cell_type": "code",
      "source": [
        "a.add('cat')\n",
        "a"
      ],
      "metadata": {
        "id": "kOb7AUwzEdJQ",
        "outputId": "10709c88-ee50-4f46-8254-90b0d841d099",
        "colab": {
          "base_uri": "https://localhost:8080/"
        }
      },
      "execution_count": null,
      "outputs": [
        {
          "output_type": "execute_result",
          "data": {
            "text/plain": [
              "{'cat', 'dog'}"
            ]
          },
          "metadata": {},
          "execution_count": 40
        }
      ]
    },
    {
      "cell_type": "code",
      "source": [
        "a.remove('cat')\n",
        "a\n"
      ],
      "metadata": {
        "colab": {
          "base_uri": "https://localhost:8080/"
        },
        "id": "2ahkA-D7D9-f",
        "outputId": "1fd92fa5-7fcc-47a9-d9b0-d7e138570144"
      },
      "execution_count": null,
      "outputs": [
        {
          "output_type": "execute_result",
          "data": {
            "text/plain": [
              "{'dog'}"
            ]
          },
          "metadata": {},
          "execution_count": 41
        }
      ]
    },
    {
      "cell_type": "code",
      "source": [],
      "metadata": {
        "id": "OM7jmZMlEWE1"
      },
      "execution_count": null,
      "outputs": []
    }
  ]
}