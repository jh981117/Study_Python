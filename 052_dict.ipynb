{
  "nbformat": 4,
  "nbformat_minor": 0,
  "metadata": {
    "colab": {
      "provenance": [],
      "authorship_tag": "ABX9TyN2aUNPLvMy7XC9mZztkEY0",
      "include_colab_link": true
    },
    "kernelspec": {
      "name": "python3",
      "display_name": "Python 3"
    },
    "language_info": {
      "name": "python"
    }
  },
  "cells": [
    {
      "cell_type": "markdown",
      "metadata": {
        "id": "view-in-github",
        "colab_type": "text"
      },
      "source": [
        "<a href=\"https://colab.research.google.com/github/jh981117/Study_Python/blob/main/052_dict.ipynb\" target=\"_parent\"><img src=\"https://colab.research.google.com/assets/colab-badge.svg\" alt=\"Open In Colab\"/></a>"
      ]
    },
    {
      "cell_type": "code",
      "execution_count": null,
      "metadata": {
        "id": "VlIxnXGkElX7"
      },
      "outputs": [],
      "source": [
        "# dict : 딕셔너리\n",
        "\n",
        "# dictionary 데이터 타입은  key-value 쌍으로 저장되는 데이터 집합이다.\n",
        "\n",
        "# {Key1:Value1, Key2:Value2, Key3:Value3 ...}\n",
        "# \"이름\" = \"홍길동\", \"생일\" = \"몇 월 몇 일\"   과 같은 자료형 담음\n",
        "\n",
        "# 기존의 list, tuple 등은 value 중심\n",
        "# 그러나 이 또한 알고 보면 key-value 쌍으로 구성\n",
        "\n",
        "# 순서는 고정이 안된다\n",
        "# key 는 중복 안된다.\n",
        "\n",
        "\n"
      ]
    },
    {
      "cell_type": "code",
      "source": [
        "student = {\n",
        "    \"name\": \"최진무\",\n",
        "    \"email\": \"choi@mail.com\",\n",
        "}\n",
        "\n",
        "print(student)\n",
        "print(type(student))\n",
        "print(len(student))"
      ],
      "metadata": {
        "colab": {
          "base_uri": "https://localhost:8080/"
        },
        "id": "DGOgAjosEpgx",
        "outputId": "41320150-0463-430d-c9bd-547a2b974d98"
      },
      "execution_count": null,
      "outputs": [
        {
          "output_type": "stream",
          "name": "stdout",
          "text": [
            "{'name': '최진무', 'email': 'choi@mail.com'}\n",
            "<class 'dict'>\n",
            "2\n"
          ]
        }
      ]
    },
    {
      "cell_type": "code",
      "source": [
        "# value 접근\n",
        "print(student['name'])  # 방법1\n",
        "print(student.get('name'))  #방법2"
      ],
      "metadata": {
        "colab": {
          "base_uri": "https://localhost:8080/"
        },
        "id": "yFw_G4N2Iddk",
        "outputId": "808dca4c-99e4-4a5f-8dcf-1e8c693f743d"
      },
      "execution_count": null,
      "outputs": [
        {
          "output_type": "stream",
          "name": "stdout",
          "text": [
            "최진무\n",
            "최진무\n"
          ]
        }
      ]
    },
    {
      "cell_type": "code",
      "source": [
        "# 차이점: 존재하지 않는 key 로 접근하는 경우\n",
        "# print(student['age']) # KeyError\n",
        "print(student.get('age')) # None 리턴!"
      ],
      "metadata": {
        "colab": {
          "base_uri": "https://localhost:8080/"
        },
        "id": "cObopNlQJIPF",
        "outputId": "8ce3de12-d854-4237-9369-1f928a24d43b"
      },
      "execution_count": null,
      "outputs": [
        {
          "output_type": "stream",
          "name": "stdout",
          "text": [
            "None\n"
          ]
        }
      ]
    },
    {
      "cell_type": "code",
      "source": [
        "# get()  을 사용하면 예외적인 상황에서도\n",
        "# 동작 가능하게 처리 가능\n",
        "# student.get(key, default) : key 값이 없으면 default 값으로 리턴\n",
        "\n",
        "print(student.get('age', 20))"
      ],
      "metadata": {
        "colab": {
          "base_uri": "https://localhost:8080/"
        },
        "id": "GYCjt8-9JUTq",
        "outputId": "1ae955f5-3875-458a-d1c6-04b3c4bbe001"
      },
      "execution_count": null,
      "outputs": [
        {
          "output_type": "stream",
          "name": "stdout",
          "text": [
            "20\n"
          ]
        }
      ]
    },
    {
      "cell_type": "code",
      "source": [
        "# 수정하기\n",
        "student['name'] = '서현기'\n",
        "student"
      ],
      "metadata": {
        "colab": {
          "base_uri": "https://localhost:8080/"
        },
        "id": "pafl_hbgJt-X",
        "outputId": "90048885-9fc4-4a4c-f3b0-bc8a2b60e82b"
      },
      "execution_count": null,
      "outputs": [
        {
          "output_type": "execute_result",
          "data": {
            "text/plain": [
              "{'name': '서현기', 'email': 'choi@mail.com'}"
            ]
          },
          "metadata": {},
          "execution_count": 6
        }
      ]
    },
    {
      "cell_type": "code",
      "source": [
        "# 추가하기\n",
        "student['address'] = '역삼동'\n",
        "student"
      ],
      "metadata": {
        "colab": {
          "base_uri": "https://localhost:8080/"
        },
        "id": "ESdruc5OJ-B1",
        "outputId": "fd2341e9-3f01-45bc-fe20-1ef476de47a5"
      },
      "execution_count": null,
      "outputs": [
        {
          "output_type": "execute_result",
          "data": {
            "text/plain": [
              "{'name': '서현기', 'email': 'choi@mail.com', 'address': '역삼동'}"
            ]
          },
          "metadata": {},
          "execution_count": 7
        }
      ]
    },
    {
      "cell_type": "code",
      "source": [
        "# 삭제하기\n",
        "del(student['email'])\n",
        "student"
      ],
      "metadata": {
        "colab": {
          "base_uri": "https://localhost:8080/"
        },
        "id": "tftRICKRKDTw",
        "outputId": "6e0191ec-52ec-4d28-ab0e-3ccd5680478d"
      },
      "execution_count": null,
      "outputs": [
        {
          "output_type": "execute_result",
          "data": {
            "text/plain": [
              "{'name': '서현기', 'address': '역삼동'}"
            ]
          },
          "metadata": {},
          "execution_count": 8
        }
      ]
    },
    {
      "cell_type": "markdown",
      "source": [
        "### dict.update()\n",
        "해당 key값 업데이트<br>\n",
        "해당 key 가 없으면 새로이 추가"
      ],
      "metadata": {
        "id": "zwWPAoQ7KKnY"
      }
    },
    {
      "cell_type": "code",
      "source": [
        "student"
      ],
      "metadata": {
        "colab": {
          "base_uri": "https://localhost:8080/"
        },
        "id": "j8okQFmEKH03",
        "outputId": "8470a13f-fc3e-43a4-bfde-bb422267b0f8"
      },
      "execution_count": null,
      "outputs": [
        {
          "output_type": "execute_result",
          "data": {
            "text/plain": [
              "{'name': '서현기', 'address': '역삼동'}"
            ]
          },
          "metadata": {},
          "execution_count": 9
        }
      ]
    },
    {
      "cell_type": "code",
      "source": [
        "student.update({\"name\": \"허지우\"})"
      ],
      "metadata": {
        "id": "VdzBg7m9Ka_s"
      },
      "execution_count": null,
      "outputs": []
    },
    {
      "cell_type": "code",
      "source": [
        "student"
      ],
      "metadata": {
        "colab": {
          "base_uri": "https://localhost:8080/"
        },
        "id": "Ldj9OU6XKew5",
        "outputId": "d739e812-4257-483e-902f-09f804e06dd5"
      },
      "execution_count": null,
      "outputs": [
        {
          "output_type": "execute_result",
          "data": {
            "text/plain": [
              "{'name': '허지우', 'address': '역삼동'}"
            ]
          },
          "metadata": {},
          "execution_count": 13
        }
      ]
    },
    {
      "cell_type": "code",
      "source": [
        "student.update({'age': 13, 'address':'논현동'})\n",
        "student"
      ],
      "metadata": {
        "colab": {
          "base_uri": "https://localhost:8080/"
        },
        "id": "9tvLwzNxKlU0",
        "outputId": "bfd8f71f-fc91-4f19-a799-5f55040a5da0"
      },
      "execution_count": null,
      "outputs": [
        {
          "output_type": "execute_result",
          "data": {
            "text/plain": [
              "{'name': '허지우', 'address': '논현동', 'age': 13}"
            ]
          },
          "metadata": {},
          "execution_count": 14
        }
      ]
    },
    {
      "cell_type": "markdown",
      "source": [
        "## key, value 의 타입\n",
        "- **value** 는 어떠한 타입이라도 가능!\n",
        "- **key** 는 hash 가능한 타입만 가능!   (ex: int, float, str, bool..)\n"
      ],
      "metadata": {
        "id": "J2lOZCJwLU9w"
      }
    },
    {
      "cell_type": "code",
      "source": [
        "dict1 = {\n",
        "    1 : \"최찜무\",\n",
        "    1 : \"진무\",\n",
        "    1 : \"갓물주\",\n",
        "    2 : \"도라미\",\n",
        "    3 : \"장고운\",\n",
        "    \"two\": {\n",
        "        3.14: \"pi\",\n",
        "        \"pi\": 3.14,\n",
        "    },\n",
        "    False: [10, 20, 30],\n",
        "}\n",
        "\n",
        "dict1"
      ],
      "metadata": {
        "colab": {
          "base_uri": "https://localhost:8080/"
        },
        "id": "XAsqrjCFLVff",
        "outputId": "5fe7e061-2bd0-4157-a347-968cb7f008c0"
      },
      "execution_count": null,
      "outputs": [
        {
          "output_type": "execute_result",
          "data": {
            "text/plain": [
              "{1: '갓물주',\n",
              " 2: '도라미',\n",
              " 3: '장고운',\n",
              " 'two': {3.14: 'pi', 'pi': 3.14},\n",
              " False: [10, 20, 30]}"
            ]
          },
          "metadata": {},
          "execution_count": 16
        }
      ]
    },
    {
      "cell_type": "code",
      "source": [
        "len(dict1)"
      ],
      "metadata": {
        "colab": {
          "base_uri": "https://localhost:8080/"
        },
        "id": "8bppsnS7Lp58",
        "outputId": "55f2cf27-5a30-4d07-8097-a630673678bb"
      },
      "execution_count": null,
      "outputs": [
        {
          "output_type": "execute_result",
          "data": {
            "text/plain": [
              "5"
            ]
          },
          "metadata": {},
          "execution_count": 17
        }
      ]
    },
    {
      "cell_type": "code",
      "source": [
        "dict1[\"two\"][3.14]"
      ],
      "metadata": {
        "colab": {
          "base_uri": "https://localhost:8080/",
          "height": 35
        },
        "id": "Ew9jgvy7MNaX",
        "outputId": "516d8dff-654a-4f7e-ce5c-b310cb4ed04e"
      },
      "execution_count": null,
      "outputs": [
        {
          "output_type": "execute_result",
          "data": {
            "text/plain": [
              "'pi'"
            ],
            "application/vnd.google.colaboratory.intrinsic+json": {
              "type": "string"
            }
          },
          "metadata": {},
          "execution_count": 18
        }
      ]
    },
    {
      "cell_type": "code",
      "source": [
        "dict1[False][2]"
      ],
      "metadata": {
        "colab": {
          "base_uri": "https://localhost:8080/"
        },
        "id": "mZi50eyHMTZk",
        "outputId": "2e5a6019-d5e8-4c62-9a63-dc791c81c2ff"
      },
      "execution_count": null,
      "outputs": [
        {
          "output_type": "execute_result",
          "data": {
            "text/plain": [
              "30"
            ]
          },
          "metadata": {},
          "execution_count": 19
        }
      ]
    },
    {
      "cell_type": "code",
      "source": [
        "# dict.keys(), dict.values()\n",
        "student = {\n",
        "        \"name\":\"최현진\",\n",
        "        \"email\":\"choi@mail.com\",\n",
        "        \"age\": 23,\n",
        "        \"addr\" : \"서울\"\n",
        "        }"
      ],
      "metadata": {
        "id": "dYU3S47pMkzc"
      },
      "execution_count": null,
      "outputs": []
    },
    {
      "cell_type": "code",
      "source": [
        "student.keys()  # key 들로만 구성된 iterable 객체 리턴됨"
      ],
      "metadata": {
        "colab": {
          "base_uri": "https://localhost:8080/"
        },
        "id": "c4io93LLNOtv",
        "outputId": "5bd84fa4-1175-42a8-8a0b-f255f4b34801"
      },
      "execution_count": null,
      "outputs": [
        {
          "output_type": "execute_result",
          "data": {
            "text/plain": [
              "dict_keys(['name', 'email', 'age', 'addr'])"
            ]
          },
          "metadata": {},
          "execution_count": 21
        }
      ]
    },
    {
      "cell_type": "code",
      "source": [
        "student.values()  # value 들로만 구성된 iterable 객체 리턴됨"
      ],
      "metadata": {
        "colab": {
          "base_uri": "https://localhost:8080/"
        },
        "id": "5gbOuCVLNQvb",
        "outputId": "87d39d99-ec58-42c3-e3d5-9eac03ee517e"
      },
      "execution_count": null,
      "outputs": [
        {
          "output_type": "execute_result",
          "data": {
            "text/plain": [
              "dict_values(['최현진', 'choi@mail.com', 23, '서울'])"
            ]
          },
          "metadata": {},
          "execution_count": 23
        }
      ]
    },
    {
      "cell_type": "code",
      "source": [
        "set(student.keys())"
      ],
      "metadata": {
        "colab": {
          "base_uri": "https://localhost:8080/"
        },
        "id": "_77lxiekNc0l",
        "outputId": "592ae457-200b-463d-a0ac-490f0f6c3049"
      },
      "execution_count": null,
      "outputs": [
        {
          "output_type": "execute_result",
          "data": {
            "text/plain": [
              "{'addr', 'age', 'email', 'name'}"
            ]
          },
          "metadata": {},
          "execution_count": 24
        }
      ]
    },
    {
      "cell_type": "code",
      "source": [
        "set(student)  # dict 자체도 iterable 하다. key 들이 나온다"
      ],
      "metadata": {
        "colab": {
          "base_uri": "https://localhost:8080/"
        },
        "id": "DddhRe6DNfqa",
        "outputId": "3ecf36af-3e57-481e-e179-ef893261158c"
      },
      "execution_count": null,
      "outputs": [
        {
          "output_type": "execute_result",
          "data": {
            "text/plain": [
              "{'addr', 'age', 'email', 'name'}"
            ]
          },
          "metadata": {},
          "execution_count": 25
        }
      ]
    },
    {
      "cell_type": "code",
      "source": [
        "# dict 의 in 연산자\n",
        "# key 의 존재여부\n",
        "\n",
        "\"name\" in student"
      ],
      "metadata": {
        "colab": {
          "base_uri": "https://localhost:8080/"
        },
        "id": "uMt9CLBjNiPm",
        "outputId": "f95c292c-477d-4097-9fbe-ff13d31332f6"
      },
      "execution_count": null,
      "outputs": [
        {
          "output_type": "execute_result",
          "data": {
            "text/plain": [
              "True"
            ]
          },
          "metadata": {},
          "execution_count": 27
        }
      ]
    },
    {
      "cell_type": "code",
      "source": [
        "\"최진무\" in student"
      ],
      "metadata": {
        "colab": {
          "base_uri": "https://localhost:8080/"
        },
        "id": "0a_jjFqpNzAu",
        "outputId": "911d5267-7022-4388-fa4c-3651bc0461e3"
      },
      "execution_count": null,
      "outputs": [
        {
          "output_type": "execute_result",
          "data": {
            "text/plain": [
              "False"
            ]
          },
          "metadata": {},
          "execution_count": 28
        }
      ]
    },
    {
      "cell_type": "markdown",
      "source": [
        "# Empty data"
      ],
      "metadata": {
        "id": "fAMPvUGWOEHo"
      }
    },
    {
      "cell_type": "code",
      "source": [
        "# 비어있는 데이터\n",
        "a = []  # list\n",
        "a = \"\"  # str\n",
        "a = ()  # tuple\n",
        "a = {}  # dict\n",
        "a = set() # set\n",
        "\n",
        "type(a), len(a)"
      ],
      "metadata": {
        "colab": {
          "base_uri": "https://localhost:8080/"
        },
        "id": "ZS_EPACSOHBf",
        "outputId": "7c20e3f0-b5f9-4c53-a5da-1a07d66fa9af"
      },
      "execution_count": null,
      "outputs": [
        {
          "output_type": "execute_result",
          "data": {
            "text/plain": [
              "(set, 0)"
            ]
          },
          "metadata": {},
          "execution_count": 29
        }
      ]
    },
    {
      "cell_type": "markdown",
      "source": [
        "## items()\n",
        "\n",
        "(key, value) 쌍으로 이루어진 iterable 객체 리턴"
      ],
      "metadata": {
        "id": "0Pn_-1oEO5nI"
      }
    },
    {
      "cell_type": "code",
      "source": [
        "dict_A = {\"b\": 5, \"c\": 3, \"a\": 2}\n",
        "dict_A"
      ],
      "metadata": {
        "colab": {
          "base_uri": "https://localhost:8080/"
        },
        "id": "B1OBdbpgOWd8",
        "outputId": "d5ed26d4-c301-4bf9-a36f-34067a04f3d3"
      },
      "execution_count": null,
      "outputs": [
        {
          "output_type": "execute_result",
          "data": {
            "text/plain": [
              "{'b': 5, 'c': 3, 'a': 2}"
            ]
          },
          "metadata": {},
          "execution_count": 30
        }
      ]
    },
    {
      "cell_type": "code",
      "source": [
        "dict_A.items()"
      ],
      "metadata": {
        "colab": {
          "base_uri": "https://localhost:8080/"
        },
        "id": "MYPH5AKQPH30",
        "outputId": "9aefaa87-3f22-46fe-8bd4-beeade0ae4b4"
      },
      "execution_count": null,
      "outputs": [
        {
          "output_type": "execute_result",
          "data": {
            "text/plain": [
              "dict_items([('b', 5), ('c', 3), ('a', 2)])"
            ]
          },
          "metadata": {},
          "execution_count": 31
        }
      ]
    },
    {
      "cell_type": "code",
      "source": [
        "result = list(dict_A.items())\n",
        "result"
      ],
      "metadata": {
        "colab": {
          "base_uri": "https://localhost:8080/"
        },
        "id": "ACiOKpeFPNJQ",
        "outputId": "c081e3b4-0677-47cd-e8f3-34d9aff6fbfd"
      },
      "execution_count": null,
      "outputs": [
        {
          "output_type": "execute_result",
          "data": {
            "text/plain": [
              "[('b', 5), ('c', 3), ('a', 2)]"
            ]
          },
          "metadata": {},
          "execution_count": 32
        }
      ]
    },
    {
      "cell_type": "code",
      "source": [
        "result[0][0]"
      ],
      "metadata": {
        "colab": {
          "base_uri": "https://localhost:8080/",
          "height": 35
        },
        "id": "Wo1IzteWPe4r",
        "outputId": "7a1abb0b-d8c9-465e-be5f-4c717dea3292"
      },
      "execution_count": null,
      "outputs": [
        {
          "output_type": "execute_result",
          "data": {
            "text/plain": [
              "'b'"
            ],
            "application/vnd.google.colaboratory.intrinsic+json": {
              "type": "string"
            }
          },
          "metadata": {},
          "execution_count": 33
        }
      ]
    },
    {
      "cell_type": "code",
      "source": [
        "result[0][1]"
      ],
      "metadata": {
        "colab": {
          "base_uri": "https://localhost:8080/"
        },
        "id": "LlfAevqiPgeT",
        "outputId": "e35214e9-98b4-43ca-8400-1804d97bc30a"
      },
      "execution_count": null,
      "outputs": [
        {
          "output_type": "execute_result",
          "data": {
            "text/plain": [
              "5"
            ]
          },
          "metadata": {},
          "execution_count": 34
        }
      ]
    },
    {
      "cell_type": "markdown",
      "source": [
        "## dict 정렬하여 출력하기\n",
        "기본적으로 dict 는 '순서' 가 없다\n",
        "- key 로 정렬하여 출력\n",
        "- value 로 정렬하여 출력\n",
        "  "
      ],
      "metadata": {
        "id": "kWMiTkftP9tq"
      }
    },
    {
      "cell_type": "code",
      "source": [
        "sorted(dict_A.items())  # key 오름 차순 정렬"
      ],
      "metadata": {
        "colab": {
          "base_uri": "https://localhost:8080/"
        },
        "id": "6RC1Uz0QPkwN",
        "outputId": "9bb4499e-5470-48d6-d1dd-72e553c67b19"
      },
      "execution_count": null,
      "outputs": [
        {
          "output_type": "execute_result",
          "data": {
            "text/plain": [
              "[('a', 2), ('b', 5), ('c', 3)]"
            ]
          },
          "metadata": {},
          "execution_count": 36
        }
      ]
    },
    {
      "cell_type": "code",
      "source": [
        "# value 오름 차순으로 정렬\n",
        "dict_items = dict_A.items()\n",
        "sorted(dict_items, key=lambda x: x[1])"
      ],
      "metadata": {
        "colab": {
          "base_uri": "https://localhost:8080/"
        },
        "id": "A4VUeJyZQZLb",
        "outputId": "d07a83c7-be8a-42d8-8a65-22732470f678"
      },
      "execution_count": null,
      "outputs": [
        {
          "output_type": "execute_result",
          "data": {
            "text/plain": [
              "[('a', 2), ('c', 3), ('b', 5)]"
            ]
          },
          "metadata": {},
          "execution_count": 37
        }
      ]
    },
    {
      "cell_type": "code",
      "source": [
        "# value 내림 차순으로 정렬\n",
        "dict_items = dict_A.items()\n",
        "sorted(dict_items, key=lambda x: x[1], reverse=True)"
      ],
      "metadata": {
        "colab": {
          "base_uri": "https://localhost:8080/"
        },
        "id": "2Dczkr2sQ80A",
        "outputId": "5b301f0b-c3be-44a7-8baf-7c3d6a4e56ac"
      },
      "execution_count": null,
      "outputs": [
        {
          "output_type": "execute_result",
          "data": {
            "text/plain": [
              "[('b', 5), ('c', 3), ('a', 2)]"
            ]
          },
          "metadata": {},
          "execution_count": 38
        }
      ]
    },
    {
      "cell_type": "markdown",
      "source": [
        "#파이썬의 기본 데이터 타입들 (정리)"
      ],
      "metadata": {
        "id": "Ol5pC2OHRAWQ"
      }
    },
    {
      "cell_type": "code",
      "source": [
        "# \t파이썬의 데이터타입들 (Datatype, 자료형)\n",
        "\n",
        "# \t1. 정수형 : int\t\t\tex) 10, 2, 512, 256 ...\n",
        "# \t2. 실수형 : float\t\tex) 3.14   100.0  -234.3455 ...\n",
        "# \t3. 문자열 : str\t\t\tex) \"Hello\"  '한국'   ...\n",
        "# \t4. 부울 : bool\t\t\tex) True  , False\n",
        "# \t5. 리스트 : list\t\t\tex) []  [10, 20]   ['Abc', 'ddd', 'ccc']\n",
        "# \t6. 튜플 : tuple\t\t\tex) ()   (10, 20)  ('aaa', 'bbb', 'ccc')\n",
        "# \t7. 딕셔너리 : dictionary  ex) {}   {'name':'pey', 'age': 10]\n",
        "#   8. 세트 : set             ex) {}   {10, 20, 30}\n",
        "# \t9. None"
      ],
      "metadata": {
        "id": "WlGBdzq3Q_iv"
      },
      "execution_count": null,
      "outputs": []
    },
    {
      "cell_type": "code",
      "source": [],
      "metadata": {
        "id": "Z0e7bXbtRFQt"
      },
      "execution_count": null,
      "outputs": []
    }
  ]
}