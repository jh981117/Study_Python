{
  "nbformat": 4,
  "nbformat_minor": 0,
  "metadata": {
    "colab": {
      "provenance": [],
      "authorship_tag": "ABX9TyMzuwPQQ+OJIoaZehP2AvGg",
      "include_colab_link": true
    },
    "kernelspec": {
      "name": "python3",
      "display_name": "Python 3"
    },
    "language_info": {
      "name": "python"
    }
  },
  "cells": [
    {
      "cell_type": "markdown",
      "metadata": {
        "id": "view-in-github",
        "colab_type": "text"
      },
      "source": [
        "<a href=\"https://colab.research.google.com/github/jh981117/Study_Python/blob/main/060_%EC%A1%B0%EA%B1%B4%EB%AC%B8.ipynb\" target=\"_parent\"><img src=\"https://colab.research.google.com/assets/colab-badge.svg\" alt=\"Open In Colab\"/></a>"
      ]
    },
    {
      "cell_type": "code",
      "execution_count": null,
      "metadata": {
        "id": "5T5xHDm9Rwse"
      },
      "outputs": [],
      "source": [
        "# 제어문 (Control)\n",
        "#     프로그램의 기본 흐름 변경\n",
        "#   1. 조건문 Conditional\n",
        "#       - if\n",
        "\n",
        "#   2. 순환문 Loop\n",
        "#       - for, while"
      ]
    },
    {
      "cell_type": "markdown",
      "source": [
        "#조건문 (Conditional)"
      ],
      "metadata": {
        "id": "BVJYVBkeR3YR"
      }
    },
    {
      "cell_type": "code",
      "source": [
        "# 조건문 (if ~ elif ~ else)\n",
        "\n",
        "\n",
        "# if 조건식:\n",
        "#    참일때 수행 구문 블록  (블록이란 문장들의 집합)\n",
        "\n",
        "\n",
        "# if 조건식:\n",
        "#    참일때 수행 구문 블록\n",
        "# else:\n",
        "#    거짓일때 수행 구문 블록\n",
        "\n",
        "\n",
        "# if 조건식1:\n",
        "#    조건식1 참일때 수행 구문 블록\n",
        "# elif 조건식2:\n",
        "#    조건식2 참일때 수행 구문 블록\n",
        "# elif 조건식3:\n",
        "#    조건식3 참일때 수행 구문 블록\n",
        "# else:\n",
        "#    어떤 조건식도 거짓일때 수행 구문 블록\n",
        "\n",
        "\n",
        "# 각 블록은 반드시 동일한 인덴트로 작성되어야 한다\n",
        "\n",
        "# 조건식에는 비교연산자와 논리연산자 등을 잘 활용해야 한다\n",
        "# 비교연산자 <, >, ==, !=, >=, <=\n",
        "# 논리연산자 and, or, not\n"
      ],
      "metadata": {
        "id": "yqfTxsY7R29q"
      },
      "execution_count": null,
      "outputs": []
    },
    {
      "cell_type": "code",
      "source": [
        "a = 10\n",
        "\n",
        "if a > 0:\n",
        "  print(\"변수a값은\")\n",
        "  print(a, '는 양수입니다')\n",
        "\n",
        "print('종료')"
      ],
      "metadata": {
        "colab": {
          "base_uri": "https://localhost:8080/"
        },
        "id": "KCXOTAFmR6cV",
        "outputId": "afbab1b7-fce6-4834-d24e-81e650faf357"
      },
      "execution_count": null,
      "outputs": [
        {
          "output_type": "stream",
          "name": "stdout",
          "text": [
            "변수a값은\n",
            "10 는 양수입니다\n",
            "종료\n"
          ]
        }
      ]
    },
    {
      "cell_type": "code",
      "source": [
        "a = -3\n",
        "\n",
        "if a % 2 ==0:\n",
        "  print('짝수입니다')\n",
        "  print('짝수입니다')\n",
        "else:\n",
        "    print('홀수입니다')\n",
        "    print('홀수입니다')"
      ],
      "metadata": {
        "colab": {
          "base_uri": "https://localhost:8080/"
        },
        "id": "rFtXZGqoSUFv",
        "outputId": "d239e043-c1e3-4f6f-b081-72fc958ca2a0"
      },
      "execution_count": null,
      "outputs": [
        {
          "output_type": "stream",
          "name": "stdout",
          "text": [
            "홀수입니다\n",
            "홀수입니다\n"
          ]
        }
      ]
    },
    {
      "cell_type": "code",
      "source": [
        "a = 10\n",
        "\n",
        "if a > 0:\n",
        "  print(\"양수\")\n",
        "elif a == 0:\n",
        "  print('0 입니다')\n",
        "else:\n",
        "  print('음수')"
      ],
      "metadata": {
        "colab": {
          "base_uri": "https://localhost:8080/"
        },
        "id": "c1r48fCqS2mN",
        "outputId": "5d27bd66-d338-4429-e2c5-3b9d278b790d"
      },
      "execution_count": null,
      "outputs": [
        {
          "output_type": "stream",
          "name": "stdout",
          "text": [
            "양수\n"
          ]
        }
      ]
    },
    {
      "cell_type": "code",
      "source": [
        "# 중첩 if 문\n",
        "n = 4\n",
        "\n",
        "if n % 2 == 0:\n",
        "  print('짝수입니다')\n",
        "  if n % 6 == 0:\n",
        "    print('6의 배수입니다')\n",
        "  else:\n",
        "    print('짝수이지만 6의 배수는 아닙니다')\n"
      ],
      "metadata": {
        "colab": {
          "base_uri": "https://localhost:8080/"
        },
        "id": "I8bJT4uyTMxw",
        "outputId": "477c9669-3ec0-41f9-bc60-ce5ab9b8c4a3"
      },
      "execution_count": null,
      "outputs": [
        {
          "output_type": "stream",
          "name": "stdout",
          "text": [
            "짝수입니다\n",
            "짝수이지만 6의 배수는 아닙니다\n"
          ]
        }
      ]
    },
    {
      "cell_type": "markdown",
      "source": [
        "#비교연산자, 논리연산자\n"
      ],
      "metadata": {
        "id": "nMnOnRo2W9en"
      }
    },
    {
      "cell_type": "code",
      "source": [
        "# 조건식에 사용가능한 비교연산자, 논리연산자\n",
        "# 비교연산자 : >, >=, <, <=, !=, ==\n",
        "# 논리연산자 : and, or, not, ^ (xor)\n",
        "# 위 연산자들의 결과값은 항상 True / False\n",
        "#      and : 둘다 '참' 일때 '참'\n",
        "#      or : 둘중 하나만 '참' 이면 '참'\n",
        "#      not : 참 -> 거짓, 거짓 -> 참\n",
        "#      ^ : eXclusive OR (XOR, 배타적 논리합)\n",
        "#          같으면 거짓, 다르면 참\n"
      ],
      "metadata": {
        "id": "QF3ws-HdW0KH"
      },
      "execution_count": null,
      "outputs": []
    },
    {
      "cell_type": "code",
      "source": [
        "d = 10"
      ],
      "metadata": {
        "id": "a1-7xNO-W8oV"
      },
      "execution_count": null,
      "outputs": []
    },
    {
      "cell_type": "code",
      "source": [
        "d > 2"
      ],
      "metadata": {
        "colab": {
          "base_uri": "https://localhost:8080/"
        },
        "id": "IBhVavpOaZ5X",
        "outputId": "e8b6f148-4e3e-4b2d-acc9-bbacc21a1459"
      },
      "execution_count": null,
      "outputs": [
        {
          "output_type": "execute_result",
          "data": {
            "text/plain": [
              "True"
            ]
          },
          "metadata": {},
          "execution_count": 66
        }
      ]
    },
    {
      "cell_type": "code",
      "source": [
        "d % 2 == 0 and d % 3 == 0"
      ],
      "metadata": {
        "colab": {
          "base_uri": "https://localhost:8080/"
        },
        "id": "pfXMFx03aZ2I",
        "outputId": "ae0ae513-4077-490e-aa3d-654b4741a8b0"
      },
      "execution_count": null,
      "outputs": [
        {
          "output_type": "execute_result",
          "data": {
            "text/plain": [
              "False"
            ]
          },
          "metadata": {},
          "execution_count": 67
        }
      ]
    },
    {
      "cell_type": "markdown",
      "source": [
        "# 비교연산자는 임의로 chaining 된다"
      ],
      "metadata": {
        "id": "zTyRuEnYaZVf"
      }
    },
    {
      "cell_type": "code",
      "source": [
        "# score 는 0 ~ 100 사이의 값이어야 한다면?\n",
        "score = 93\n",
        "\n",
        "if 0 <= score and score <= 100:\n",
        "  print(score, '는 유효한 점수입니다')\n",
        "else:\n",
        "  print(score, '는 유효한 점수가 아닙니다')"
      ],
      "metadata": {
        "colab": {
          "base_uri": "https://localhost:8080/"
        },
        "id": "3cnxiQRMagIQ",
        "outputId": "58e34173-4a3e-472c-b8ac-750c8b67cdd9"
      },
      "execution_count": null,
      "outputs": [
        {
          "output_type": "stream",
          "name": "stdout",
          "text": [
            "93 는 유효한 점수입니다\n"
          ]
        }
      ]
    },
    {
      "cell_type": "code",
      "source": [
        "# 파이썬에선 범위값 표현을 a <= x <= b 와 같이 표현 가능\n",
        "score = 93\n",
        "\n",
        "if 0 <= score <= 100:  #  => 0 <= score and score <= 100\n",
        "  print(score, '는 유효한 점수입니다')\n",
        "else:\n",
        "  print(score, '는 유효한 점수가 아닙니다')"
      ],
      "metadata": {
        "colab": {
          "base_uri": "https://localhost:8080/"
        },
        "id": "RLP8ZUOgagyZ",
        "outputId": "d72665ba-9f4d-4348-f00d-11ee056cc2c4"
      },
      "execution_count": null,
      "outputs": [
        {
          "output_type": "stream",
          "name": "stdout",
          "text": [
            "93 는 유효한 점수입니다\n"
          ]
        }
      ]
    },
    {
      "cell_type": "code",
      "source": [
        "# java, javascript 등에서는\n",
        "# false == true == false 의 결과는 true 였다...\n",
        "# 그런데...\n",
        "\n",
        "print(False == True == False)  # => False == True and True == False <- 이와 같이 chaining 되기때문.."
      ],
      "metadata": {
        "colab": {
          "base_uri": "https://localhost:8080/"
        },
        "id": "Vg9MJm7Tag1I",
        "outputId": "18bf1fc5-4bb3-42c9-87c4-07d7fd6f621a"
      },
      "execution_count": null,
      "outputs": [
        {
          "output_type": "stream",
          "name": "stdout",
          "text": [
            "False\n"
          ]
        }
      ]
    },
    {
      "cell_type": "markdown",
      "source": [
        "# 조건식의 '참', '거짓' 판정"
      ],
      "metadata": {
        "id": "x6uoB9BVamQ_"
      }
    },
    {
      "cell_type": "code",
      "source": [
        "# 조건식의 참 / 거짓 판정\n",
        "\n",
        "# 조건문,  순환문 등에 사용되는  '조건식' 은 참, 거짓이 판정되어야 하는데\n",
        "# 파이썬에서는 bool 타입 외에도 조건식에서 참, 거짓 판정이 된다.\n",
        "\n",
        "#               │     참     │   거짓\n",
        "# ───────────────────\n",
        "# bool 타입 :     True         False\n",
        "# 숫자 타입 :      0 아닌 숫자      0\n",
        "# str  타입 :      \"abc\"        \"\"   빈문자열\n",
        "# list 타입 :    [1, 2, 3]      []\n",
        "# tuple 타입 :   (1, 2, 3)      ()\n",
        "# dict 타입 :    {\"name\":\"john\"}    {}\n",
        "\n",
        "# None 타입 :   무조건 거짓"
      ],
      "metadata": {
        "id": "2HxxHfbdag4B"
      },
      "execution_count": null,
      "outputs": []
    },
    {
      "cell_type": "code",
      "source": [
        "result = 10\n",
        "result = 0\n",
        "result = 0.0\n",
        "result = \"abc\"\n",
        "result = \" \"\n",
        "result = ''\n",
        "result = not ''\n",
        "result = [1, 2, 3]\n",
        "result = []\n",
        "result = (1, 2)\n",
        "result = ()\n",
        "result = (0)\n",
        "\n",
        "if result:\n",
        "    print(\"참\", type(result), result)\n",
        "else:\n",
        "    print(\"거짓\", type(result), result)"
      ],
      "metadata": {
        "colab": {
          "base_uri": "https://localhost:8080/"
        },
        "id": "UtWxlpV7ag65",
        "outputId": "229cb98a-d84a-4b8b-c373-3af9b201c713"
      },
      "execution_count": null,
      "outputs": [
        {
          "output_type": "stream",
          "name": "stdout",
          "text": [
            "거짓 <class 'int'> 0\n"
          ]
        }
      ]
    },
    {
      "cell_type": "code",
      "source": [
        "not '최진무'"
      ],
      "metadata": {
        "colab": {
          "base_uri": "https://localhost:8080/"
        },
        "id": "FmZG15VOag9v",
        "outputId": "47177655-dc5a-46cf-80da-6b6a475193f9"
      },
      "execution_count": null,
      "outputs": [
        {
          "output_type": "execute_result",
          "data": {
            "text/plain": [
              "False"
            ]
          },
          "metadata": {},
          "execution_count": 73
        }
      ]
    },
    {
      "cell_type": "markdown",
      "source": [
        "# SCE : Short-circuit Evaluation"
      ],
      "metadata": {
        "id": "hhJS-tkkdkgo"
      }
    },
    {
      "cell_type": "code",
      "source": [
        "#논리 연산자 and, or 표현식과의 관계\n",
        "#참, 거짓 판정에 이어 논리연산자의 결과는\n",
        "# expression 값이 된다.\n",
        "# 이를 short-circuit evalutaiton (SCE) 혹은\n",
        "# lazy evalutation 이라 한다\n",
        "\n",
        "# or\n",
        "# 왼쪽이 참인 경우 '왼쪽' 수행결과값 리턴\n",
        "# 왼쪽이 거짓인 경우 '오른쪽' 수행결과값 리턴\n",
        "\n",
        "# and\n",
        "# 왼쪽이 참인 경우 '오른쪽' 수행결과값 리턴\n",
        "# 왼쪽이 거짓인 경우 '왼쪽' 수행결과값 리턴"
      ],
      "metadata": {
        "id": "vnp5NB3LahAh"
      },
      "execution_count": null,
      "outputs": []
    },
    {
      "cell_type": "code",
      "source": [
        "result = True or False\n",
        "result = True and False\n",
        "\n",
        "result = 0 or 100\n",
        "result = \"Hello\" or \"Python\"\n",
        "result = \"Hello\" and \"Python\"\n",
        "\n",
        "if result:\n",
        "    print(\"참\", type(result), result)\n",
        "else:\n",
        "    print(\"거짓\", type(result), result)"
      ],
      "metadata": {
        "colab": {
          "base_uri": "https://localhost:8080/"
        },
        "id": "4xjs0nzgahDg",
        "outputId": "5a30f07a-163f-48e2-e659-79525a1f4b6f"
      },
      "execution_count": null,
      "outputs": [
        {
          "output_type": "stream",
          "name": "stdout",
          "text": [
            "참 <class 'str'> Python\n"
          ]
        }
      ]
    },
    {
      "cell_type": "code",
      "source": [
        "n = 10\n",
        "(n % 5 == 0) and print(n, '은 5의 배수입니다')"
      ],
      "metadata": {
        "colab": {
          "base_uri": "https://localhost:8080/"
        },
        "id": "q9w_DQQYdoB_",
        "outputId": "34b639fa-3515-41f6-a95c-b0cedde24208"
      },
      "execution_count": null,
      "outputs": [
        {
          "output_type": "stream",
          "name": "stdout",
          "text": [
            "10 은 5의 배수입니다\n"
          ]
        }
      ]
    },
    {
      "cell_type": "code",
      "source": [
        "print(print('이기원'))"
      ],
      "metadata": {
        "colab": {
          "base_uri": "https://localhost:8080/"
        },
        "id": "o8NOdq9qdqzf",
        "outputId": "b377d42a-0c8f-4dfe-c7ea-7ef26957f2df"
      },
      "execution_count": null,
      "outputs": [
        {
          "output_type": "stream",
          "name": "stdout",
          "text": [
            "이기원\n",
            "None\n"
          ]
        }
      ]
    },
    {
      "cell_type": "code",
      "source": [
        "print('AAA') and print('BBB')"
      ],
      "metadata": {
        "colab": {
          "base_uri": "https://localhost:8080/"
        },
        "id": "m_MUJMwZdqn_",
        "outputId": "aa7c88fc-ce89-4e9c-fbd1-308293f7397e"
      },
      "execution_count": null,
      "outputs": [
        {
          "output_type": "stream",
          "name": "stdout",
          "text": [
            "AAA\n"
          ]
        }
      ]
    },
    {
      "cell_type": "code",
      "source": [
        "#list에 원소를 더하고, 더한 list를 리턴하려면?  (append는 none을 리턴)\n",
        "data = [10, 20, 30]\n",
        "\n",
        "data.append(40) or data"
      ],
      "metadata": {
        "colab": {
          "base_uri": "https://localhost:8080/"
        },
        "id": "X1vzQGzcdwvQ",
        "outputId": "b53e264a-8e03-413c-bd7c-1fc8ad5594df"
      },
      "execution_count": null,
      "outputs": [
        {
          "output_type": "execute_result",
          "data": {
            "text/plain": [
              "[10, 20, 30, 40]"
            ]
          },
          "metadata": {},
          "execution_count": 79
        }
      ]
    },
    {
      "cell_type": "code",
      "source": [
        "# dict 에 k-v 추가하고, 더한 dict 를 리턴하려면?  (update는 none을 리턴)\n",
        "data = {'name': '이기원'}\n",
        "\n",
        "data.update({'age': 30}) or data"
      ],
      "metadata": {
        "colab": {
          "base_uri": "https://localhost:8080/"
        },
        "id": "t0xKy-86eIJx",
        "outputId": "58939b09-3378-4e8b-cff5-b5fb3a088182"
      },
      "execution_count": null,
      "outputs": [
        {
          "output_type": "execute_result",
          "data": {
            "text/plain": [
              "{'name': '이기원', 'age': 30}"
            ]
          },
          "metadata": {},
          "execution_count": 80
        }
      ]
    },
    {
      "cell_type": "markdown",
      "source": [
        "# is 연산\n",
        "\n",
        "타입 확인"
      ],
      "metadata": {
        "id": "dtKBFNIve7nY"
      }
    },
    {
      "cell_type": "code",
      "source": [
        "# 명심: 파이썬의 모든 타입은 결국 객체다.\n",
        "# 즉, 특정 변수나 값이 어떤 타입(어떤 객체)인지 확인하여 True / False 판별하는 키워드 is"
      ],
      "metadata": {
        "id": "HhrL94deeEgy"
      },
      "execution_count": null,
      "outputs": []
    },
    {
      "cell_type": "code",
      "source": [
        "a = 10\n",
        "type(a) is int"
      ],
      "metadata": {
        "colab": {
          "base_uri": "https://localhost:8080/"
        },
        "id": "k_Ta_HoLfHIl",
        "outputId": "5c40fbd8-7973-4880-d117-b5f7f2a34e9d"
      },
      "execution_count": null,
      "outputs": [
        {
          "output_type": "execute_result",
          "data": {
            "text/plain": [
              "True"
            ]
          },
          "metadata": {},
          "execution_count": 82
        }
      ]
    },
    {
      "cell_type": "code",
      "source": [
        "a = [10, 20, 30]\n",
        "type(a) is tuple"
      ],
      "metadata": {
        "colab": {
          "base_uri": "https://localhost:8080/"
        },
        "id": "ZiWNRQFwfJtA",
        "outputId": "78b09bc8-c56b-4b70-bd74-5c4a914cdf77"
      },
      "execution_count": null,
      "outputs": [
        {
          "output_type": "execute_result",
          "data": {
            "text/plain": [
              "False"
            ]
          },
          "metadata": {},
          "execution_count": 83
        }
      ]
    },
    {
      "cell_type": "markdown",
      "source": [
        "# pass 키워드\n",
        "아무것도 안하는 블럭에는 꼭 명시!"
      ],
      "metadata": {
        "id": "AkjeVJ7Tfr8g"
      }
    },
    {
      "cell_type": "code",
      "source": [
        "a"
      ],
      "metadata": {
        "colab": {
          "base_uri": "https://localhost:8080/"
        },
        "id": "mbCdYZMHfp1n",
        "outputId": "11e403ef-001b-4ca4-d9ea-bc0e23bc2167"
      },
      "execution_count": null,
      "outputs": [
        {
          "output_type": "execute_result",
          "data": {
            "text/plain": [
              "[10, 20, 30]"
            ]
          },
          "metadata": {},
          "execution_count": 84
        }
      ]
    },
    {
      "cell_type": "code",
      "source": [
        "if 10 in a:\n",
        "  pass   # 아무것도 안하는 블럭이라면 pass 를 명시해야만 한다\n",
        "else:\n",
        "    print('없어요')"
      ],
      "metadata": {
        "id": "iFj-Xk4ff36t"
      },
      "execution_count": null,
      "outputs": []
    },
    {
      "cell_type": "markdown",
      "source": [
        "# 블럭 수행구문이 한문장이면\n",
        "\n",
        "(클론) 다음에 한줄로 작성가능"
      ],
      "metadata": {
        "id": "tSLfozNugVKw"
      }
    },
    {
      "cell_type": "code",
      "source": [
        "if 10 in a: print(\"있습니다\")"
      ],
      "metadata": {
        "colab": {
          "base_uri": "https://localhost:8080/"
        },
        "id": "32Fjn1v7f--j",
        "outputId": "3457a4e7-c6da-4e26-8e1d-acd877f807a5"
      },
      "execution_count": null,
      "outputs": [
        {
          "output_type": "stream",
          "name": "stdout",
          "text": [
            "있습니다\n"
          ]
        }
      ]
    },
    {
      "cell_type": "markdown",
      "source": [
        "# Conditional Expression\n",
        "\n",
        "구문 `(참일때의 값) if (조건식) else (거짓일때의 값)`\n"
      ],
      "metadata": {
        "id": "sllI-ADLgwMH"
      }
    },
    {
      "cell_type": "code",
      "source": [
        "n = -3\n",
        "\n",
        "\"양수\" if n > 0 else \"0 혹은 음수\""
      ],
      "metadata": {
        "colab": {
          "base_uri": "https://localhost:8080/",
          "height": 35
        },
        "id": "GS7lN5pjge0e",
        "outputId": "7ba31557-501a-4228-bd66-e37c3d5d83e3"
      },
      "execution_count": null,
      "outputs": [
        {
          "output_type": "execute_result",
          "data": {
            "text/plain": [
              "'0 혹은 음수'"
            ],
            "application/vnd.google.colaboratory.intrinsic+json": {
              "type": "string"
            }
          },
          "metadata": {},
          "execution_count": 87
        }
      ]
    },
    {
      "cell_type": "code",
      "source": [
        "n =0\n",
        "\"양수\" if n>0 else (\"음수\" if n<0 else \"0\")"
      ],
      "metadata": {
        "colab": {
          "base_uri": "https://localhost:8080/",
          "height": 35
        },
        "id": "8bpb3I6ZhWX9",
        "outputId": "b49c3985-ca35-4ebc-ec21-ff1076b7f7c1"
      },
      "execution_count": null,
      "outputs": [
        {
          "output_type": "execute_result",
          "data": {
            "text/plain": [
              "'0'"
            ],
            "application/vnd.google.colaboratory.intrinsic+json": {
              "type": "string"
            }
          },
          "metadata": {},
          "execution_count": 88
        }
      ]
    },
    {
      "cell_type": "code",
      "source": [],
      "metadata": {
        "id": "W54dp2h_ysUB"
      },
      "execution_count": null,
      "outputs": []
    }
  ]
}