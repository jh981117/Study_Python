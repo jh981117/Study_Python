{
  "nbformat": 4,
  "nbformat_minor": 0,
  "metadata": {
    "colab": {
      "provenance": [],
      "authorship_tag": "ABX9TyO93EKN3SIIYyxCVNdqFHT/",
      "include_colab_link": true
    },
    "kernelspec": {
      "name": "python3",
      "display_name": "Python 3"
    },
    "language_info": {
      "name": "python"
    }
  },
  "cells": [
    {
      "cell_type": "markdown",
      "metadata": {
        "id": "view-in-github",
        "colab_type": "text"
      },
      "source": [
        "<a href=\"https://colab.research.google.com/github/jh981117/Study_Python/blob/main/070_%EC%88%9C%ED%99%98%EB%AC%B8.ipynb\" target=\"_parent\"><img src=\"https://colab.research.google.com/assets/colab-badge.svg\" alt=\"Open In Colab\"/></a>"
      ]
    },
    {
      "cell_type": "code",
      "execution_count": null,
      "metadata": {
        "id": "zs9e6Cb2y2hO"
      },
      "outputs": [],
      "source": [
        "# while, for"
      ]
    },
    {
      "cell_type": "markdown",
      "source": [
        "# while 순환문\n"
      ],
      "metadata": {
        "id": "kBaaqGCTzLsX"
      }
    },
    {
      "cell_type": "code",
      "source": [
        "# while 순환문 구조,  조건문이 '참' 인 동안 수행문장을 반복수행\n",
        "\n",
        "# while <조건문>:\n",
        "#     <수행할 문장1>\n",
        "#     <수행할 문장2>\n",
        "#     <수행할 문장3>\n",
        "#     ...\n",
        "# else:\n",
        "#      순환문 빠져나오기 전에 수행  (가독성측면에서 사용권장 x)\n"
      ],
      "metadata": {
        "id": "N4GnuX6kzLI9"
      },
      "execution_count": null,
      "outputs": []
    },
    {
      "cell_type": "code",
      "source": [
        "num =0\n",
        "\n",
        "while num < 5:\n",
        "  print(num)\n",
        "  num = num + 1\n",
        "\n",
        "else:\n",
        "  print('while 종료전 num =', num)\n",
        "print('종료')"
      ],
      "metadata": {
        "colab": {
          "base_uri": "https://localhost:8080/"
        },
        "id": "o76X3e_hzPXJ",
        "outputId": "28e0f7e9-2d09-4f1c-a907-58f3143757fc"
      },
      "execution_count": null,
      "outputs": [
        {
          "output_type": "stream",
          "name": "stdout",
          "text": [
            "0\n",
            "1\n",
            "2\n",
            "3\n",
            "4\n",
            "while 종료전 num = 5\n",
            "종료\n"
          ]
        }
      ]
    },
    {
      "cell_type": "code",
      "source": [
        "from __future__ import print_function\n",
        "# 구구단 출력 : 2단 ~ 9단\n",
        "# 중첩된 for 문\n",
        "\n",
        "'''\n",
        "2 x 1 = 2\n",
        "2 x 2 = 4\n",
        "...\n",
        "2 x 9 = 18\n",
        "3 x 1 = 3\n",
        "...\n",
        "4 x 1 = 4\n",
        "…\n",
        "...\n",
        "9 x 9 = 81\n",
        "'''\n",
        "\n",
        "num = 2\n",
        "i = 1\n",
        "while num < 9 + 1:\n",
        "    while i < 9 + 1:\n",
        "        print(f\"{num} x {i} = {num * i}\")\n",
        "        i += 1\n",
        "    i = 1\n",
        "    num += 1\n",
        "\n",
        "\n"
      ],
      "metadata": {
        "colab": {
          "base_uri": "https://localhost:8080/"
        },
        "id": "PS_5dnc-z-3B",
        "outputId": "3a376350-91ac-468a-c8c1-458a2cedc30e"
      },
      "execution_count": null,
      "outputs": [
        {
          "output_type": "stream",
          "name": "stdout",
          "text": [
            "2 x 1 = 2\n",
            "2 x 2 = 4\n",
            "2 x 3 = 6\n",
            "2 x 4 = 8\n",
            "2 x 5 = 10\n",
            "2 x 6 = 12\n",
            "2 x 7 = 14\n",
            "2 x 8 = 16\n",
            "2 x 9 = 18\n",
            "3 x 1 = 3\n",
            "3 x 2 = 6\n",
            "3 x 3 = 9\n",
            "3 x 4 = 12\n",
            "3 x 5 = 15\n",
            "3 x 6 = 18\n",
            "3 x 7 = 21\n",
            "3 x 8 = 24\n",
            "3 x 9 = 27\n",
            "4 x 1 = 4\n",
            "4 x 2 = 8\n",
            "4 x 3 = 12\n",
            "4 x 4 = 16\n",
            "4 x 5 = 20\n",
            "4 x 6 = 24\n",
            "4 x 7 = 28\n",
            "4 x 8 = 32\n",
            "4 x 9 = 36\n",
            "5 x 1 = 5\n",
            "5 x 2 = 10\n",
            "5 x 3 = 15\n",
            "5 x 4 = 20\n",
            "5 x 5 = 25\n",
            "5 x 6 = 30\n",
            "5 x 7 = 35\n",
            "5 x 8 = 40\n",
            "5 x 9 = 45\n",
            "6 x 1 = 6\n",
            "6 x 2 = 12\n",
            "6 x 3 = 18\n",
            "6 x 4 = 24\n",
            "6 x 5 = 30\n",
            "6 x 6 = 36\n",
            "6 x 7 = 42\n",
            "6 x 8 = 48\n",
            "6 x 9 = 54\n",
            "7 x 1 = 7\n",
            "7 x 2 = 14\n",
            "7 x 3 = 21\n",
            "7 x 4 = 28\n",
            "7 x 5 = 35\n",
            "7 x 6 = 42\n",
            "7 x 7 = 49\n",
            "7 x 8 = 56\n",
            "7 x 9 = 63\n",
            "8 x 1 = 8\n",
            "8 x 2 = 16\n",
            "8 x 3 = 24\n",
            "8 x 4 = 32\n",
            "8 x 5 = 40\n",
            "8 x 6 = 48\n",
            "8 x 7 = 56\n",
            "8 x 8 = 64\n",
            "8 x 9 = 72\n",
            "9 x 1 = 9\n",
            "9 x 2 = 18\n",
            "9 x 3 = 27\n",
            "9 x 4 = 36\n",
            "9 x 5 = 45\n",
            "9 x 6 = 54\n",
            "9 x 7 = 63\n",
            "9 x 8 = 72\n",
            "9 x 9 = 81\n"
          ]
        }
      ]
    },
    {
      "cell_type": "markdown",
      "source": [
        "# break, continue"
      ],
      "metadata": {
        "id": "w3Xr3u-72sJm"
      }
    },
    {
      "cell_type": "code",
      "source": [
        "n = 1\n",
        "while True: # 무한루프\n",
        "  print(n, end = ' ')\n",
        "  if n == 100: break\n",
        "  n += 1"
      ],
      "metadata": {
        "colab": {
          "base_uri": "https://localhost:8080/"
        },
        "id": "x_e653Jc00FE",
        "outputId": "58014dc7-6ca8-4845-cc33-3bcf10faea35"
      },
      "execution_count": null,
      "outputs": [
        {
          "output_type": "stream",
          "name": "stdout",
          "text": [
            "1 2 3 4 5 6 7 8 9 10 11 12 13 14 15 16 17 18 19 20 21 22 23 24 25 26 27 28 29 30 31 32 33 34 35 36 37 38 39 40 41 42 43 44 45 46 47 48 49 50 51 52 53 54 55 56 57 58 59 60 61 62 63 64 65 66 67 68 69 70 71 72 73 74 75 76 77 78 79 80 81 82 83 84 85 86 87 88 89 90 91 92 93 94 95 96 97 98 99 100 "
          ]
        }
      ]
    },
    {
      "cell_type": "code",
      "source": [
        "n = 0\n",
        "while True: # 무한루프\n",
        "  n += 1\n",
        "  if n %  2 == 0: continue\n",
        "  print(n, end = ' ')\n",
        "  break # -> 이거 없으면 계속돌아감"
      ],
      "metadata": {
        "colab": {
          "base_uri": "https://localhost:8080/"
        },
        "id": "jUBeBSlG24lr",
        "outputId": "0d096e4a-4d3f-46c1-a58e-a84719101f07"
      },
      "execution_count": null,
      "outputs": [
        {
          "output_type": "stream",
          "name": "stdout",
          "text": [
            "1 "
          ]
        }
      ]
    },
    {
      "cell_type": "markdown",
      "source": [
        "#for 순환문"
      ],
      "metadata": {
        "id": "UnLPydFV3lNI"
      }
    },
    {
      "cell_type": "code",
      "source": [
        "# for 순환문\n",
        "# 기존의 다른 프로그래밍 언어의 for 문에 비해 파이썬은 매우 직관적이고 사용하기 편리\n",
        "\n",
        "# 구문]\n",
        "# for 변수 in iterable객체:\n",
        "#     수행할 문장1\n",
        "#     수행할 문장2\n",
        "#     ....\n",
        "# else:\n",
        "#      순환문 빠져나오기 전에 수행\n",
        "\n",
        "# iterable한 객체들 => range(숫자), str, list, set, tuple, dict ...\n"
      ],
      "metadata": {
        "id": "UpBlDMkQ3KOR"
      },
      "execution_count": null,
      "outputs": []
    },
    {
      "cell_type": "code",
      "source": [
        "range(3) # 0, 1, 2 의 숫자가 담긴 iterable 객체 생성"
      ],
      "metadata": {
        "colab": {
          "base_uri": "https://localhost:8080/"
        },
        "id": "fVMENd0d4Fpl",
        "outputId": "d2182507-6d7f-4bee-b317-29e575af6218"
      },
      "execution_count": null,
      "outputs": [
        {
          "output_type": "execute_result",
          "data": {
            "text/plain": [
              "range(0, 3)"
            ]
          },
          "metadata": {},
          "execution_count": 23
        }
      ]
    },
    {
      "cell_type": "code",
      "source": [
        "list(range(3))"
      ],
      "metadata": {
        "colab": {
          "base_uri": "https://localhost:8080/"
        },
        "id": "34z84t2O4HXG",
        "outputId": "ca2a84be-d6b2-4be5-ec69-102b16cb85d4"
      },
      "execution_count": null,
      "outputs": [
        {
          "output_type": "execute_result",
          "data": {
            "text/plain": [
              "[0, 1, 2]"
            ]
          },
          "metadata": {},
          "execution_count": 24
        }
      ]
    },
    {
      "cell_type": "code",
      "source": [
        "list(range(4,8)) # 4, 5, 6, 7"
      ],
      "metadata": {
        "colab": {
          "base_uri": "https://localhost:8080/"
        },
        "id": "LfA2RAh_4U_8",
        "outputId": "6ab1f775-0542-40d3-fa31-ebfc2374b860"
      },
      "execution_count": null,
      "outputs": [
        {
          "output_type": "execute_result",
          "data": {
            "text/plain": [
              "[4, 5, 6, 7]"
            ]
          },
          "metadata": {},
          "execution_count": 25
        }
      ]
    },
    {
      "cell_type": "code",
      "source": [
        "for i in range(3):\n",
        "  print('hello 진무', i)"
      ],
      "metadata": {
        "colab": {
          "base_uri": "https://localhost:8080/"
        },
        "id": "XuqUWXID4bX8",
        "outputId": "b478c488-10a4-436b-8c7a-4a55ed8886db"
      },
      "execution_count": null,
      "outputs": [
        {
          "output_type": "stream",
          "name": "stdout",
          "text": [
            "hello 진무 0\n",
            "hello 진무 1\n",
            "hello 진무 2\n"
          ]
        }
      ]
    },
    {
      "cell_type": "code",
      "source": [
        "for i in range(4, 15, 3): # 3번째 매개변수는 step값 4, 7, 10, 13\n",
        " print(i)"
      ],
      "metadata": {
        "colab": {
          "base_uri": "https://localhost:8080/"
        },
        "id": "xj8sC9RL41bO",
        "outputId": "1060b3a2-440d-4396-f5ad-fe88a2b9e811"
      },
      "execution_count": null,
      "outputs": [
        {
          "output_type": "stream",
          "name": "stdout",
          "text": [
            "4\n",
            "7\n",
            "10\n",
            "13\n"
          ]
        }
      ]
    },
    {
      "cell_type": "code",
      "source": [
        "for i in range(10, 0 ,-2): # 10 8 6 4 2\n",
        "  print(i)"
      ],
      "metadata": {
        "colab": {
          "base_uri": "https://localhost:8080/"
        },
        "id": "Bcuqw2dI44e-",
        "outputId": "b29c5b2d-30c6-4924-d2ab-54d166e5fd18"
      },
      "execution_count": null,
      "outputs": [
        {
          "output_type": "stream",
          "name": "stdout",
          "text": [
            "10\n",
            "8\n",
            "6\n",
            "4\n",
            "2\n"
          ]
        }
      ]
    },
    {
      "cell_type": "code",
      "source": [
        "for i in range(2,10):\n",
        "  for x in range(1,10):\n",
        "   print(f\"{i} x {x} = {i*x}\")"
      ],
      "metadata": {
        "colab": {
          "base_uri": "https://localhost:8080/"
        },
        "id": "TwWs6zvn5aJU",
        "outputId": "a08c0aba-3bbd-4255-d903-b0992a282134"
      },
      "execution_count": null,
      "outputs": [
        {
          "output_type": "stream",
          "name": "stdout",
          "text": [
            "2 x 1 = 2\n",
            "2 x 2 = 4\n",
            "2 x 3 = 6\n",
            "2 x 4 = 8\n",
            "2 x 5 = 10\n",
            "2 x 6 = 12\n",
            "2 x 7 = 14\n",
            "2 x 8 = 16\n",
            "2 x 9 = 18\n",
            "3 x 1 = 3\n",
            "3 x 2 = 6\n",
            "3 x 3 = 9\n",
            "3 x 4 = 12\n",
            "3 x 5 = 15\n",
            "3 x 6 = 18\n",
            "3 x 7 = 21\n",
            "3 x 8 = 24\n",
            "3 x 9 = 27\n",
            "4 x 1 = 4\n",
            "4 x 2 = 8\n",
            "4 x 3 = 12\n",
            "4 x 4 = 16\n",
            "4 x 5 = 20\n",
            "4 x 6 = 24\n",
            "4 x 7 = 28\n",
            "4 x 8 = 32\n",
            "4 x 9 = 36\n",
            "5 x 1 = 5\n",
            "5 x 2 = 10\n",
            "5 x 3 = 15\n",
            "5 x 4 = 20\n",
            "5 x 5 = 25\n",
            "5 x 6 = 30\n",
            "5 x 7 = 35\n",
            "5 x 8 = 40\n",
            "5 x 9 = 45\n",
            "6 x 1 = 6\n",
            "6 x 2 = 12\n",
            "6 x 3 = 18\n",
            "6 x 4 = 24\n",
            "6 x 5 = 30\n",
            "6 x 6 = 36\n",
            "6 x 7 = 42\n",
            "6 x 8 = 48\n",
            "6 x 9 = 54\n",
            "7 x 1 = 7\n",
            "7 x 2 = 14\n",
            "7 x 3 = 21\n",
            "7 x 4 = 28\n",
            "7 x 5 = 35\n",
            "7 x 6 = 42\n",
            "7 x 7 = 49\n",
            "7 x 8 = 56\n",
            "7 x 9 = 63\n",
            "8 x 1 = 8\n",
            "8 x 2 = 16\n",
            "8 x 3 = 24\n",
            "8 x 4 = 32\n",
            "8 x 5 = 40\n",
            "8 x 6 = 48\n",
            "8 x 7 = 56\n",
            "8 x 8 = 64\n",
            "8 x 9 = 72\n",
            "9 x 1 = 9\n",
            "9 x 2 = 18\n",
            "9 x 3 = 27\n",
            "9 x 4 = 36\n",
            "9 x 5 = 45\n",
            "9 x 6 = 54\n",
            "9 x 7 = 63\n",
            "9 x 8 = 72\n",
            "9 x 9 = 81\n"
          ]
        }
      ]
    },
    {
      "cell_type": "code",
      "source": [
        "animals = [\"dog\", \"cat\", \"bird\", \"puppy\", \"kitty\"]"
      ],
      "metadata": {
        "id": "W9oCojJP5_aQ"
      },
      "execution_count": null,
      "outputs": []
    },
    {
      "cell_type": "code",
      "source": [
        "for animal in animals:\n",
        "  print(\"진무 love\", animal)"
      ],
      "metadata": {
        "colab": {
          "base_uri": "https://localhost:8080/"
        },
        "id": "C6F6X3Sb56RA",
        "outputId": "c8c5daaf-fb20-4da1-dc41-261e38f8aca7"
      },
      "execution_count": null,
      "outputs": [
        {
          "output_type": "stream",
          "name": "stdout",
          "text": [
            "진무 love dog\n",
            "진무 love cat\n",
            "진무 love bird\n",
            "진무 love puppy\n",
            "진무 love kitty\n"
          ]
        }
      ]
    },
    {
      "cell_type": "code",
      "source": [
        "for ch in \"Hello 진무\": # String: iterable\n",
        "  print(ch, end = ', ') # end = ', ' => 줄바꿈 x"
      ],
      "metadata": {
        "colab": {
          "base_uri": "https://localhost:8080/"
        },
        "id": "d3Mhl8Uh53Dl",
        "outputId": "49094537-ef12-4c0a-8cd6-2c203d645feb"
      },
      "execution_count": null,
      "outputs": [
        {
          "output_type": "stream",
          "name": "stdout",
          "text": [
            "H, e, l, l, o,  , 진, 무, "
          ]
        }
      ]
    },
    {
      "cell_type": "code",
      "source": [
        "myDict = {'name': '최진무', 'age': 24, 'grade': 4}\n",
        "myDict"
      ],
      "metadata": {
        "colab": {
          "base_uri": "https://localhost:8080/"
        },
        "id": "mh0Iyt007E8t",
        "outputId": "07469f5a-055b-4d25-b84a-abf1af19ce7f"
      },
      "execution_count": null,
      "outputs": [
        {
          "output_type": "execute_result",
          "data": {
            "text/plain": [
              "{'name': '최진무', 'age': 24, 'grade': 4}"
            ]
          },
          "metadata": {},
          "execution_count": 40
        }
      ]
    },
    {
      "cell_type": "code",
      "source": [
        "for key in myDict:\n",
        "  print(key, ':', myDict[key])    # key : key 값, myDict[key]: key값에 해당하는 value값"
      ],
      "metadata": {
        "colab": {
          "base_uri": "https://localhost:8080/"
        },
        "id": "GqGZApYj7eoD",
        "outputId": "c29777c3-7398-4bfa-90e4-0366cb3460bd"
      },
      "execution_count": null,
      "outputs": [
        {
          "output_type": "stream",
          "name": "stdout",
          "text": [
            "name : 최진무\n",
            "age : 24\n",
            "grade : 4\n"
          ]
        }
      ]
    },
    {
      "cell_type": "code",
      "source": [
        "myDict.items() # => k-v 로 구성된 iterable 객체"
      ],
      "metadata": {
        "colab": {
          "base_uri": "https://localhost:8080/"
        },
        "id": "4sHBim3x7lSO",
        "outputId": "b9cdefbe-4c6e-4502-e4ca-816788425161"
      },
      "execution_count": null,
      "outputs": [
        {
          "output_type": "execute_result",
          "data": {
            "text/plain": [
              "dict_items([('name', '최진무'), ('age', 24), ('grade', 4)])"
            ]
          },
          "metadata": {},
          "execution_count": 43
        }
      ]
    },
    {
      "cell_type": "code",
      "source": [
        "for item in myDict.items():  # item => 여기서는 tuple\n",
        "  print(item[0], ':', item[1])"
      ],
      "metadata": {
        "colab": {
          "base_uri": "https://localhost:8080/"
        },
        "id": "e457cF7e7uvq",
        "outputId": "dad2184d-e20a-4537-8bbd-98fbec7131b1"
      },
      "execution_count": null,
      "outputs": [
        {
          "output_type": "stream",
          "name": "stdout",
          "text": [
            "name : 최진무\n",
            "age : 24\n",
            "grade : 4\n"
          ]
        }
      ]
    },
    {
      "cell_type": "code",
      "source": [
        "for key, value in myDict.items():  # tuple 이기 떄문에 key, value로 받을수있음\n",
        "  print(key, ':', value)"
      ],
      "metadata": {
        "colab": {
          "base_uri": "https://localhost:8080/"
        },
        "id": "6MoZmz8m7_1G",
        "outputId": "b6914f73-6637-482c-d5bd-91fc295a3a56"
      },
      "execution_count": null,
      "outputs": [
        {
          "output_type": "stream",
          "name": "stdout",
          "text": [
            "name : 최진무\n",
            "age : 24\n",
            "grade : 4\n"
          ]
        }
      ]
    },
    {
      "cell_type": "code",
      "source": [],
      "metadata": {
        "id": "WOgnsHal8NPg"
      },
      "execution_count": null,
      "outputs": []
    }
  ]
}