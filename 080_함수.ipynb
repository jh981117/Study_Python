{
  "nbformat": 4,
  "nbformat_minor": 0,
  "metadata": {
    "colab": {
      "provenance": [],
      "authorship_tag": "ABX9TyOzARYX29j5mGy4OCLKMpfE",
      "include_colab_link": true
    },
    "kernelspec": {
      "name": "python3",
      "display_name": "Python 3"
    },
    "language_info": {
      "name": "python"
    }
  },
  "cells": [
    {
      "cell_type": "markdown",
      "metadata": {
        "id": "view-in-github",
        "colab_type": "text"
      },
      "source": [
        "<a href=\"https://colab.research.google.com/github/jh981117/Study_Python/blob/main/080_%ED%95%A8%EC%88%98.ipynb\" target=\"_parent\"><img src=\"https://colab.research.google.com/assets/colab-badge.svg\" alt=\"Open In Colab\"/></a>"
      ]
    },
    {
      "cell_type": "markdown",
      "source": [
        "# 함수 (Function)"
      ],
      "metadata": {
        "id": "2pm9bBlyKe0-"
      }
    },
    {
      "cell_type": "code",
      "execution_count": null,
      "metadata": {
        "id": "W6wRs-pdKaJC"
      },
      "outputs": [],
      "source": [
        "# 함수 만들기 (함수 정의 : Function Definition)\n",
        "\n",
        "# def 키워드로 작성\n",
        "\n",
        "# def 함수이름( 매개변수 들):\n",
        "#     함수 본체 <수행할 문장1>\n",
        "#     함수 본체 <수행할 문장2>\n",
        "#     ...\n",
        "\n",
        "# 함수의 동작 정의\n",
        "#   입력(매개변수) -> 본체 수행 -> 결과(리턴)\n",
        "\n",
        "# 함수이름은 변수 이름 작성과 거의 동일한 규칙\n",
        "\n",
        "#----------------------------------------------------------\n",
        "# 함수 호출 (함수 사용 )  Function call, invoke\n",
        "# 함수호출시 넘겨지는 인자(parameter) 값들은\n",
        "# 함수의 매개변수(argument)들이 받습니다.\n",
        "# 매개변수는 0개, 한개, 여러개 있을수 있을수 있습니다\n",
        "\n",
        "# 함수에는 리턴값이 있다.\n",
        "# 리턴값은 함수를 호출(call) 한쪽에 돌려준다\n",
        "# return 키워드로 리턴값을\n",
        "# 함수 본체 수행중 return 을 만나면 함수를 종료 하게 됩니다\n",
        "# 어떠한 타입도 리턴할수 있다.\n",
        "# 리턴값은 없을수도 있다. None 리턴\n"
      ]
    },
    {
      "cell_type": "code",
      "source": [
        "def sayAnthem():\n",
        "  print(\"동해물과 백두산이\")\n",
        "  print(\"마르고 닳도록\")\n",
        "  print(\"하느님이 보우하사\")\n",
        "  print(\"우리나라 만세\")"
      ],
      "metadata": {
        "id": "oT6qaA9dKhi5"
      },
      "execution_count": null,
      "outputs": []
    },
    {
      "cell_type": "code",
      "source": [
        "sayAnthem"
      ],
      "metadata": {
        "colab": {
          "base_uri": "https://localhost:8080/",
          "height": 104
        },
        "id": "D3PzNIEIKjCM",
        "outputId": "af8c1c8f-7e5f-42a9-d64b-51cfde5172a2"
      },
      "execution_count": null,
      "outputs": [
        {
          "output_type": "execute_result",
          "data": {
            "text/plain": [
              "<function __main__.sayAnthem()>"
            ],
            "text/html": [
              "<div style=\"max-width:800px; border: 1px solid var(--colab-border-color);\"><style>\n",
              "      pre.function-repr-contents {\n",
              "        overflow-x: auto;\n",
              "        padding: 8px 12px;\n",
              "        max-height: 500px;\n",
              "      }\n",
              "\n",
              "      pre.function-repr-contents.function-repr-contents-collapsed {\n",
              "        cursor: pointer;\n",
              "        max-height: 100px;\n",
              "      }\n",
              "    </style>\n",
              "    <pre style=\"white-space: initial; background:\n",
              "         var(--colab-secondary-surface-color); padding: 8px 12px;\n",
              "         border-bottom: 1px solid var(--colab-border-color);\"><b>sayAnthem</b><br/>def sayAnthem()</pre><pre class=\"function-repr-contents function-repr-contents-collapsed\" style=\"\"><a class=\"filepath\" style=\"display:none\" href=\"#\">/content/&lt;ipython-input-105-97aea68538cf&gt;</a>&lt;no docstring&gt;</pre></div>"
            ]
          },
          "metadata": {},
          "execution_count": 106
        }
      ]
    },
    {
      "cell_type": "code",
      "source": [
        "type(sayAnthem)"
      ],
      "metadata": {
        "colab": {
          "base_uri": "https://localhost:8080/"
        },
        "id": "3_QbO1YeKkXj",
        "outputId": "5d5a14ac-bd6c-494e-8ea6-9a6a5089cd3c"
      },
      "execution_count": null,
      "outputs": [
        {
          "output_type": "execute_result",
          "data": {
            "text/plain": [
              "function"
            ]
          },
          "metadata": {},
          "execution_count": 107
        }
      ]
    },
    {
      "cell_type": "code",
      "source": [
        "# 호출\n",
        "sayAnthem()"
      ],
      "metadata": {
        "colab": {
          "base_uri": "https://localhost:8080/"
        },
        "id": "m-IrSZyTKmST",
        "outputId": "e02dfefd-87dc-4736-fe10-b8c9bf7c41c3"
      },
      "execution_count": null,
      "outputs": [
        {
          "output_type": "stream",
          "name": "stdout",
          "text": [
            "동해물과 백두산이\n",
            "마르고 닳도록\n",
            "하느님이 보우하사\n",
            "우리나라 만세\n"
          ]
        }
      ]
    },
    {
      "cell_type": "code",
      "source": [
        "# 매개변수\n",
        "def sayName(name):\n",
        "  print('안녕하세요')\n",
        "  print(f'제 이름은 {name} 입니다')"
      ],
      "metadata": {
        "id": "DlE0nqYqKoI3"
      },
      "execution_count": null,
      "outputs": []
    },
    {
      "cell_type": "code",
      "source": [
        "sayName('최진무')"
      ],
      "metadata": {
        "colab": {
          "base_uri": "https://localhost:8080/"
        },
        "id": "aLj6wdXBKqJn",
        "outputId": "d14bfeca-b8d8-4771-db5c-3736e40c77f9"
      },
      "execution_count": null,
      "outputs": [
        {
          "output_type": "stream",
          "name": "stdout",
          "text": [
            "안녕하세요\n",
            "제 이름은 최진무 입니다\n"
          ]
        }
      ]
    },
    {
      "cell_type": "code",
      "source": [
        "# sayName()\n",
        "# TypeError: sayName() missing 1 required positional argument: 'name'"
      ],
      "metadata": {
        "id": "cCGtVUFyKrtp"
      },
      "execution_count": null,
      "outputs": []
    },
    {
      "cell_type": "code",
      "source": [
        "def sayAge(age):\n",
        "  print('제 나이는 용...')\n",
        "  print(f'{age} 살입니다')"
      ],
      "metadata": {
        "id": "PxoWHHaMKucn"
      },
      "execution_count": null,
      "outputs": []
    },
    {
      "cell_type": "code",
      "source": [
        "sayAge(40)"
      ],
      "metadata": {
        "colab": {
          "base_uri": "https://localhost:8080/"
        },
        "id": "cTDvFX99KwRv",
        "outputId": "b6b54669-e13e-42c6-fb87-87da43244187"
      },
      "execution_count": null,
      "outputs": [
        {
          "output_type": "stream",
          "name": "stdout",
          "text": [
            "제 나이는 용...\n",
            "40 살입니다\n"
          ]
        }
      ]
    },
    {
      "cell_type": "code",
      "source": [
        "def sayHello(name, age):\n",
        "  print(\"--\"*10)\n",
        "  sayName(name)\n",
        "  sayAge(age)\n",
        "  print(\"--\"*10)"
      ],
      "metadata": {
        "id": "JcaXmNcBKxTU"
      },
      "execution_count": null,
      "outputs": []
    },
    {
      "cell_type": "code",
      "source": [
        "sayHello(\"장고운\", 34)"
      ],
      "metadata": {
        "colab": {
          "base_uri": "https://localhost:8080/"
        },
        "id": "6yNs1c1tNppS",
        "outputId": "44c4ad6f-43d8-47b2-8067-9b10c2af7058"
      },
      "execution_count": null,
      "outputs": [
        {
          "output_type": "stream",
          "name": "stdout",
          "text": [
            "--------------------\n",
            "안녕하세요\n",
            "제 이름은 장고운 입니다\n",
            "제 나이는 용...\n",
            "34 살입니다\n",
            "--------------------\n"
          ]
        }
      ]
    },
    {
      "cell_type": "code",
      "source": [
        "sayHello('장고운', 34)\n",
        "sayHello('장고운', '만32')"
      ],
      "metadata": {
        "colab": {
          "base_uri": "https://localhost:8080/"
        },
        "id": "60r0x8zbNtKL",
        "outputId": "36b4b717-c47f-40cf-a11a-df68d8c307be"
      },
      "execution_count": null,
      "outputs": [
        {
          "output_type": "stream",
          "name": "stdout",
          "text": [
            "--------------------\n",
            "안녕하세요\n",
            "제 이름은 장고운 입니다\n",
            "제 나이는 용...\n",
            "34 살입니다\n",
            "--------------------\n",
            "--------------------\n",
            "안녕하세요\n",
            "제 이름은 장고운 입니다\n",
            "제 나이는 용...\n",
            "만32 살입니다\n",
            "--------------------\n"
          ]
        }
      ]
    },
    {
      "cell_type": "code",
      "source": [
        "sayHello(name = '도라미', age = 34)"
      ],
      "metadata": {
        "colab": {
          "base_uri": "https://localhost:8080/"
        },
        "id": "2WxTsqOWN2OV",
        "outputId": "1bc5deb1-9519-4546-9e2d-75bcef64bf98"
      },
      "execution_count": null,
      "outputs": [
        {
          "output_type": "stream",
          "name": "stdout",
          "text": [
            "--------------------\n",
            "안녕하세요\n",
            "제 이름은 도라미 입니다\n",
            "제 나이는 용...\n",
            "34 살입니다\n",
            "--------------------\n"
          ]
        }
      ]
    },
    {
      "cell_type": "code",
      "source": [
        "sayHello('최진무', age = 28)"
      ],
      "metadata": {
        "colab": {
          "base_uri": "https://localhost:8080/"
        },
        "id": "Tp9SlnsbOA96",
        "outputId": "d63cd83a-9d2e-437e-def3-ce440933c064"
      },
      "execution_count": null,
      "outputs": [
        {
          "output_type": "stream",
          "name": "stdout",
          "text": [
            "--------------------\n",
            "안녕하세요\n",
            "제 이름은 최진무 입니다\n",
            "제 나이는 용...\n",
            "28 살입니다\n",
            "--------------------\n"
          ]
        }
      ]
    },
    {
      "cell_type": "code",
      "source": [
        "# sayHello(age = 28, '최진무')  # positional argument follows keyword argument\n",
        "\n",
        "    # '호출' 시 keyword argument 뒤에 positional argument 붙을수 없다\n",
        "    # positional argument : 호출시 값만 명시\n",
        "    # keyword argument : 호출시 이름=값 명시\n"
      ],
      "metadata": {
        "id": "wQR6m4loOjgJ"
      },
      "execution_count": null,
      "outputs": []
    },
    {
      "cell_type": "code",
      "source": [
        "# return\n",
        "\n",
        "def add(a,b):\n",
        "  result = a + b\n",
        "  return result"
      ],
      "metadata": {
        "id": "jxaE340wOuto"
      },
      "execution_count": null,
      "outputs": []
    },
    {
      "cell_type": "code",
      "source": [
        "add(10, 20)"
      ],
      "metadata": {
        "colab": {
          "base_uri": "https://localhost:8080/"
        },
        "id": "qzF_3dj9POv3",
        "outputId": "fc2b916b-2a51-4ee3-d217-987fa058a969"
      },
      "execution_count": null,
      "outputs": [
        {
          "output_type": "execute_result",
          "data": {
            "text/plain": [
              "30"
            ]
          },
          "metadata": {},
          "execution_count": 121
        }
      ]
    },
    {
      "cell_type": "code",
      "source": [
        "add('10', '20')"
      ],
      "metadata": {
        "colab": {
          "base_uri": "https://localhost:8080/",
          "height": 35
        },
        "id": "6exKNaDUPQbp",
        "outputId": "27ae18f8-fbfd-49a6-b350-a5d2f128df53"
      },
      "execution_count": null,
      "outputs": [
        {
          "output_type": "execute_result",
          "data": {
            "text/plain": [
              "'1020'"
            ],
            "application/vnd.google.colaboratory.intrinsic+json": {
              "type": "string"
            }
          },
          "metadata": {},
          "execution_count": 122
        }
      ]
    },
    {
      "cell_type": "code",
      "source": [
        "add([10], [20])"
      ],
      "metadata": {
        "colab": {
          "base_uri": "https://localhost:8080/"
        },
        "id": "eWxCq5XYPTDd",
        "outputId": "57b4925f-3086-44a9-d1db-ae1342c6600c"
      },
      "execution_count": null,
      "outputs": [
        {
          "output_type": "execute_result",
          "data": {
            "text/plain": [
              "[10, 20]"
            ]
          },
          "metadata": {},
          "execution_count": 123
        }
      ]
    },
    {
      "cell_type": "code",
      "source": [
        "#add('10', 20)   # can only concatenate str (not \"int\") to str"
      ],
      "metadata": {
        "id": "zBZKAGzBPWCI"
      },
      "execution_count": null,
      "outputs": []
    },
    {
      "cell_type": "markdown",
      "source": [
        "# tuple 을 리턴하기\n",
        "여러개의 값을 리턴할수 있다"
      ],
      "metadata": {
        "id": "XAntTq14Pkye"
      }
    },
    {
      "cell_type": "code",
      "source": [
        "def sum_and_mul(a,b):\n",
        "  return a + b, a * b"
      ],
      "metadata": {
        "id": "5IrEbXoQPZPY"
      },
      "execution_count": null,
      "outputs": []
    },
    {
      "cell_type": "code",
      "source": [
        "s, m = sum_and_mul(10, 20)\n",
        "print(s, m)"
      ],
      "metadata": {
        "colab": {
          "base_uri": "https://localhost:8080/"
        },
        "id": "VcXd-fxAPyxn",
        "outputId": "4f6b6952-eef6-4042-8822-1b3717848f93"
      },
      "execution_count": null,
      "outputs": [
        {
          "output_type": "stream",
          "name": "stdout",
          "text": [
            "30 200\n"
          ]
        }
      ]
    },
    {
      "cell_type": "code",
      "source": [],
      "metadata": {
        "id": "VMec6DJ1QfQP"
      },
      "execution_count": null,
      "outputs": []
    },
    {
      "cell_type": "markdown",
      "source": [
        "# 디폴트 매개변수 (Default parameter)"
      ],
      "metadata": {
        "id": "DnybVAWkQW1H"
      }
    },
    {
      "cell_type": "code",
      "source": [
        "# 함수정의시 매개변수에 디폴트 값을 지정해 주면,  호출시 생략가능하다\n",
        "# 생략된 상태에서 호출되면 디폴트 값으로 작동된다\n",
        "\n",
        "# 디폴트 매개변수 작성 구문\n",
        "#    def 함수명(매개변수명=디폴트값)\n"
      ],
      "metadata": {
        "id": "ebK5NlibQabc"
      },
      "execution_count": null,
      "outputs": []
    },
    {
      "cell_type": "code",
      "source": [
        "def say_myself(name, old, gender='M'):\n",
        "  print(f'제 이름은 {name} 입니다')\n",
        "  print(f'제 나이는 {old} 입니다')\n",
        "\n",
        "  (gender == 'M') and print('남자입니다')\n",
        "  (gender == 'F') and print('여자입니다')\n",
        "  print()"
      ],
      "metadata": {
        "id": "BCMiLyMSQcRZ"
      },
      "execution_count": null,
      "outputs": []
    },
    {
      "cell_type": "code",
      "source": [
        "say_myself('서현기', 31, 'M')"
      ],
      "metadata": {
        "colab": {
          "base_uri": "https://localhost:8080/"
        },
        "id": "RznHt8hqRECp",
        "outputId": "d1066946-d3e2-4eb1-b01f-9d4ad50cac55"
      },
      "execution_count": null,
      "outputs": [
        {
          "output_type": "stream",
          "name": "stdout",
          "text": [
            "제 이름은 서현기 입니다\n",
            "제 나이는 31 입니다\n",
            "남자입니다\n",
            "\n"
          ]
        }
      ]
    },
    {
      "cell_type": "code",
      "source": [
        "say_myself('임승빈', 29)"
      ],
      "metadata": {
        "colab": {
          "base_uri": "https://localhost:8080/"
        },
        "id": "jahZ468nRI-B",
        "outputId": "7dcc64ae-7048-41b4-f573-00cf957b63c3"
      },
      "execution_count": null,
      "outputs": [
        {
          "output_type": "stream",
          "name": "stdout",
          "text": [
            "제 이름은 임승빈 입니다\n",
            "제 나이는 29 입니다\n",
            "남자입니다\n",
            "\n"
          ]
        }
      ]
    },
    {
      "cell_type": "code",
      "source": [
        "print('hello')\n",
        "print('hello', end='\\n')\n",
        "print(10, 20, 30, sep=' ')"
      ],
      "metadata": {
        "colab": {
          "base_uri": "https://localhost:8080/"
        },
        "id": "8f7GHcELRbUB",
        "outputId": "5bf55761-933d-45a0-d53f-2ac15d78fea1"
      },
      "execution_count": null,
      "outputs": [
        {
          "output_type": "stream",
          "name": "stdout",
          "text": [
            "hello\n",
            "hello\n",
            "10 20 30\n"
          ]
        }
      ]
    },
    {
      "cell_type": "code",
      "source": [
        "# 디폴트 매개변수, 주의 사항\n",
        "# 디폴트 매개변수 사용하여 함수 정의시\n",
        "# default argument  다음에 non-default  argument 정의 불가!!\n",
        "\n",
        "# def say_myself2(name, adult=True, age):\n",
        "#   pass"
      ],
      "metadata": {
        "id": "_BoIe23dSpE6"
      },
      "execution_count": null,
      "outputs": []
    },
    {
      "cell_type": "markdown",
      "source": [
        "# 가변매개변수 *args\n",
        "### argument packing\n",
        "입력값이 몇개가 올른지 모른다, 임의의 개수 인자 받기\n"
      ],
      "metadata": {
        "id": "ue5FowYjSwTF"
      }
    },
    {
      "cell_type": "code",
      "source": [
        "# 가변매개변수(various arguments) 함수 구문\n",
        "\n",
        "# def 함수이름(*매개변수):\n",
        "#     <수행할 문장>\n",
        "#     ...\n",
        "\n",
        "# 함수 호출시 전달된 복수개의 매개변수는 하나의 tuple 의 형태로 묶여서(packing) 다루어진다\n",
        "# 가변 매개변수도 어떠한 이름으로도 가능하긴 하나  관례적으로 args 를 많이 사용한다\n"
      ],
      "metadata": {
        "id": "48o6JbuMSyMk"
      },
      "execution_count": null,
      "outputs": []
    },
    {
      "cell_type": "code",
      "source": [
        "def var_args(*args):\n",
        "  print(type(args), \":\", len(args), \":\", args)\n",
        "\n",
        "var_args(10)\n",
        "var_args(10, 20, 30)\n",
        "var_args()\n"
      ],
      "metadata": {
        "colab": {
          "base_uri": "https://localhost:8080/"
        },
        "id": "cwzF_M0_TNbR",
        "outputId": "99a2d64c-a7c6-40e2-9365-0ccd3d26fa0b"
      },
      "execution_count": null,
      "outputs": [
        {
          "output_type": "stream",
          "name": "stdout",
          "text": [
            "<class 'tuple'> : 1 : (10,)\n",
            "<class 'tuple'> : 3 : (10, 20, 30)\n",
            "<class 'tuple'> : 0 : ()\n"
          ]
        }
      ]
    },
    {
      "cell_type": "code",
      "source": [
        "# *a = 10, 20, 30"
      ],
      "metadata": {
        "id": "dk34mfwrTqJD"
      },
      "execution_count": null,
      "outputs": []
    },
    {
      "cell_type": "code",
      "source": [
        "# 다른 비가변 매개변수와 가변매개변수 혼합 사용 가능\n",
        "# 그러나, 가변매개변수는 뒤에 오는 것을 추천한다\n",
        "\n",
        "def sum_mul(oper, *args):\n",
        "  result = None\n",
        "\n",
        "  if oper == 'sum':\n",
        "    result = 0\n",
        "    for i in args:\n",
        "      result += i\n",
        "\n",
        "  elif oper == 'mul':\n",
        "    result = 1\n",
        "    for i in args:\n",
        "      result *= i\n",
        "\n",
        "  return result"
      ],
      "metadata": {
        "id": "sDe29vN_UlEf"
      },
      "execution_count": null,
      "outputs": []
    },
    {
      "cell_type": "code",
      "source": [
        "print(sum_mul(\"sum\",10, 20, 30))\n",
        "print(sum_mul(\"mul\",10, 20, 30))"
      ],
      "metadata": {
        "colab": {
          "base_uri": "https://localhost:8080/"
        },
        "id": "2mnbuyWOUn6O",
        "outputId": "44f6f581-4225-4c21-98d5-6796dac9d565"
      },
      "execution_count": null,
      "outputs": [
        {
          "output_type": "stream",
          "name": "stdout",
          "text": [
            "60\n",
            "6000\n"
          ]
        }
      ]
    },
    {
      "cell_type": "code",
      "source": [
        "def sum_mul(*args, oper):\n",
        "  result = None\n",
        "\n",
        "  if oper == 'sum':\n",
        "    result = 0\n",
        "    for i in args:\n",
        "      result += i\n",
        "\n",
        "  elif oper == 'mul':\n",
        "    result = 1\n",
        "    for i in args:\n",
        "      result *= i\n",
        "\n",
        "  return result"
      ],
      "metadata": {
        "id": "gPMWIig0UxjQ"
      },
      "execution_count": null,
      "outputs": []
    },
    {
      "cell_type": "code",
      "source": [
        "# print(sum_mul(\"sum\",10, 20, 30))\n",
        "print(sum_mul(10, 20, 30, oper='sum'))"
      ],
      "metadata": {
        "colab": {
          "base_uri": "https://localhost:8080/"
        },
        "id": "v_u-Bs9KU45N",
        "outputId": "750876d4-9b4b-4b39-ec05-312733f6e29f"
      },
      "execution_count": null,
      "outputs": [
        {
          "output_type": "stream",
          "name": "stdout",
          "text": [
            "60\n"
          ]
        }
      ]
    },
    {
      "cell_type": "markdown",
      "source": [
        "# 가변매개변수 **kwargs\n",
        "\n",
        "키워드 매개변수"
      ],
      "metadata": {
        "id": "TKrKjDgFVrFu"
      }
    },
    {
      "cell_type": "code",
      "source": [
        "# kwargs : keyword argument 약자\n",
        "\n",
        "# 함수호출시 함수의 인수로 key = value 형태로 주어지면\n",
        "# 함수에선 kwargs 가 dict 형태로 packing 하여 받아옴\n"
      ],
      "metadata": {
        "id": "S3z4zkRPVp8l"
      },
      "execution_count": null,
      "outputs": []
    },
    {
      "cell_type": "code",
      "source": [
        "def func(**kwargs):\n",
        "  print(type(kwargs),len(kwargs), kwargs)"
      ],
      "metadata": {
        "id": "xiVwRIO5VxFS"
      },
      "execution_count": null,
      "outputs": []
    },
    {
      "cell_type": "code",
      "source": [
        "# func('최진무')\n",
        "\n",
        "func(name = '최진무')\n",
        "func(name = '최진무', age = 30)"
      ],
      "metadata": {
        "colab": {
          "base_uri": "https://localhost:8080/"
        },
        "id": "TlfBO90NWLXK",
        "outputId": "5a7838b4-a59a-4e6a-da55-aff1cd1cb7de"
      },
      "execution_count": null,
      "outputs": [
        {
          "output_type": "stream",
          "name": "stdout",
          "text": [
            "<class 'dict'> 1 {'name': '최진무'}\n",
            "<class 'dict'> 2 {'name': '최진무', 'age': 30}\n"
          ]
        }
      ]
    },
    {
      "cell_type": "code",
      "source": [
        "# *args, **kwargs 혼용 가능"
      ],
      "metadata": {
        "id": "n_5vEXezWOs3"
      },
      "execution_count": null,
      "outputs": []
    },
    {
      "cell_type": "code",
      "source": [
        "def func2(*args, **kwargs):\n",
        "  print(args, kwargs)\n",
        "\n",
        "func2(1, 2, 3, name='최진무',age = 28)\n",
        "# func2(1, 2, 3, name='최진무',age = 28, 5, 6)"
      ],
      "metadata": {
        "colab": {
          "base_uri": "https://localhost:8080/"
        },
        "id": "UBKJ0oIGWN1O",
        "outputId": "7b501fc3-35ca-4ec2-e02f-20b9a9337a1f"
      },
      "execution_count": null,
      "outputs": [
        {
          "output_type": "stream",
          "name": "stdout",
          "text": [
            "(1, 2, 3) {'name': '최진무', 'age': 28}\n"
          ]
        }
      ]
    },
    {
      "cell_type": "markdown",
      "source": [
        "# packing & unpacking"
      ],
      "metadata": {
        "id": "QYxl7hVMXwHm"
      }
    },
    {
      "cell_type": "code",
      "source": [
        "# * 의 의미"
      ],
      "metadata": {
        "id": "acXOE2gMXy_y"
      },
      "execution_count": null,
      "outputs": []
    },
    {
      "cell_type": "code",
      "source": [
        "# 1. 함수 정의 시점에서의 *"
      ],
      "metadata": {
        "id": "8CgrNdHIX03e"
      },
      "execution_count": null,
      "outputs": []
    },
    {
      "cell_type": "code",
      "source": [
        "def hello(*args):\n",
        "  print(args)\n",
        "\n",
        "hello(10)  # tuple 로 packing 되어 전달\n",
        "hello(10, 20)\n",
        "hello(10, 20, 30)"
      ],
      "metadata": {
        "colab": {
          "base_uri": "https://localhost:8080/"
        },
        "id": "b_zEghOyc7im",
        "outputId": "df15d28e-b67d-46f0-eac9-50db25c3c7b1"
      },
      "execution_count": null,
      "outputs": [
        {
          "output_type": "stream",
          "name": "stdout",
          "text": [
            "(10,)\n",
            "(10, 20)\n",
            "(10, 20, 30)\n"
          ]
        }
      ]
    },
    {
      "cell_type": "code",
      "source": [
        "# 2. 함수 호출 시점에서의 *"
      ],
      "metadata": {
        "id": "oH4BE_YwXHaz"
      },
      "execution_count": null,
      "outputs": []
    },
    {
      "cell_type": "code",
      "source": [
        "def add_numbers(a, b, c):\n",
        "  return a + b + c"
      ],
      "metadata": {
        "id": "Qe-k0e9DU7N_"
      },
      "execution_count": null,
      "outputs": []
    },
    {
      "cell_type": "code",
      "source": [
        "add_numbers(100, 200, 300)"
      ],
      "metadata": {
        "colab": {
          "base_uri": "https://localhost:8080/"
        },
        "id": "lztBv0PvTX2B",
        "outputId": "59eb7c2d-9f91-497c-a7c0-cfe0877bcf4e"
      },
      "execution_count": null,
      "outputs": [
        {
          "output_type": "execute_result",
          "data": {
            "text/plain": [
              "600"
            ]
          },
          "metadata": {},
          "execution_count": 150
        }
      ]
    },
    {
      "cell_type": "code",
      "source": [
        "data = (100, 200, 300)\n",
        "# add_numbers(data)\n",
        "add_numbers(data[0], data[1], data[2])"
      ],
      "metadata": {
        "colab": {
          "base_uri": "https://localhost:8080/"
        },
        "id": "OP53ntkCSu3x",
        "outputId": "7ce987c8-46c0-4f5f-a594-333de74fd840"
      },
      "execution_count": null,
      "outputs": [
        {
          "output_type": "execute_result",
          "data": {
            "text/plain": [
              "600"
            ]
          },
          "metadata": {},
          "execution_count": 151
        }
      ]
    },
    {
      "cell_type": "code",
      "source": [
        "add_numbers(*data)  # 호출시점의 *  unpacking 발생"
      ],
      "metadata": {
        "colab": {
          "base_uri": "https://localhost:8080/"
        },
        "id": "21_y3RgDSsLH",
        "outputId": "64634748-e46c-49bb-db6e-fac6b98046da"
      },
      "execution_count": null,
      "outputs": [
        {
          "output_type": "execute_result",
          "data": {
            "text/plain": [
              "600"
            ]
          },
          "metadata": {},
          "execution_count": 152
        }
      ]
    },
    {
      "cell_type": "code",
      "source": [
        "add_numbers(*\"ABC\")  # \"A\", \"B\", \"C\""
      ],
      "metadata": {
        "colab": {
          "base_uri": "https://localhost:8080/",
          "height": 35
        },
        "id": "KqN5mpS_RP_T",
        "outputId": "d0af6090-a525-4376-ccf2-d472a4776c51"
      },
      "execution_count": null,
      "outputs": [
        {
          "output_type": "execute_result",
          "data": {
            "text/plain": [
              "'ABC'"
            ],
            "application/vnd.google.colaboratory.intrinsic+json": {
              "type": "string"
            }
          },
          "metadata": {},
          "execution_count": 153
        }
      ]
    },
    {
      "cell_type": "code",
      "source": [
        "student = {\"name\": \"Sam\", \"email\": \"sam@mail.com\"}\n",
        "\n",
        "def print_dict(name, email):\n",
        "    print(name, email)"
      ],
      "metadata": {
        "id": "SFLHdSVOdG7d"
      },
      "execution_count": null,
      "outputs": []
    },
    {
      "cell_type": "code",
      "source": [
        "print_dict('최진무', 'jinmoo@mail.com')\n",
        "# print_dict(student) # 에러\n",
        "print_dict(*student)  # dict 를 * 로 unpacking 하면 key 들이 전달\n",
        "print_dict(**student) # dict 를 ** 로 unpacking 하면 value 들이 전달"
      ],
      "metadata": {
        "colab": {
          "base_uri": "https://localhost:8080/"
        },
        "id": "ILNRqAQwdGzN",
        "outputId": "9c8a7cef-18e5-4488-fff0-3ac3871ac069"
      },
      "execution_count": null,
      "outputs": [
        {
          "output_type": "stream",
          "name": "stdout",
          "text": [
            "최진무 jinmoo@mail.com\n",
            "name email\n",
            "Sam sam@mail.com\n"
          ]
        }
      ]
    },
    {
      "cell_type": "code",
      "source": [
        "# print() 와 동일한 동작을 하는 log() 함수 정의"
      ],
      "metadata": {
        "id": "Lt8oWj3fdGuV"
      },
      "execution_count": null,
      "outputs": []
    },
    {
      "cell_type": "code",
      "source": [
        "def log(*args):\n",
        "  print(*args)"
      ],
      "metadata": {
        "id": "aNo2q_aZdGpt"
      },
      "execution_count": null,
      "outputs": []
    },
    {
      "cell_type": "code",
      "source": [
        "log(10, 20, 30)"
      ],
      "metadata": {
        "colab": {
          "base_uri": "https://localhost:8080/"
        },
        "id": "ymL_lrAzdGjN",
        "outputId": "50e94d06-42a2-4272-9d07-1cc20160c3f1"
      },
      "execution_count": null,
      "outputs": [
        {
          "output_type": "stream",
          "name": "stdout",
          "text": [
            "10 20 30\n"
          ]
        }
      ]
    },
    {
      "cell_type": "code",
      "source": [
        "log('최', '진', '무')"
      ],
      "metadata": {
        "colab": {
          "base_uri": "https://localhost:8080/"
        },
        "id": "sLLm03hudGYd",
        "outputId": "52afdeb4-42e1-4a44-f848-1450eefb8a0c"
      },
      "execution_count": null,
      "outputs": [
        {
          "output_type": "stream",
          "name": "stdout",
          "text": [
            "최 진 무\n"
          ]
        }
      ]
    },
    {
      "cell_type": "code",
      "source": [
        "# log('최', '진', '무', sep='--')"
      ],
      "metadata": {
        "id": "on0fgrRZe2qf"
      },
      "execution_count": null,
      "outputs": []
    },
    {
      "cell_type": "code",
      "source": [
        "def log(*args, **kwargs):\n",
        "  print(*args, **kwargs)"
      ],
      "metadata": {
        "id": "-E1hKFHde2mv"
      },
      "execution_count": null,
      "outputs": []
    },
    {
      "cell_type": "code",
      "source": [
        "log('최', '진', '무', sep='--')"
      ],
      "metadata": {
        "colab": {
          "base_uri": "https://localhost:8080/"
        },
        "id": "lWZ9dB3Ge2jd",
        "outputId": "cb645f43-5581-4cd8-b3cb-8ee841a78cf2"
      },
      "execution_count": null,
      "outputs": [
        {
          "output_type": "stream",
          "name": "stdout",
          "text": [
            "최--진--무\n"
          ]
        }
      ]
    },
    {
      "cell_type": "markdown",
      "source": [
        "# 파이썬의 내장함수 (Built-in Functions)\n",
        "별도의 import 없이 바로 사용가능한 함수들"
      ],
      "metadata": {
        "id": "6UIy_EBHe-Sd"
      }
    },
    {
      "cell_type": "code",
      "source": [
        "# 파이썬의 내장함수( built-in functions)\n",
        "# 별도의 import 없이 바로 사용 가능한 함수들.\n",
        "\n",
        "# 레퍼런스 :  https://docs.python.org/3/library/functions.html\n",
        "\n",
        "# abs()\tdict()\thelp()\tmin()\tsetattr()\n",
        "# all()\tdir()\thex()\tnext()\tslice()\n",
        "# any()\tdivmod()\tid()\tobject()\tsorted()\n",
        "# ascii()\tenumerate()\tinput()\toct()\tstaticmethod()\n",
        "# bin()\teval()\tint()\topen()\tstr()\n",
        "# bool()\texec()\tisinstance()\tord()\tsum()\n",
        "# bytearray()\tfilter()\tissubclass()\tpow()\tsuper()\n",
        "# bytes()\tfloat()\titer()\tprint()\ttuple()\n",
        "# callable()\tformat()\tlen()\tproperty()\ttype()\n",
        "# chr()\tfrozenset()\tlist()\trange()\tvars()\n",
        "# classmethod()\tgetattr()\tlocals()\trepr()\tzip()\n",
        "# compile()\tglobals()\tmap()\treversed()\t__import__()\n",
        "# complex()\thasattr()\tmax()\tround()\n",
        "# delattr()\thash()\tmemoryview()\tset()"
      ],
      "metadata": {
        "id": "re_j8HdvhEda"
      },
      "execution_count": null,
      "outputs": []
    },
    {
      "cell_type": "code",
      "source": [
        "abs(-111)"
      ],
      "metadata": {
        "colab": {
          "base_uri": "https://localhost:8080/"
        },
        "id": "Gef2yBpNhGJy",
        "outputId": "e49fc3f3-44ed-4de1-9da4-77a84a723c50"
      },
      "execution_count": null,
      "outputs": [
        {
          "output_type": "execute_result",
          "data": {
            "text/plain": [
              "111"
            ]
          },
          "metadata": {},
          "execution_count": 164
        }
      ]
    },
    {
      "cell_type": "code",
      "source": [
        "data = [10, 20, 30, 40]"
      ],
      "metadata": {
        "id": "TUC0YUIbhH2i"
      },
      "execution_count": null,
      "outputs": []
    },
    {
      "cell_type": "code",
      "source": [
        "min(data), max(data), sum(data)"
      ],
      "metadata": {
        "colab": {
          "base_uri": "https://localhost:8080/"
        },
        "id": "CvicYmzVe2gV",
        "outputId": "12a49479-0739-47d3-fd34-11683f56665f"
      },
      "execution_count": null,
      "outputs": [
        {
          "output_type": "execute_result",
          "data": {
            "text/plain": [
              "(10, 40, 100)"
            ]
          },
          "metadata": {},
          "execution_count": 166
        }
      ]
    },
    {
      "cell_type": "code",
      "source": [
        "type(sum)"
      ],
      "metadata": {
        "colab": {
          "base_uri": "https://localhost:8080/"
        },
        "id": "QTviW2BThJs9",
        "outputId": "9a9340fd-f948-4ae5-c1e6-37282a813a01"
      },
      "execution_count": null,
      "outputs": [
        {
          "output_type": "execute_result",
          "data": {
            "text/plain": [
              "builtin_function_or_method"
            ]
          },
          "metadata": {},
          "execution_count": 167
        }
      ]
    },
    {
      "cell_type": "markdown",
      "source": [
        "## 실수로 내장함수를 덮어쓰기 한경우"
      ],
      "metadata": {
        "id": "VRUryE0ShPRQ"
      }
    },
    {
      "cell_type": "code",
      "source": [
        "sum = 10 + 20"
      ],
      "metadata": {
        "id": "tjiBo8PphJpu"
      },
      "execution_count": null,
      "outputs": []
    },
    {
      "cell_type": "code",
      "source": [
        "# sum(data)"
      ],
      "metadata": {
        "id": "k4fAkswihJnV"
      },
      "execution_count": null,
      "outputs": []
    },
    {
      "cell_type": "code",
      "source": [
        "# 내장함수 복원\n",
        "sum = __builtins__.sum"
      ],
      "metadata": {
        "id": "6pOWe2MjhJkl"
      },
      "execution_count": null,
      "outputs": []
    },
    {
      "cell_type": "code",
      "source": [
        "sum(data)"
      ],
      "metadata": {
        "colab": {
          "base_uri": "https://localhost:8080/"
        },
        "id": "TP4OoJDxhJhN",
        "outputId": "69f177b3-51d2-42d4-fdb4-2a23d34158ed"
      },
      "execution_count": null,
      "outputs": [
        {
          "output_type": "execute_result",
          "data": {
            "text/plain": [
              "100"
            ]
          },
          "metadata": {},
          "execution_count": 171
        }
      ]
    },
    {
      "cell_type": "markdown",
      "source": [
        "## 외장함수"
      ],
      "metadata": {
        "id": "8SrIliP7hW0l"
      }
    },
    {
      "cell_type": "code",
      "source": [
        "# 파이썬 설치시 '기본적'으로 설치된 라이브러리로부터 사용 가능한 함수들\n",
        "\n",
        "# 라이브러리(library) 란 파이썬 프로그래밍에 사용가능한 프로그램을을 모아놓은 것.\n",
        "\n",
        "# https://docs.python.org/3/library/index.html    <-- Python Standard Library"
      ],
      "metadata": {
        "id": "LzcI5M90hJeP"
      },
      "execution_count": null,
      "outputs": []
    },
    {
      "cell_type": "markdown",
      "source": [
        "### time 모듈"
      ],
      "metadata": {
        "id": "OjOhkAhLhact"
      }
    },
    {
      "cell_type": "code",
      "source": [
        "import time"
      ],
      "metadata": {
        "id": "S7ZC2BY_e96W"
      },
      "execution_count": null,
      "outputs": []
    },
    {
      "cell_type": "code",
      "source": [
        "time.time()   # 1970.1.1 00:00:00 초 기준으로 경과한 시간 (초)   타임스탬프(time stamp) 라고도 한다"
      ],
      "metadata": {
        "colab": {
          "base_uri": "https://localhost:8080/"
        },
        "id": "NoeTiXype933",
        "outputId": "726c6980-5f30-4299-e23d-188b20274193"
      },
      "execution_count": null,
      "outputs": [
        {
          "output_type": "execute_result",
          "data": {
            "text/plain": [
              "1709623795.249352"
            ]
          },
          "metadata": {},
          "execution_count": 174
        }
      ]
    },
    {
      "cell_type": "code",
      "source": [
        "time.localtime()"
      ],
      "metadata": {
        "colab": {
          "base_uri": "https://localhost:8080/"
        },
        "id": "1wtmsxcDhdTF",
        "outputId": "9e25adec-647f-4392-fe82-153e6437c588"
      },
      "execution_count": null,
      "outputs": [
        {
          "output_type": "execute_result",
          "data": {
            "text/plain": [
              "time.struct_time(tm_year=2024, tm_mon=3, tm_mday=5, tm_hour=7, tm_min=29, tm_sec=55, tm_wday=1, tm_yday=65, tm_isdst=0)"
            ]
          },
          "metadata": {},
          "execution_count": 175
        }
      ]
    },
    {
      "cell_type": "code",
      "source": [
        "import random"
      ],
      "metadata": {
        "id": "Aa7IkZ63hdQl"
      },
      "execution_count": null,
      "outputs": []
    },
    {
      "cell_type": "code",
      "source": [
        "random.random()"
      ],
      "metadata": {
        "colab": {
          "base_uri": "https://localhost:8080/"
        },
        "id": "GeI0n9GnhdOF",
        "outputId": "41c9fb4e-7d15-47c9-c866-6cf7d19cf87b"
      },
      "execution_count": null,
      "outputs": [
        {
          "output_type": "execute_result",
          "data": {
            "text/plain": [
              "0.8227587208566474"
            ]
          },
          "metadata": {},
          "execution_count": 177
        }
      ]
    },
    {
      "cell_type": "code",
      "source": [
        "random.randint(1,5)"
      ],
      "metadata": {
        "colab": {
          "base_uri": "https://localhost:8080/"
        },
        "id": "ON9nEiinhdK-",
        "outputId": "5dd62b86-43b4-4d7d-f707-fc696bddc00e"
      },
      "execution_count": null,
      "outputs": [
        {
          "output_type": "execute_result",
          "data": {
            "text/plain": [
              "4"
            ]
          },
          "metadata": {},
          "execution_count": 179
        }
      ]
    },
    {
      "cell_type": "code",
      "source": [
        "data = \"\"\"\n",
        "강준우\n",
        "권희수\n",
        "김동호\n",
        "김미란\n",
        "김종선\n",
        "김주희\n",
        "김창희\n",
        "김효은\n",
        "서현기\n",
        "송민호\n",
        "신철희\n",
        "유상곤\n",
        "이기원\n",
        "이상진\n",
        "이승원\n",
        "이승준\n",
        "이종현\n",
        "임승빈\n",
        "장고운\n",
        "전광현\n",
        "조재환\n",
        "최강현\n",
        "최정인\n",
        "최진무\n",
        "허지우\n",
        "\"\"\"\n",
        "None"
      ],
      "metadata": {
        "id": "iFiq5ypjhpZh"
      },
      "execution_count": null,
      "outputs": []
    },
    {
      "cell_type": "code",
      "source": [],
      "metadata": {
        "id": "b9bFDDnvij4f"
      },
      "execution_count": null,
      "outputs": []
    },
    {
      "cell_type": "code",
      "source": [
        "result = data.split()\n",
        "random.shuffle(result)\n",
        "\n",
        "result[:5]"
      ],
      "metadata": {
        "colab": {
          "base_uri": "https://localhost:8080/"
        },
        "id": "lrZ_vDdRiFjl",
        "outputId": "53003fd4-3b99-4dff-ac2e-0fa71fb6b455"
      },
      "execution_count": null,
      "outputs": [
        {
          "output_type": "execute_result",
          "data": {
            "text/plain": [
              "['이기원', '김주희', '이승원', '허지우', '이종현']"
            ]
          },
          "metadata": {},
          "execution_count": 186
        }
      ]
    },
    {
      "cell_type": "code",
      "source": [],
      "metadata": {
        "id": "aZmRrMPIil8d"
      },
      "execution_count": null,
      "outputs": []
    },
    {
      "cell_type": "code",
      "source": [],
      "metadata": {
        "id": "QSmii9eXimVk"
      },
      "execution_count": null,
      "outputs": []
    },
    {
      "cell_type": "code",
      "source": [],
      "metadata": {
        "id": "rUdUJXZMik3S"
      },
      "execution_count": null,
      "outputs": []
    },
    {
      "cell_type": "code",
      "source": [],
      "metadata": {
        "id": "oFo4rdSeiel-"
      },
      "execution_count": null,
      "outputs": []
    },
    {
      "cell_type": "code",
      "source": [],
      "metadata": {
        "id": "O2QwjFJfiCvr"
      },
      "execution_count": null,
      "outputs": []
    },
    {
      "cell_type": "code",
      "source": [],
      "metadata": {
        "id": "8gH4vhdlh40f"
      },
      "execution_count": null,
      "outputs": []
    },
    {
      "cell_type": "code",
      "source": [],
      "metadata": {
        "id": "9BgEdg4_hdHN"
      },
      "execution_count": null,
      "outputs": []
    }
  ]
}