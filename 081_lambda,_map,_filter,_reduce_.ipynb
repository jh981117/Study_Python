{
  "nbformat": 4,
  "nbformat_minor": 0,
  "metadata": {
    "colab": {
      "provenance": [],
      "authorship_tag": "ABX9TyN8aCrzZghmAn3mSMEHzyTg",
      "include_colab_link": true
    },
    "kernelspec": {
      "name": "python3",
      "display_name": "Python 3"
    },
    "language_info": {
      "name": "python"
    }
  },
  "cells": [
    {
      "cell_type": "markdown",
      "metadata": {
        "id": "view-in-github",
        "colab_type": "text"
      },
      "source": [
        "<a href=\"https://colab.research.google.com/github/jh981117/Study_Python/blob/main/081_lambda%2C_map%2C_filter%2C_reduce_.ipynb\" target=\"_parent\"><img src=\"https://colab.research.google.com/assets/colab-badge.svg\" alt=\"Open In Colab\"/></a>"
      ]
    },
    {
      "cell_type": "code",
      "execution_count": 72,
      "metadata": {
        "id": "s-6-S3xnHpt6"
      },
      "outputs": [],
      "source": [
        "def square(x):\n",
        "  return x ** 2"
      ]
    },
    {
      "cell_type": "code",
      "source": [
        "type(square)"
      ],
      "metadata": {
        "colab": {
          "base_uri": "https://localhost:8080/"
        },
        "id": "S-fgnCGUHvXS",
        "outputId": "726ee403-7f6d-47f2-91a8-81dd479da726"
      },
      "execution_count": 73,
      "outputs": [
        {
          "output_type": "execute_result",
          "data": {
            "text/plain": [
              "function"
            ]
          },
          "metadata": {},
          "execution_count": 73
        }
      ]
    },
    {
      "cell_type": "code",
      "source": [
        "square(3)"
      ],
      "metadata": {
        "colab": {
          "base_uri": "https://localhost:8080/"
        },
        "id": "XipHvH-eHvUg",
        "outputId": "3935b284-7390-4b9f-87ab-1bfded1066bb"
      },
      "execution_count": 74,
      "outputs": [
        {
          "output_type": "execute_result",
          "data": {
            "text/plain": [
              "9"
            ]
          },
          "metadata": {},
          "execution_count": 74
        }
      ]
    },
    {
      "cell_type": "code",
      "source": [
        "q1 = square"
      ],
      "metadata": {
        "id": "I_xsNMfNHvSA"
      },
      "execution_count": 75,
      "outputs": []
    },
    {
      "cell_type": "code",
      "source": [
        "q1(10)"
      ],
      "metadata": {
        "colab": {
          "base_uri": "https://localhost:8080/"
        },
        "id": "CdcXwXWRHvPS",
        "outputId": "2fdef408-fb03-41f0-ddc9-0421a593cc68"
      },
      "execution_count": 76,
      "outputs": [
        {
          "output_type": "execute_result",
          "data": {
            "text/plain": [
              "100"
            ]
          },
          "metadata": {},
          "execution_count": 76
        }
      ]
    },
    {
      "cell_type": "markdown",
      "source": [
        "## 람다 (lambda)\n",
        "'이름이 없는(익명)' inline 함수 정의\n",
        "\n",
        "구문: `lambda [parameters]: expression`"
      ],
      "metadata": {
        "id": "TEiHYV62HzVI"
      }
    },
    {
      "cell_type": "code",
      "source": [
        "lambda x: x ** 2"
      ],
      "metadata": {
        "colab": {
          "base_uri": "https://localhost:8080/"
        },
        "id": "VUVN2sGvHvMg",
        "outputId": "a397a777-fa9f-4d53-a504-f1b5c0296e7e"
      },
      "execution_count": 77,
      "outputs": [
        {
          "output_type": "execute_result",
          "data": {
            "text/plain": [
              "<function __main__.<lambda>(x)>"
            ]
          },
          "metadata": {},
          "execution_count": 77
        }
      ]
    },
    {
      "cell_type": "code",
      "source": [
        "lambda : print('hello')"
      ],
      "metadata": {
        "colab": {
          "base_uri": "https://localhost:8080/"
        },
        "id": "W_WWqA1yHvJw",
        "outputId": "79cc3ec7-0270-4e7a-e9bf-c36e4529e23c"
      },
      "execution_count": 78,
      "outputs": [
        {
          "output_type": "execute_result",
          "data": {
            "text/plain": [
              "<function __main__.<lambda>()>"
            ]
          },
          "metadata": {},
          "execution_count": 78
        }
      ]
    },
    {
      "cell_type": "code",
      "source": [
        "lambda x, y: x + y"
      ],
      "metadata": {
        "colab": {
          "base_uri": "https://localhost:8080/"
        },
        "id": "q7a68l10HvG4",
        "outputId": "d7cdeaa3-7427-4aa4-f7ad-a1b616b455a2"
      },
      "execution_count": 79,
      "outputs": [
        {
          "output_type": "execute_result",
          "data": {
            "text/plain": [
              "<function __main__.<lambda>(x, y)>"
            ]
          },
          "metadata": {},
          "execution_count": 79
        }
      ]
    },
    {
      "cell_type": "code",
      "source": [
        "add = lambda x, y: x + y"
      ],
      "metadata": {
        "id": "ocwV9FoSHvEQ"
      },
      "execution_count": 80,
      "outputs": []
    },
    {
      "cell_type": "code",
      "source": [
        "add(11, 22)"
      ],
      "metadata": {
        "colab": {
          "base_uri": "https://localhost:8080/"
        },
        "id": "COj5_MYbHvBo",
        "outputId": "c24e20a0-6d31-411c-c42d-8548c754d5f1"
      },
      "execution_count": 81,
      "outputs": [
        {
          "output_type": "execute_result",
          "data": {
            "text/plain": [
              "33"
            ]
          },
          "metadata": {},
          "execution_count": 81
        }
      ]
    },
    {
      "cell_type": "code",
      "source": [
        "(lambda x, y: x * y)(4, 2)"
      ],
      "metadata": {
        "colab": {
          "base_uri": "https://localhost:8080/"
        },
        "id": "YIGh763tHu_Q",
        "outputId": "1d0990d0-ea7d-479e-f909-b0001d26aa04"
      },
      "execution_count": 82,
      "outputs": [
        {
          "output_type": "execute_result",
          "data": {
            "text/plain": [
              "8"
            ]
          },
          "metadata": {},
          "execution_count": 82
        }
      ]
    },
    {
      "cell_type": "code",
      "source": [
        "# 파이썬의 람다식은 여러문장 작성 불가!\n",
        "# func1 = lambda name, age:\n",
        "#         print(name)\n",
        "#         print(age)"
      ],
      "metadata": {
        "id": "1B8KJMN-Hu8g"
      },
      "execution_count": 83,
      "outputs": []
    },
    {
      "cell_type": "code",
      "source": [
        "# map(), filter(), reduce() 등에서 lambda 활용 많이 함.\n",
        "\n",
        "# map: N -> N  (N개의 입력을 받아 '어떠한 동작을' 적용하여 N개의 결괏값을 생성)\n",
        "# filter: N -> N' (N' <= N)\n",
        "# reduce: N -> 1"
      ],
      "metadata": {
        "id": "9j20QsGQHu5o"
      },
      "execution_count": 84,
      "outputs": []
    },
    {
      "cell_type": "markdown",
      "source": [
        "# map()  N개 => N"
      ],
      "metadata": {
        "id": "Z7OzSOfcKGHc"
      }
    },
    {
      "cell_type": "code",
      "source": [
        "# '집합데이터' 에 ~~한 동작/연산을 수행/적용하는 함수' 를 세트로 주어\n",
        "# 일괄 처리 할수 있다\n",
        "# 파이썬에는 이와 같은 일을 처리하는 함수가 있다.\n",
        "# 바로 map() 이다\n",
        "\n",
        "# 구문\n",
        "#  map(함수, iterable 데이터)     #<-- 이때 data 는 iterable 해야 한다\n",
        "\n",
        "#  map() 결과 리턴값은 'map객체' 이고 이 또한 iterable 하다!\n"
      ],
      "metadata": {
        "id": "GwMnO_NPKHC6"
      },
      "execution_count": 85,
      "outputs": []
    },
    {
      "cell_type": "code",
      "source": [
        "square(2)"
      ],
      "metadata": {
        "colab": {
          "base_uri": "https://localhost:8080/"
        },
        "id": "37wLRoHsKHAi",
        "outputId": "6f230b1e-7de0-46bb-b707-8ae2b981f28a"
      },
      "execution_count": 86,
      "outputs": [
        {
          "output_type": "execute_result",
          "data": {
            "text/plain": [
              "4"
            ]
          },
          "metadata": {},
          "execution_count": 86
        }
      ]
    },
    {
      "cell_type": "code",
      "source": [
        "list(map(square, [1, 2, 3]))"
      ],
      "metadata": {
        "colab": {
          "base_uri": "https://localhost:8080/"
        },
        "id": "4b915GHHKG96",
        "outputId": "66e2e325-0dbf-4cd8-d189-417e6d15d446"
      },
      "execution_count": 87,
      "outputs": [
        {
          "output_type": "execute_result",
          "data": {
            "text/plain": [
              "[1, 4, 9]"
            ]
          },
          "metadata": {},
          "execution_count": 87
        }
      ]
    },
    {
      "cell_type": "code",
      "source": [
        "\"Hello Python\".upper()"
      ],
      "metadata": {
        "colab": {
          "base_uri": "https://localhost:8080/",
          "height": 35
        },
        "id": "jDrHDdkpKG7T",
        "outputId": "d47dd974-f124-4a75-b52f-e088342d4116"
      },
      "execution_count": 88,
      "outputs": [
        {
          "output_type": "execute_result",
          "data": {
            "text/plain": [
              "'HELLO PYTHON'"
            ],
            "application/vnd.google.colaboratory.intrinsic+json": {
              "type": "string"
            }
          },
          "metadata": {},
          "execution_count": 88
        }
      ]
    },
    {
      "cell_type": "code",
      "source": [
        "str.upper(\"Hello Python\")"
      ],
      "metadata": {
        "colab": {
          "base_uri": "https://localhost:8080/",
          "height": 35
        },
        "id": "ZUdhmj2LKG4x",
        "outputId": "ef28a107-2526-404a-995b-4c3b0923ac20"
      },
      "execution_count": 89,
      "outputs": [
        {
          "output_type": "execute_result",
          "data": {
            "text/plain": [
              "'HELLO PYTHON'"
            ],
            "application/vnd.google.colaboratory.intrinsic+json": {
              "type": "string"
            }
          },
          "metadata": {},
          "execution_count": 89
        }
      ]
    },
    {
      "cell_type": "code",
      "source": [
        "str.upper"
      ],
      "metadata": {
        "colab": {
          "base_uri": "https://localhost:8080/"
        },
        "id": "KEA9fc6kKG2L",
        "outputId": "8afd65c5-2c57-4ab2-92df-4532decc242e"
      },
      "execution_count": 90,
      "outputs": [
        {
          "output_type": "execute_result",
          "data": {
            "text/plain": [
              "<method 'upper' of 'str' objects>"
            ]
          },
          "metadata": {},
          "execution_count": 90
        }
      ]
    },
    {
      "cell_type": "code",
      "source": [
        "list(map(str.upper, \"apple\"))"
      ],
      "metadata": {
        "colab": {
          "base_uri": "https://localhost:8080/"
        },
        "id": "4DIqTrxiKGzq",
        "outputId": "a22a4581-3d6a-47f7-d2db-d152db24efba"
      },
      "execution_count": 91,
      "outputs": [
        {
          "output_type": "execute_result",
          "data": {
            "text/plain": [
              "['A', 'P', 'P', 'L', 'E']"
            ]
          },
          "metadata": {},
          "execution_count": 91
        }
      ]
    },
    {
      "cell_type": "code",
      "source": [
        "list(map(lambda x: x ** 2, [10, 20, 30]))"
      ],
      "metadata": {
        "colab": {
          "base_uri": "https://localhost:8080/"
        },
        "id": "nfrniWiNKGxK",
        "outputId": "62e0cf9e-a2dd-4fc7-c861-75b390c84ced"
      },
      "execution_count": 92,
      "outputs": [
        {
          "output_type": "execute_result",
          "data": {
            "text/plain": [
              "[100, 400, 900]"
            ]
          },
          "metadata": {},
          "execution_count": 92
        }
      ]
    },
    {
      "cell_type": "code",
      "source": [
        "# 도전\n",
        "# CSV 파일 데이터의 형태에서\n",
        "data = \"\"\"height,weight,label\n",
        "140,45,normal\n",
        "145,72,fat\n",
        "150,61,fat\n",
        "137,56,fat\n",
        "192,48,thin\n",
        "175,77,fat\"\"\"  # <-- excel 에서 확인 가능하다!\n",
        "print(data)\n",
        "\n",
        "\n",
        "# 아래와 같은 리스트로 만들기\n",
        "# [[140.0, 45.0, 'normal'],\n",
        "#  [145.0, 72.0, 'fat'],\n",
        "#  [150.0, 61.0, 'fat'],\n",
        "#  [137.0, 56.0, 'fat'],\n",
        "#  [192.0, 48.0, 'thin'],\n",
        "#  [175.0, 77.0, 'fat']]\n"
      ],
      "metadata": {
        "colab": {
          "base_uri": "https://localhost:8080/"
        },
        "id": "G6pHQynOKGua",
        "outputId": "9d272ae9-42c6-442a-e87a-efa5f8861a23"
      },
      "execution_count": 93,
      "outputs": [
        {
          "output_type": "stream",
          "name": "stdout",
          "text": [
            "height,weight,label\n",
            "140,45,normal\n",
            "145,72,fat\n",
            "150,61,fat\n",
            "137,56,fat\n",
            "192,48,thin\n",
            "175,77,fat\n"
          ]
        }
      ]
    },
    {
      "cell_type": "code",
      "source": [
        "# 과정 hint\n",
        "# 1. line 별로 쪼개기 (split 사용)\n",
        "# 2. 각 line 을 ',' 로 쪼개기  (split 사용)\n",
        "# 3. 각 데이터는, '숫자'면 float로 변환, 아니면 그대로\n",
        "#                 isdigit() 사용.\n",
        "\n",
        "# map() 을 사용해서 가능할까?\n"
      ],
      "metadata": {
        "id": "wc6K5sziKGrp"
      },
      "execution_count": 94,
      "outputs": []
    },
    {
      "cell_type": "code",
      "source": [
        "lines = data.split(\"\\n\")\n",
        "tonum = lambda n : float(n) if n.isdigit() else n\n",
        "cols = lambda line : list(map(tonum, line.strip().split(',')))\n",
        "list(map(cols, lines))[1:]"
      ],
      "metadata": {
        "colab": {
          "base_uri": "https://localhost:8080/"
        },
        "id": "q-elKOP6KGXS",
        "outputId": "4b75d367-3a0a-4420-b3e5-8a6665fd21d9"
      },
      "execution_count": 95,
      "outputs": [
        {
          "output_type": "execute_result",
          "data": {
            "text/plain": [
              "[[140.0, 45.0, 'normal'],\n",
              " [145.0, 72.0, 'fat'],\n",
              " [150.0, 61.0, 'fat'],\n",
              " [137.0, 56.0, 'fat'],\n",
              " [192.0, 48.0, 'thin'],\n",
              " [175.0, 77.0, 'fat']]"
            ]
          },
          "metadata": {},
          "execution_count": 95
        }
      ]
    },
    {
      "cell_type": "markdown",
      "source": [
        "# filter() : N => N'  (N' <= N)"
      ],
      "metadata": {
        "id": "KcLF_0gcU4-t"
      }
    },
    {
      "cell_type": "code",
      "source": [
        "# 구문 : filter(function, iterable)\n",
        "\n",
        "# filter에 인자로 사용되는 function은 처리되는 각각의 요소에 대해 참/거짓 값을 반환합니다.\n",
        "# '참'을 반환하면 그 요소는 남게 되고, '거짓'을 반환하면 그 요소는 제거 됩니다\n",
        "\n",
        "# filter() 결과는 filter 객체  (이또한 iterable 하다)\n"
      ],
      "metadata": {
        "id": "wFmS8zNmUlOV"
      },
      "execution_count": 96,
      "outputs": []
    },
    {
      "cell_type": "code",
      "source": [
        "filter(lambda x: x % 3 == 0, [3, 7, 9])"
      ],
      "metadata": {
        "colab": {
          "base_uri": "https://localhost:8080/"
        },
        "id": "rHT1-SVYXTnn",
        "outputId": "00d79892-584f-4b06-fcdc-802fba694ea5"
      },
      "execution_count": 97,
      "outputs": [
        {
          "output_type": "execute_result",
          "data": {
            "text/plain": [
              "<filter at 0x79c170303a00>"
            ]
          },
          "metadata": {},
          "execution_count": 97
        }
      ]
    },
    {
      "cell_type": "code",
      "source": [
        "list(filter(lambda x: x % 3 == 0, [3, 7, 9]))"
      ],
      "metadata": {
        "colab": {
          "base_uri": "https://localhost:8080/"
        },
        "id": "6bkUW0vEXTk9",
        "outputId": "a83a187d-9618-43b5-f5df-2606d9ef8ca9"
      },
      "execution_count": 98,
      "outputs": [
        {
          "output_type": "execute_result",
          "data": {
            "text/plain": [
              "[3, 9]"
            ]
          },
          "metadata": {},
          "execution_count": 98
        }
      ]
    },
    {
      "cell_type": "code",
      "source": [
        "dataset = [1, -2, 3, -4, 5]\n",
        "\n",
        "# 양수인 숫자들을 제곱한 결과 => [1, 9, 25]"
      ],
      "metadata": {
        "id": "LWeeH16pXTiV"
      },
      "execution_count": 99,
      "outputs": []
    },
    {
      "cell_type": "code",
      "source": [
        "filter(lambda x: x > 0, dataset)  # [1, 3, 5]"
      ],
      "metadata": {
        "colab": {
          "base_uri": "https://localhost:8080/"
        },
        "id": "FtQu3Z-5XTft",
        "outputId": "82d7e735-0501-4670-85fd-1c32d97eb51a"
      },
      "execution_count": 100,
      "outputs": [
        {
          "output_type": "execute_result",
          "data": {
            "text/plain": [
              "<filter at 0x79c172f97850>"
            ]
          },
          "metadata": {},
          "execution_count": 100
        }
      ]
    },
    {
      "cell_type": "code",
      "source": [
        "list(map(lambda x: x ** 2, filter(lambda x: x > 0, dataset)))"
      ],
      "metadata": {
        "colab": {
          "base_uri": "https://localhost:8080/"
        },
        "id": "FzlCwyxLXTc-",
        "outputId": "da4cbc3a-ab29-4cf5-b1aa-743f3e160c57"
      },
      "execution_count": 101,
      "outputs": [
        {
          "output_type": "execute_result",
          "data": {
            "text/plain": [
              "[1, 9, 25]"
            ]
          },
          "metadata": {},
          "execution_count": 101
        }
      ]
    },
    {
      "cell_type": "code",
      "source": [
        "[x ** 2 for x in dataset if x > 0]  # comprehension 으로 만들기"
      ],
      "metadata": {
        "colab": {
          "base_uri": "https://localhost:8080/"
        },
        "id": "IvP4GAJkXTad",
        "outputId": "59d6eb85-68c3-4170-b0e6-96ec589a6b02"
      },
      "execution_count": 102,
      "outputs": [
        {
          "output_type": "execute_result",
          "data": {
            "text/plain": [
              "[1, 9, 25]"
            ]
          },
          "metadata": {},
          "execution_count": 102
        }
      ]
    },
    {
      "cell_type": "markdown",
      "source": [
        "# reduce() 함수  N개 => 1개"
      ],
      "metadata": {
        "id": "ajVj5X2AX2xe"
      }
    },
    {
      "cell_type": "code",
      "source": [
        "from functools import reduce"
      ],
      "metadata": {
        "id": "aMFJ8sCvX0bm"
      },
      "execution_count": 103,
      "outputs": []
    },
    {
      "cell_type": "code",
      "source": [
        "# 구문\n",
        "# functools.reduce(function, iterable[, initializer])\n",
        "\n",
        "\n",
        "# function 을 사용해서 iterable을  집계연산을 통해 '하나의 값'을 리턴한다.\n",
        "# 위 function 은 두개의 매개변수를 받아서 하나의 값을 리턴해야 한다.\n",
        "# initializer 는 주어지면 첫 번째 인자로서 추가됩니다"
      ],
      "metadata": {
        "id": "9Vi6vHeIXTXe"
      },
      "execution_count": 104,
      "outputs": []
    },
    {
      "cell_type": "code",
      "source": [
        "reduce(lambda x, y: x + y, [1, 2, 3, 4, 5])"
      ],
      "metadata": {
        "colab": {
          "base_uri": "https://localhost:8080/"
        },
        "id": "vrYuxYgzXTU1",
        "outputId": "66421e46-eb03-4cf1-f6ee-2e827562eda5"
      },
      "execution_count": 105,
      "outputs": [
        {
          "output_type": "execute_result",
          "data": {
            "text/plain": [
              "15"
            ]
          },
          "metadata": {},
          "execution_count": 105
        }
      ]
    },
    {
      "cell_type": "code",
      "source": [
        "# initializer 활용"
      ],
      "metadata": {
        "id": "o7b2bdagXTSN"
      },
      "execution_count": 106,
      "outputs": []
    },
    {
      "cell_type": "code",
      "source": [
        "# [1, 2, 3] ==> [1, 4, 9]  <- 관점에 따라서 이는 1개짜리 데이터 (list 한개)"
      ],
      "metadata": {
        "id": "jn4JCKqoXTPt"
      },
      "execution_count": 107,
      "outputs": []
    },
    {
      "cell_type": "code",
      "source": [
        "def func(a, b):\n",
        "  print((a, b))   # 중간단계\n",
        "  a.append(b ** 2)\n",
        "  return a\n",
        "\n",
        "reduce(func, [1, 2, 3], [])   # 초깃값 []"
      ],
      "metadata": {
        "colab": {
          "base_uri": "https://localhost:8080/"
        },
        "id": "fmLDZmFqXTNF",
        "outputId": "1998dfd2-a8a1-45bc-f660-7083db6d6df8"
      },
      "execution_count": 108,
      "outputs": [
        {
          "output_type": "stream",
          "name": "stdout",
          "text": [
            "([], 1)\n",
            "([1], 2)\n",
            "([1, 4], 3)\n"
          ]
        },
        {
          "output_type": "execute_result",
          "data": {
            "text/plain": [
              "[1, 4, 9]"
            ]
          },
          "metadata": {},
          "execution_count": 108
        }
      ]
    },
    {
      "cell_type": "code",
      "source": [
        "#   []   | [1,   2,   3]\n",
        "#     ↓    ↓\n",
        "# func([], 1)\n",
        "#       ↓\n",
        "#      [1]    2     3\n",
        "#         ↓   ↓\n",
        "#    func([1], 2)\n",
        "#           ↓\n",
        "#        [1, 4]    3\n",
        "#            ↓     ↓\n",
        "#      func([1, 4], 3)\n",
        "#                ↓\n",
        "#            [1, 4, 9]"
      ],
      "metadata": {
        "id": "mGAoyRhaZEd-"
      },
      "execution_count": 109,
      "outputs": []
    },
    {
      "cell_type": "code",
      "source": [
        "# lambda 로 가능할까?\n",
        "# reduce(lambda a, b: a.append(b ** 2), [1, 2, 3], [])  # 에러 .  append() 의 리턴값은 None\n",
        "\n",
        "# reduce(lambda a, b: a + [b ** 2], [1, 2, 3], [])  # 가능은 하나, 성능 나쁨. + 연산마다 새로운 list 생성\n",
        "\n",
        "# 파이썬 에서 많이 사용하는 기법, SCE 사용\n",
        "reduce(lambda a, b: a.append(b ** 2) or a, [1, 2, 3], [])"
      ],
      "metadata": {
        "colab": {
          "base_uri": "https://localhost:8080/"
        },
        "id": "SGyqF4jzZEbW",
        "outputId": "650d6df5-5d15-455a-c4c3-21ab2f57c282"
      },
      "execution_count": 110,
      "outputs": [
        {
          "output_type": "execute_result",
          "data": {
            "text/plain": [
              "[1, 4, 9]"
            ]
          },
          "metadata": {},
          "execution_count": 110
        }
      ]
    },
    {
      "cell_type": "code",
      "source": [
        "# 아이템 개수 구하기\n",
        "\n",
        "dataset = [\"dog\", \"dog\", \"dog\", \"cat\", \"cat\", \"bird\"]\n",
        "\n",
        "# 개수구하기 결과 =>  {'dog': 3, 'cat': 2, 'bird': 1}"
      ],
      "metadata": {
        "id": "OVWhZtldZEY2"
      },
      "execution_count": 111,
      "outputs": []
    },
    {
      "cell_type": "code",
      "source": [
        "# 방법1: for 사용\n",
        "\n",
        "def count_element(elements):\n",
        "  result = {}\n",
        "  for element in elements:\n",
        "    v = result.get(element)\n",
        "    if v:\n",
        "      result[element] += 1\n",
        "    else:\n",
        "      result[element] = 1\n",
        "\n",
        "  return result\n",
        "\n",
        "count_element(dataset)"
      ],
      "metadata": {
        "colab": {
          "base_uri": "https://localhost:8080/"
        },
        "id": "biFeXpTNZEWW",
        "outputId": "70684522-ded8-47c3-b25e-0bf1ffcb9024"
      },
      "execution_count": 112,
      "outputs": [
        {
          "output_type": "execute_result",
          "data": {
            "text/plain": [
              "{'dog': 3, 'cat': 2, 'bird': 1}"
            ]
          },
          "metadata": {},
          "execution_count": 112
        }
      ]
    },
    {
      "cell_type": "code",
      "source": [
        "def count_element(elements):\n",
        "  result = {}\n",
        "  for element in elements:\n",
        "    result[element] = result.get(element, 0) + 1\n",
        "\n",
        "  return result\n",
        "\n",
        "count_element(dataset)"
      ],
      "metadata": {
        "colab": {
          "base_uri": "https://localhost:8080/"
        },
        "id": "mHHINpRBZETO",
        "outputId": "1c1ed491-7e56-40a7-8eaa-298a730bed4d"
      },
      "execution_count": 113,
      "outputs": [
        {
          "output_type": "execute_result",
          "data": {
            "text/plain": [
              "{'dog': 3, 'cat': 2, 'bird': 1}"
            ]
          },
          "metadata": {},
          "execution_count": 113
        }
      ]
    },
    {
      "cell_type": "code",
      "source": [
        "# 방법2 : reduce 사용"
      ],
      "metadata": {
        "id": "l_cFJNbsZEP-"
      },
      "execution_count": 114,
      "outputs": []
    },
    {
      "cell_type": "code",
      "source": [
        "def inner_func(result, element):\n",
        "  result[element] = result.get(element, 0) + 1\n",
        "  return result\n",
        "\n",
        "reduce(inner_func, dataset, {})"
      ],
      "metadata": {
        "colab": {
          "base_uri": "https://localhost:8080/"
        },
        "id": "BBN3TTQLdMqH",
        "outputId": "dd4feb8f-022b-43ac-b287-76f8c94cfb0c"
      },
      "execution_count": 115,
      "outputs": [
        {
          "output_type": "execute_result",
          "data": {
            "text/plain": [
              "{'dog': 3, 'cat': 2, 'bird': 1}"
            ]
          },
          "metadata": {},
          "execution_count": 115
        }
      ]
    },
    {
      "cell_type": "code",
      "source": [
        "reduce(\n",
        "    lambda r, e: r.update({e: r.get(e, 0) + 1}) or r,\n",
        "    dataset,  # [\"dog\", \"dog\", \"dog\", \"cat\", \"cat\", \"bird\"]\n",
        "    {}  # initializer\n",
        ")"
      ],
      "metadata": {
        "colab": {
          "base_uri": "https://localhost:8080/"
        },
        "id": "o7OhNSJ9dMm3",
        "outputId": "6200e7da-c9fa-41c0-957b-13baaddf287a"
      },
      "execution_count": 116,
      "outputs": [
        {
          "output_type": "execute_result",
          "data": {
            "text/plain": [
              "{'dog': 3, 'cat': 2, 'bird': 1}"
            ]
          },
          "metadata": {},
          "execution_count": 116
        }
      ]
    },
    {
      "cell_type": "code",
      "source": [
        "\"\"\"\n",
        "  {} | [\"dog\", \"dog\", \"dog\", \"cat\", \"cat\", \"bird\"]\n",
        "     ↘   ↓\n",
        "    {'dog':1} | [\"dog\", \"dog\", \"cat\", \"cat\", \"bird\"]\n",
        "           ↘   ↓\n",
        "           {'dog':2} | [\"dog\", \"cat\", \"cat\", \"bird\"]\n",
        "                   ↘   ↓\n",
        "                 {'dog':3} | [\"cat\", \"cat\", \"bird\"]\n",
        "                        ↘   ↓\n",
        "                  {'dog':3, 'cat':1} | [\"cat\", \"bird\"]\n",
        "                                    ↘   ↓\n",
        "                          {'dog':3, 'cat':2} | [\"bird\"]\n",
        "                                            ↘   ↓\n",
        "                               {'dog':3, 'cat':2, 'bird':1}\n",
        "\"\"\"\n",
        "None"
      ],
      "metadata": {
        "id": "He1Em0VndMiw"
      },
      "execution_count": 117,
      "outputs": []
    },
    {
      "cell_type": "code",
      "source": [],
      "metadata": {
        "id": "M2MHJOXadMf_"
      },
      "execution_count": 117,
      "outputs": []
    },
    {
      "cell_type": "code",
      "source": [],
      "metadata": {
        "id": "vBM1yy7yZENm"
      },
      "execution_count": 117,
      "outputs": []
    },
    {
      "cell_type": "code",
      "source": [],
      "metadata": {
        "id": "ENoYz2nUZEKm"
      },
      "execution_count": 117,
      "outputs": []
    },
    {
      "cell_type": "code",
      "source": [],
      "metadata": {
        "id": "EFhNKuOvZEHu"
      },
      "execution_count": 117,
      "outputs": []
    },
    {
      "cell_type": "code",
      "source": [],
      "metadata": {
        "id": "p14Kw5KqZEEW"
      },
      "execution_count": 117,
      "outputs": []
    }
  ]
}