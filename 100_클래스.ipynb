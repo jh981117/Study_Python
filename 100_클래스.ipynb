{
  "nbformat": 4,
  "nbformat_minor": 0,
  "metadata": {
    "colab": {
      "provenance": [],
      "authorship_tag": "ABX9TyM9Twb9HlcXHnzhoB2XEecY",
      "include_colab_link": true
    },
    "kernelspec": {
      "name": "python3",
      "display_name": "Python 3"
    },
    "language_info": {
      "name": "python"
    }
  },
  "cells": [
    {
      "cell_type": "markdown",
      "metadata": {
        "id": "view-in-github",
        "colab_type": "text"
      },
      "source": [
        "<a href=\"https://colab.research.google.com/github/jh981117/Study_Python/blob/main/100_%ED%81%B4%EB%9E%98%EC%8A%A4.ipynb\" target=\"_parent\"><img src=\"https://colab.research.google.com/assets/colab-badge.svg\" alt=\"Open In Colab\"/></a>"
      ]
    },
    {
      "cell_type": "markdown",
      "source": [
        "#Class\n"
      ],
      "metadata": {
        "id": "Kmk94hFTiia5"
      }
    },
    {
      "cell_type": "code",
      "execution_count": 429,
      "metadata": {
        "id": "qQalnmRQieiN"
      },
      "outputs": [],
      "source": [
        "# 클래스 정의\n",
        "class Cookie:\n",
        "  pass"
      ]
    },
    {
      "cell_type": "code",
      "source": [
        "# 클래스 인스턴스 생성\n",
        "a = Cookie()\n",
        "b = Cookie()\n",
        "c = Cookie()"
      ],
      "metadata": {
        "id": "8MZNVAboiop-"
      },
      "execution_count": 430,
      "outputs": []
    },
    {
      "cell_type": "code",
      "source": [
        "a"
      ],
      "metadata": {
        "colab": {
          "base_uri": "https://localhost:8080/"
        },
        "id": "YOVNJwgNiqbd",
        "outputId": "0b75f197-acb3-4b18-dfc4-5726d677ff88"
      },
      "execution_count": 431,
      "outputs": [
        {
          "output_type": "execute_result",
          "data": {
            "text/plain": [
              "<__main__.Cookie at 0x7addb877dff0>"
            ]
          },
          "metadata": {},
          "execution_count": 431
        }
      ]
    },
    {
      "cell_type": "code",
      "source": [
        "type(a)"
      ],
      "metadata": {
        "colab": {
          "base_uri": "https://localhost:8080/"
        },
        "id": "TkKz3IF2DgUq",
        "outputId": "a49727ae-095f-4f16-d6bb-0d1e136fc6b6"
      },
      "execution_count": 432,
      "outputs": [
        {
          "output_type": "execute_result",
          "data": {
            "text/plain": [
              "__main__.Cookie"
            ]
          },
          "metadata": {},
          "execution_count": 432
        }
      ]
    },
    {
      "cell_type": "code",
      "source": [
        "type(a) is Cookie"
      ],
      "metadata": {
        "colab": {
          "base_uri": "https://localhost:8080/"
        },
        "id": "0nRx-MdZDgSK",
        "outputId": "eaf3d568-5f33-4681-bf24-f7247daf95ed"
      },
      "execution_count": 433,
      "outputs": [
        {
          "output_type": "execute_result",
          "data": {
            "text/plain": [
              "True"
            ]
          },
          "metadata": {},
          "execution_count": 433
        }
      ]
    },
    {
      "cell_type": "code",
      "source": [
        "a == b"
      ],
      "metadata": {
        "colab": {
          "base_uri": "https://localhost:8080/"
        },
        "id": "y5CIeJgcDgPi",
        "outputId": "c2caf83b-41b4-4b8c-a9b1-238ac69055a4"
      },
      "execution_count": 434,
      "outputs": [
        {
          "output_type": "execute_result",
          "data": {
            "text/plain": [
              "False"
            ]
          },
          "metadata": {},
          "execution_count": 434
        }
      ]
    },
    {
      "cell_type": "markdown",
      "source": [
        "# 생성자 & 객체변수"
      ],
      "metadata": {
        "id": "RbpNQMC1DnyT"
      }
    },
    {
      "cell_type": "code",
      "source": [
        "class Rectangle:\n",
        "  def __init__(self):\n",
        "    print('Rectangle() 생성자 호출')\n",
        "    # 객체변수들 (속성)\n",
        "    self.width = 0\n",
        "    self.height = 0\n",
        "\n",
        "r1 = Rectangle()\n",
        "r2 = Rectangle()"
      ],
      "metadata": {
        "colab": {
          "base_uri": "https://localhost:8080/"
        },
        "id": "3S7KBxLxDgNC",
        "outputId": "55d26d05-e9b2-47fa-cea0-76b047f8abe7"
      },
      "execution_count": 435,
      "outputs": [
        {
          "output_type": "stream",
          "name": "stdout",
          "text": [
            "Rectangle() 생성자 호출\n",
            "Rectangle() 생성자 호출\n"
          ]
        }
      ]
    },
    {
      "cell_type": "code",
      "source": [
        "r1.width, r1.height"
      ],
      "metadata": {
        "colab": {
          "base_uri": "https://localhost:8080/"
        },
        "id": "m8M1OVJnDgKi",
        "outputId": "408e0802-99d9-475a-96a4-ce36c1dae61b"
      },
      "execution_count": 436,
      "outputs": [
        {
          "output_type": "execute_result",
          "data": {
            "text/plain": [
              "(0, 0)"
            ]
          },
          "metadata": {},
          "execution_count": 436
        }
      ]
    },
    {
      "cell_type": "code",
      "source": [
        "r2.width, r2.height"
      ],
      "metadata": {
        "colab": {
          "base_uri": "https://localhost:8080/"
        },
        "id": "ZIm-vAjLDgH6",
        "outputId": "627cb86e-ce21-4816-b4d0-2c38bec94d92"
      },
      "execution_count": 437,
      "outputs": [
        {
          "output_type": "execute_result",
          "data": {
            "text/plain": [
              "(0, 0)"
            ]
          },
          "metadata": {},
          "execution_count": 437
        }
      ]
    },
    {
      "cell_type": "code",
      "source": [
        "r1.area = 19   # r1 인스턴스에 area 라는 객체변수(속성) 추가"
      ],
      "metadata": {
        "id": "QCSsCY9iDgFK"
      },
      "execution_count": 438,
      "outputs": []
    },
    {
      "cell_type": "code",
      "source": [
        "r1.area"
      ],
      "metadata": {
        "colab": {
          "base_uri": "https://localhost:8080/"
        },
        "id": "ipf3QSxVDgCr",
        "outputId": "2a8fdd7e-c91e-4f6b-85b0-d5b6acf3a1eb"
      },
      "execution_count": 439,
      "outputs": [
        {
          "output_type": "execute_result",
          "data": {
            "text/plain": [
              "19"
            ]
          },
          "metadata": {},
          "execution_count": 439
        }
      ]
    },
    {
      "cell_type": "code",
      "source": [
        "r1.width = 100"
      ],
      "metadata": {
        "id": "s2WUSkNNDgAK"
      },
      "execution_count": 440,
      "outputs": []
    },
    {
      "cell_type": "code",
      "source": [
        "r1.width, r2.width"
      ],
      "metadata": {
        "colab": {
          "base_uri": "https://localhost:8080/"
        },
        "id": "8zsfK6VNDf9b",
        "outputId": "3c1d385a-0ea0-447c-a602-416a8810d154"
      },
      "execution_count": 441,
      "outputs": [
        {
          "output_type": "execute_result",
          "data": {
            "text/plain": [
              "(100, 0)"
            ]
          },
          "metadata": {},
          "execution_count": 441
        }
      ]
    },
    {
      "cell_type": "markdown",
      "source": [
        "# 메소드"
      ],
      "metadata": {
        "id": "1aXwwLjODuyK"
      }
    },
    {
      "cell_type": "code",
      "source": [
        "class Rectangle:\n",
        "  def __init__(self):\n",
        "    print('Rectangle() 생성자 호출')\n",
        "    # 객체변수들 (속성)\n",
        "    self.width = 0\n",
        "    self.height = 0\n",
        "\n",
        "  # 사각형의 넓이 구하기\n",
        "  def get_area(self):\n",
        "    return self.width * self.height\n",
        "\n",
        "  # 사각형의 둘레 구하기\n",
        "  def get_perimeter(self):\n",
        "    return (self.width + self.height) * 2"
      ],
      "metadata": {
        "id": "M9mngIZfDf6y"
      },
      "execution_count": 442,
      "outputs": []
    },
    {
      "cell_type": "code",
      "source": [
        "r1 = Rectangle()\n",
        "r2 = Rectangle()\n",
        "\n",
        "r1.height, r1.width = 10, 20"
      ],
      "metadata": {
        "colab": {
          "base_uri": "https://localhost:8080/"
        },
        "id": "4IcxaBVtDf4S",
        "outputId": "a069c9a8-63bf-4a42-d175-f989fdfde18e"
      },
      "execution_count": 443,
      "outputs": [
        {
          "output_type": "stream",
          "name": "stdout",
          "text": [
            "Rectangle() 생성자 호출\n",
            "Rectangle() 생성자 호출\n"
          ]
        }
      ]
    },
    {
      "cell_type": "code",
      "source": [
        "r1.get_area()"
      ],
      "metadata": {
        "colab": {
          "base_uri": "https://localhost:8080/"
        },
        "id": "aCJoLubbDf1i",
        "outputId": "a3f6c5a9-c580-40a8-b531-1685ae8e2175"
      },
      "execution_count": 444,
      "outputs": [
        {
          "output_type": "execute_result",
          "data": {
            "text/plain": [
              "200"
            ]
          },
          "metadata": {},
          "execution_count": 444
        }
      ]
    },
    {
      "cell_type": "code",
      "source": [
        "r1.get_perimeter()"
      ],
      "metadata": {
        "colab": {
          "base_uri": "https://localhost:8080/"
        },
        "id": "-c7RRhdVDfzD",
        "outputId": "900ea3b2-b38b-4de5-87b9-9b5bfc58215a"
      },
      "execution_count": 445,
      "outputs": [
        {
          "output_type": "execute_result",
          "data": {
            "text/plain": [
              "60"
            ]
          },
          "metadata": {},
          "execution_count": 445
        }
      ]
    },
    {
      "cell_type": "code",
      "source": [
        "r2.get_area()"
      ],
      "metadata": {
        "colab": {
          "base_uri": "https://localhost:8080/"
        },
        "id": "DXx4oRIiDfwi",
        "outputId": "3a05f11d-19e9-4bb1-bf65-3ff7c77b7955"
      },
      "execution_count": 446,
      "outputs": [
        {
          "output_type": "execute_result",
          "data": {
            "text/plain": [
              "0"
            ]
          },
          "metadata": {},
          "execution_count": 446
        }
      ]
    },
    {
      "cell_type": "markdown",
      "source": [
        "## 첫번째 매개변수 self"
      ],
      "metadata": {
        "id": "jcT3kjb1D0iy"
      }
    },
    {
      "cell_type": "code",
      "source": [
        "r3 = Rectangle()\n",
        "r3.width, r3.height = 10, 20"
      ],
      "metadata": {
        "colab": {
          "base_uri": "https://localhost:8080/"
        },
        "id": "U0wZXVMPDfuC",
        "outputId": "31ef8337-3dad-4328-8560-e66b1a47f8c1"
      },
      "execution_count": 447,
      "outputs": [
        {
          "output_type": "stream",
          "name": "stdout",
          "text": [
            "Rectangle() 생성자 호출\n"
          ]
        }
      ]
    },
    {
      "cell_type": "code",
      "source": [
        "r3.get_area()"
      ],
      "metadata": {
        "colab": {
          "base_uri": "https://localhost:8080/"
        },
        "id": "X1c7mVP_Dfra",
        "outputId": "03a5fdb8-840d-4b44-f5ef-308b94716c2d"
      },
      "execution_count": 448,
      "outputs": [
        {
          "output_type": "execute_result",
          "data": {
            "text/plain": [
              "200"
            ]
          },
          "metadata": {},
          "execution_count": 448
        }
      ]
    },
    {
      "cell_type": "code",
      "source": [
        "Rectangle.get_area(r3) # self 값에 r3 가 전달"
      ],
      "metadata": {
        "colab": {
          "base_uri": "https://localhost:8080/"
        },
        "id": "3xH5jMDtDfoy",
        "outputId": "9af64277-fc81-4df0-cfd3-c535375767f1"
      },
      "execution_count": 449,
      "outputs": [
        {
          "output_type": "execute_result",
          "data": {
            "text/plain": [
              "200"
            ]
          },
          "metadata": {},
          "execution_count": 449
        }
      ]
    },
    {
      "cell_type": "code",
      "source": [
        "Rectangle.get_area(r2) # self 값에 r2 가 전달"
      ],
      "metadata": {
        "colab": {
          "base_uri": "https://localhost:8080/"
        },
        "id": "zc_vHwJPDfmC",
        "outputId": "c97b6ec8-7661-4f47-81e9-72da49b2bd41"
      },
      "execution_count": 450,
      "outputs": [
        {
          "output_type": "execute_result",
          "data": {
            "text/plain": [
              "0"
            ]
          },
          "metadata": {},
          "execution_count": 450
        }
      ]
    },
    {
      "cell_type": "markdown",
      "source": [
        "# 생성자 매개변수"
      ],
      "metadata": {
        "id": "yx6XWx0UD4dy"
      }
    },
    {
      "cell_type": "code",
      "source": [
        "class Rectangle:\n",
        "  # def __init__(self, width, height):\n",
        "  def __init__(self, width = 0, height = 0):\n",
        "    print('Rectangle(width, height) 생성자 호출')\n",
        "    # 객체변수들 (속성)\n",
        "    self.width = width\n",
        "    self.height = height\n",
        "\n",
        "  # 사각형의 넓이 구하기\n",
        "  def get_area(self):\n",
        "    return self.width * self.height\n",
        "\n",
        "  # 사각형의 둘레 구하기\n",
        "  def get_perimeter(self):\n",
        "    return (self.width + self.height) * 2"
      ],
      "metadata": {
        "id": "je9zRw1VDfjS"
      },
      "execution_count": 451,
      "outputs": []
    },
    {
      "cell_type": "code",
      "source": [
        "# r1 = Rectangle()  # 에러\n",
        "r1 = Rectangle(30, 20)\n",
        "\n",
        "r1.get_area()"
      ],
      "metadata": {
        "colab": {
          "base_uri": "https://localhost:8080/"
        },
        "id": "5OqAT05lDfgy",
        "outputId": "7767ca42-02cd-40f7-9278-036d47601ab1"
      },
      "execution_count": 452,
      "outputs": [
        {
          "output_type": "stream",
          "name": "stdout",
          "text": [
            "Rectangle(width, height) 생성자 호출\n"
          ]
        },
        {
          "output_type": "execute_result",
          "data": {
            "text/plain": [
              "600"
            ]
          },
          "metadata": {},
          "execution_count": 452
        }
      ]
    },
    {
      "cell_type": "code",
      "source": [
        "r1 = Rectangle()\n",
        "r1.get_area()"
      ],
      "metadata": {
        "colab": {
          "base_uri": "https://localhost:8080/"
        },
        "id": "sNKpXoQJDfeK",
        "outputId": "2b82fda5-bfed-4be4-8eca-6420fb5678fa"
      },
      "execution_count": 453,
      "outputs": [
        {
          "output_type": "stream",
          "name": "stdout",
          "text": [
            "Rectangle(width, height) 생성자 호출\n"
          ]
        },
        {
          "output_type": "execute_result",
          "data": {
            "text/plain": [
              "0"
            ]
          },
          "metadata": {},
          "execution_count": 453
        }
      ]
    },
    {
      "cell_type": "markdown",
      "source": [
        "# 인스턴스 고유 id"
      ],
      "metadata": {
        "id": "j-W8ElgFD9Ai"
      }
    },
    {
      "cell_type": "code",
      "source": [
        "id(r1)"
      ],
      "metadata": {
        "colab": {
          "base_uri": "https://localhost:8080/"
        },
        "id": "0QCBOjK4Dfbq",
        "outputId": "9e68b6b5-5f8f-4f2b-d80b-2ef83dfc3154"
      },
      "execution_count": 454,
      "outputs": [
        {
          "output_type": "execute_result",
          "data": {
            "text/plain": [
              "135092701224272"
            ]
          },
          "metadata": {},
          "execution_count": 454
        }
      ]
    },
    {
      "cell_type": "code",
      "source": [
        "id(r2)"
      ],
      "metadata": {
        "colab": {
          "base_uri": "https://localhost:8080/"
        },
        "id": "agJJcKHQDfZK",
        "outputId": "3386ade6-5240-4cb2-81d8-d2224be513ad"
      },
      "execution_count": 455,
      "outputs": [
        {
          "output_type": "execute_result",
          "data": {
            "text/plain": [
              "135092701307104"
            ]
          },
          "metadata": {},
          "execution_count": 455
        }
      ]
    },
    {
      "cell_type": "code",
      "source": [
        "id(r3)"
      ],
      "metadata": {
        "colab": {
          "base_uri": "https://localhost:8080/"
        },
        "id": "jCz4p8ErDfWa",
        "outputId": "713a04d5-6558-4340-dd4f-526f8bc82da5"
      },
      "execution_count": 456,
      "outputs": [
        {
          "output_type": "execute_result",
          "data": {
            "text/plain": [
              "135092701305616"
            ]
          },
          "metadata": {},
          "execution_count": 456
        }
      ]
    },
    {
      "cell_type": "markdown",
      "source": [
        "# dict 속성"
      ],
      "metadata": {
        "id": "DVyLko3IEAqC"
      }
    },
    {
      "cell_type": "code",
      "source": [
        "r1.__dict__"
      ],
      "metadata": {
        "colab": {
          "base_uri": "https://localhost:8080/"
        },
        "id": "4EsgCDYADfT7",
        "outputId": "e027e5ce-34e0-4832-e29b-15cbc908109f"
      },
      "execution_count": 457,
      "outputs": [
        {
          "output_type": "execute_result",
          "data": {
            "text/plain": [
              "{'width': 0, 'height': 0}"
            ]
          },
          "metadata": {},
          "execution_count": 457
        }
      ]
    },
    {
      "cell_type": "code",
      "source": [
        "r2.__dict__"
      ],
      "metadata": {
        "colab": {
          "base_uri": "https://localhost:8080/"
        },
        "id": "uhvnn4MDDfRU",
        "outputId": "7941efcc-d0ce-41b1-f913-cb30e7cffb2d"
      },
      "execution_count": 458,
      "outputs": [
        {
          "output_type": "execute_result",
          "data": {
            "text/plain": [
              "{'width': 0, 'height': 0}"
            ]
          },
          "metadata": {},
          "execution_count": 458
        }
      ]
    },
    {
      "cell_type": "code",
      "source": [
        "r3.__dict__"
      ],
      "metadata": {
        "colab": {
          "base_uri": "https://localhost:8080/"
        },
        "id": "3EzwQ4oQDfOi",
        "outputId": "fb96d6b8-a8a9-4ac1-f3fc-51e395ed43f6"
      },
      "execution_count": 459,
      "outputs": [
        {
          "output_type": "execute_result",
          "data": {
            "text/plain": [
              "{'width': 10, 'height': 20}"
            ]
          },
          "metadata": {},
          "execution_count": 459
        }
      ]
    },
    {
      "cell_type": "code",
      "source": [
        "r1.area = '찜무'"
      ],
      "metadata": {
        "id": "-RTRlgPXDfMC"
      },
      "execution_count": 460,
      "outputs": []
    },
    {
      "cell_type": "code",
      "source": [
        "r1.__dict__"
      ],
      "metadata": {
        "colab": {
          "base_uri": "https://localhost:8080/"
        },
        "id": "fGvRtg32DfJa",
        "outputId": "9c577d68-dd8d-4965-fd94-aeafe00c6a05"
      },
      "execution_count": 461,
      "outputs": [
        {
          "output_type": "execute_result",
          "data": {
            "text/plain": [
              "{'width': 0, 'height': 0, 'area': '찜무'}"
            ]
          },
          "metadata": {},
          "execution_count": 461
        }
      ]
    },
    {
      "cell_type": "code",
      "source": [
        "Rectangle.__dict__"
      ],
      "metadata": {
        "colab": {
          "base_uri": "https://localhost:8080/"
        },
        "id": "4M5jqhdjDfG6",
        "outputId": "b9b4d518-9fc3-4ca8-d4d2-d6b551a850b9"
      },
      "execution_count": 462,
      "outputs": [
        {
          "output_type": "execute_result",
          "data": {
            "text/plain": [
              "mappingproxy({'__module__': '__main__',\n",
              "              '__init__': <function __main__.Rectangle.__init__(self, width=0, height=0)>,\n",
              "              'get_area': <function __main__.Rectangle.get_area(self)>,\n",
              "              'get_perimeter': <function __main__.Rectangle.get_perimeter(self)>,\n",
              "              '__dict__': <attribute '__dict__' of 'Rectangle' objects>,\n",
              "              '__weakref__': <attribute '__weakref__' of 'Rectangle' objects>,\n",
              "              '__doc__': None})"
            ]
          },
          "metadata": {},
          "execution_count": 462
        }
      ]
    },
    {
      "cell_type": "code",
      "source": [
        "# 속성, 메소드 는 추가, 삭제 가능"
      ],
      "metadata": {
        "id": "a7BJ6_BeDfEa"
      },
      "execution_count": 463,
      "outputs": []
    },
    {
      "cell_type": "code",
      "source": [
        "r2.__dict__"
      ],
      "metadata": {
        "colab": {
          "base_uri": "https://localhost:8080/"
        },
        "id": "Rx0r8BnfDfCC",
        "outputId": "aed37ec3-d1b8-4c44-ae0b-8343a1430e24"
      },
      "execution_count": 464,
      "outputs": [
        {
          "output_type": "execute_result",
          "data": {
            "text/plain": [
              "{'width': 0, 'height': 0}"
            ]
          },
          "metadata": {},
          "execution_count": 464
        }
      ]
    },
    {
      "cell_type": "code",
      "source": [
        "del(r2.height)"
      ],
      "metadata": {
        "id": "gQKIrZUcDe_q"
      },
      "execution_count": 465,
      "outputs": []
    },
    {
      "cell_type": "code",
      "source": [
        "r2.__dict__"
      ],
      "metadata": {
        "colab": {
          "base_uri": "https://localhost:8080/"
        },
        "id": "NFQF1PAzEHWS",
        "outputId": "fe76895c-3a79-4ddb-ebdf-d57dba163697"
      },
      "execution_count": 466,
      "outputs": [
        {
          "output_type": "execute_result",
          "data": {
            "text/plain": [
              "{'width': 0}"
            ]
          },
          "metadata": {},
          "execution_count": 466
        }
      ]
    },
    {
      "cell_type": "code",
      "source": [
        "# r2.get_area()  #  에러 ! 더 이상 r2 에는 height 속성이 없따!"
      ],
      "metadata": {
        "id": "DCfsbrTuEHTi"
      },
      "execution_count": 467,
      "outputs": []
    },
    {
      "cell_type": "markdown",
      "source": [
        "# 클래스 메소드, 인스턴스 메소드\n",
        "# 클래스 변수, 인스턴스 변수"
      ],
      "metadata": {
        "id": "yGE6DyCeEJ8z"
      }
    },
    {
      "cell_type": "code",
      "source": [
        "class Foo:\n",
        "  # 클래스 메소드 (class method)\n",
        "  # self 가 안붙은 메소드, '클래스 이름' 으로 사용\n",
        "  def func1():\n",
        "    print('function1')\n",
        "\n",
        "  # 인스턴스 메소드 (instance method)\n",
        "  # self 가 붙은 메소드 ,  '인스턴스 생성' 하여 사용\n",
        "  def func2(self):\n",
        "    print('function2')"
      ],
      "metadata": {
        "id": "uFebvZEwEHRC"
      },
      "execution_count": 468,
      "outputs": []
    },
    {
      "cell_type": "code",
      "source": [
        "f1 = Foo()\n",
        "\n",
        "# f1.func1()  # 에러   Foo.func1(f1)\n",
        "f1.func2()  # 인스턴스를 사용하여 호출\n",
        "\n",
        "Foo.func1()  # 클래스 이름으로 호출."
      ],
      "metadata": {
        "colab": {
          "base_uri": "https://localhost:8080/"
        },
        "id": "YZ10INazEHOa",
        "outputId": "b32434ee-e5e2-475f-db85-52c75c88b7e0"
      },
      "execution_count": 469,
      "outputs": [
        {
          "output_type": "stream",
          "name": "stdout",
          "text": [
            "function2\n",
            "function1\n"
          ]
        }
      ]
    },
    {
      "cell_type": "code",
      "source": [
        "# self.변수이름  : <-- 인스턴스 변수\n",
        "#       인스턴스 변수는 '인스턴스 마다' 생성        --> 인스턴스 네임스페이스에 생성\n",
        "# 클래스 내부에서 선언된변수 <-- 클래스 변수  (self 가 안 붙음)\n",
        "#        사용하려면 클래스이름.변수이름  으로 사용해야 함\n",
        "#        클래스 변수는 '클래스에 딱 하나' 생성  --> 클래스 네임스페이스에 생성"
      ],
      "metadata": {
        "id": "SuIu2fPNEHLq"
      },
      "execution_count": 470,
      "outputs": []
    },
    {
      "cell_type": "code",
      "source": [
        "class Account:\n",
        "  num_accounts = 0  # 클래스 변수\n",
        "\n",
        "  def __init__(self, name):\n",
        "    print(f'Account({name}) 생성')\n",
        "    self.name = name   # 인스턴스 변수\n",
        "    Account.num_accounts += 1\n"
      ],
      "metadata": {
        "id": "KFTZNgtOEHJC"
      },
      "execution_count": 471,
      "outputs": []
    },
    {
      "cell_type": "code",
      "source": [
        "Account.num_accounts"
      ],
      "metadata": {
        "colab": {
          "base_uri": "https://localhost:8080/"
        },
        "id": "mNfpb7CIEHGa",
        "outputId": "522e5cb0-21d7-4a30-9467-86baed81e0c1"
      },
      "execution_count": 472,
      "outputs": [
        {
          "output_type": "execute_result",
          "data": {
            "text/plain": [
              "0"
            ]
          },
          "metadata": {},
          "execution_count": 472
        }
      ]
    },
    {
      "cell_type": "code",
      "source": [
        "acc1 = Account('회사')"
      ],
      "metadata": {
        "colab": {
          "base_uri": "https://localhost:8080/"
        },
        "id": "1uULMAWlEHDx",
        "outputId": "38f4ad11-2a8d-4e25-ec74-9fe23f16ed33"
      },
      "execution_count": 473,
      "outputs": [
        {
          "output_type": "stream",
          "name": "stdout",
          "text": [
            "Account(회사) 생성\n"
          ]
        }
      ]
    },
    {
      "cell_type": "code",
      "source": [
        "# 인스턴스 변수 이름으로도 클래스 변수 사용은 가능하나.. (가급적 이렇겐 살지 말자.)\n",
        "Account.num_accounts, acc1.num_accounts"
      ],
      "metadata": {
        "colab": {
          "base_uri": "https://localhost:8080/"
        },
        "id": "EurKclehEHBK",
        "outputId": "693a0900-ddde-4b65-947c-37da7ba36503"
      },
      "execution_count": 474,
      "outputs": [
        {
          "output_type": "execute_result",
          "data": {
            "text/plain": [
              "(1, 1)"
            ]
          },
          "metadata": {},
          "execution_count": 474
        }
      ]
    },
    {
      "cell_type": "code",
      "source": [
        "acc2 = Account('최짐무')"
      ],
      "metadata": {
        "colab": {
          "base_uri": "https://localhost:8080/"
        },
        "id": "UJPjAKPyEG-i",
        "outputId": "956cfd43-c62b-4f0d-f6b9-402cabce7299"
      },
      "execution_count": 475,
      "outputs": [
        {
          "output_type": "stream",
          "name": "stdout",
          "text": [
            "Account(최짐무) 생성\n"
          ]
        }
      ]
    },
    {
      "cell_type": "code",
      "source": [
        "Account.num_accounts"
      ],
      "metadata": {
        "colab": {
          "base_uri": "https://localhost:8080/"
        },
        "id": "rj6Vtz4hEG7y",
        "outputId": "c063abdc-aabc-4816-df5c-91a868e23a41"
      },
      "execution_count": 476,
      "outputs": [
        {
          "output_type": "execute_result",
          "data": {
            "text/plain": [
              "2"
            ]
          },
          "metadata": {},
          "execution_count": 476
        }
      ]
    },
    {
      "cell_type": "code",
      "source": [
        "acc1.name, acc2.name"
      ],
      "metadata": {
        "colab": {
          "base_uri": "https://localhost:8080/"
        },
        "id": "H-MFnkJAEG5C",
        "outputId": "d365032e-6f59-408b-9554-d4949c431f43"
      },
      "execution_count": 477,
      "outputs": [
        {
          "output_type": "execute_result",
          "data": {
            "text/plain": [
              "('회사', '최짐무')"
            ]
          },
          "metadata": {},
          "execution_count": 477
        }
      ]
    },
    {
      "cell_type": "code",
      "source": [
        "acc1.__dict__"
      ],
      "metadata": {
        "colab": {
          "base_uri": "https://localhost:8080/"
        },
        "id": "JnR5vcXmDe9C",
        "outputId": "92bf0819-58a7-454e-daf6-d45df1275d21"
      },
      "execution_count": 478,
      "outputs": [
        {
          "output_type": "execute_result",
          "data": {
            "text/plain": [
              "{'name': '회사'}"
            ]
          },
          "metadata": {},
          "execution_count": 478
        }
      ]
    },
    {
      "cell_type": "code",
      "source": [
        "acc2.__dict__"
      ],
      "metadata": {
        "colab": {
          "base_uri": "https://localhost:8080/"
        },
        "id": "KpV65F3sDe6L",
        "outputId": "49bd3e90-bcc8-40b0-a7d6-f09d0a783f04"
      },
      "execution_count": 479,
      "outputs": [
        {
          "output_type": "execute_result",
          "data": {
            "text/plain": [
              "{'name': '최짐무'}"
            ]
          },
          "metadata": {},
          "execution_count": 479
        }
      ]
    },
    {
      "cell_type": "code",
      "source": [
        "Account.__dict__"
      ],
      "metadata": {
        "colab": {
          "base_uri": "https://localhost:8080/"
        },
        "id": "Wagsm4xpEUOy",
        "outputId": "a0232144-7697-4537-fe17-20141786ea8b"
      },
      "execution_count": 480,
      "outputs": [
        {
          "output_type": "execute_result",
          "data": {
            "text/plain": [
              "mappingproxy({'__module__': '__main__',\n",
              "              'num_accounts': 2,\n",
              "              '__init__': <function __main__.Account.__init__(self, name)>,\n",
              "              '__dict__': <attribute '__dict__' of 'Account' objects>,\n",
              "              '__weakref__': <attribute '__weakref__' of 'Account' objects>,\n",
              "              '__doc__': None})"
            ]
          },
          "metadata": {},
          "execution_count": 480
        }
      ]
    },
    {
      "cell_type": "code",
      "source": [
        "# 주의!\n",
        "\n",
        "class Foo:\n",
        "  num_instance = 0\n",
        "\n",
        "  def __init__(self):\n",
        "    self.num_instance += 1  # self.num_instance = self.num_instance + 1\n"
      ],
      "metadata": {
        "id": "UkyoGYBhEUMT"
      },
      "execution_count": 481,
      "outputs": []
    },
    {
      "cell_type": "code",
      "source": [
        "Foo.num_instance"
      ],
      "metadata": {
        "colab": {
          "base_uri": "https://localhost:8080/"
        },
        "id": "OVOz_X-6EUJq",
        "outputId": "8542404b-8d3d-4f90-b0d2-bc63ec036127"
      },
      "execution_count": 482,
      "outputs": [
        {
          "output_type": "execute_result",
          "data": {
            "text/plain": [
              "0"
            ]
          },
          "metadata": {},
          "execution_count": 482
        }
      ]
    },
    {
      "cell_type": "code",
      "source": [
        "obj1 = Foo()"
      ],
      "metadata": {
        "id": "nSpzDen3EUHC"
      },
      "execution_count": 483,
      "outputs": []
    },
    {
      "cell_type": "code",
      "source": [
        "obj1.num_instance"
      ],
      "metadata": {
        "colab": {
          "base_uri": "https://localhost:8080/"
        },
        "id": "CxHSr068EUEi",
        "outputId": "03311cb4-99c3-4ad7-c166-58eb1f6933f1"
      },
      "execution_count": 484,
      "outputs": [
        {
          "output_type": "execute_result",
          "data": {
            "text/plain": [
              "1"
            ]
          },
          "metadata": {},
          "execution_count": 484
        }
      ]
    },
    {
      "cell_type": "code",
      "source": [
        "Foo.num_instance"
      ],
      "metadata": {
        "colab": {
          "base_uri": "https://localhost:8080/"
        },
        "id": "4Y_GW2YgEUBz",
        "outputId": "fa497164-f6fc-4120-dd77-e781ea63e680"
      },
      "execution_count": 485,
      "outputs": [
        {
          "output_type": "execute_result",
          "data": {
            "text/plain": [
              "0"
            ]
          },
          "metadata": {},
          "execution_count": 485
        }
      ]
    },
    {
      "cell_type": "code",
      "source": [
        "obj1.__dict__"
      ],
      "metadata": {
        "colab": {
          "base_uri": "https://localhost:8080/"
        },
        "id": "FXjbRJLdET_C",
        "outputId": "05a7b8cd-eda5-47f6-e1a2-8dfe37d5334d"
      },
      "execution_count": 486,
      "outputs": [
        {
          "output_type": "execute_result",
          "data": {
            "text/plain": [
              "{'num_instance': 1}"
            ]
          },
          "metadata": {},
          "execution_count": 486
        }
      ]
    },
    {
      "cell_type": "code",
      "source": [
        "Foo.__dict__"
      ],
      "metadata": {
        "colab": {
          "base_uri": "https://localhost:8080/"
        },
        "id": "efX4w7GbET8i",
        "outputId": "eef6624f-3496-4354-ed32-9e6b574a83a1"
      },
      "execution_count": 487,
      "outputs": [
        {
          "output_type": "execute_result",
          "data": {
            "text/plain": [
              "mappingproxy({'__module__': '__main__',\n",
              "              'num_instance': 0,\n",
              "              '__init__': <function __main__.Foo.__init__(self)>,\n",
              "              '__dict__': <attribute '__dict__' of 'Foo' objects>,\n",
              "              '__weakref__': <attribute '__weakref__' of 'Foo' objects>,\n",
              "              '__doc__': None})"
            ]
          },
          "metadata": {},
          "execution_count": 487
        }
      ]
    },
    {
      "cell_type": "code",
      "source": [
        "\"\"\"\n",
        "    def __init__(self):\n",
        "        self.num_instance += 1    # <-- 이 과정이 어떻게 일어나나?\n",
        "        #  self.num_instance = self.num_instance + 1\n",
        "                                ↑ ①최초에는 클래스 네임스페이스 num_instance\n",
        "\n",
        "            ↑ ② 인스턴스 변수 num_instance  생성\n",
        "\"\"\"\n",
        "None"
      ],
      "metadata": {
        "id": "QkmWhzufET5i"
      },
      "execution_count": 488,
      "outputs": []
    },
    {
      "cell_type": "code",
      "source": [
        "class MyClass:\n",
        "  count = 0\n",
        "\n",
        "  def __init__(self, num):\n",
        "    self.num = num\n",
        "\n",
        "  def disp(self):\n",
        "    print(MyClass.count, self.num)"
      ],
      "metadata": {
        "id": "XsF484k2ET3D"
      },
      "execution_count": 489,
      "outputs": []
    },
    {
      "cell_type": "code",
      "source": [
        "MyClass.__dict__"
      ],
      "metadata": {
        "colab": {
          "base_uri": "https://localhost:8080/"
        },
        "id": "QKhMWx7gET0q",
        "outputId": "499d347c-920d-4ec7-a35e-393feaeaac97"
      },
      "execution_count": 490,
      "outputs": [
        {
          "output_type": "execute_result",
          "data": {
            "text/plain": [
              "mappingproxy({'__module__': '__main__',\n",
              "              'count': 0,\n",
              "              '__init__': <function __main__.MyClass.__init__(self, num)>,\n",
              "              'disp': <function __main__.MyClass.disp(self)>,\n",
              "              '__dict__': <attribute '__dict__' of 'MyClass' objects>,\n",
              "              '__weakref__': <attribute '__weakref__' of 'MyClass' objects>,\n",
              "              '__doc__': None})"
            ]
          },
          "metadata": {},
          "execution_count": 490
        }
      ]
    },
    {
      "cell_type": "code",
      "source": [
        "m1 = MyClass(10)"
      ],
      "metadata": {
        "id": "YHkyuAMCETyC"
      },
      "execution_count": 491,
      "outputs": []
    },
    {
      "cell_type": "code",
      "source": [
        "m1.__dict__"
      ],
      "metadata": {
        "colab": {
          "base_uri": "https://localhost:8080/"
        },
        "id": "6HK6G76GETva",
        "outputId": "ef2c2612-d225-4893-ddb1-1f92394ccc52"
      },
      "execution_count": 492,
      "outputs": [
        {
          "output_type": "execute_result",
          "data": {
            "text/plain": [
              "{'num': 10}"
            ]
          },
          "metadata": {},
          "execution_count": 492
        }
      ]
    },
    {
      "cell_type": "code",
      "source": [
        "m1.disp()"
      ],
      "metadata": {
        "colab": {
          "base_uri": "https://localhost:8080/"
        },
        "id": "yOIBZPcrETsz",
        "outputId": "9a921540-9bcc-4bdf-af66-f1a960695471"
      },
      "execution_count": 493,
      "outputs": [
        {
          "output_type": "stream",
          "name": "stdout",
          "text": [
            "0 10\n"
          ]
        }
      ]
    },
    {
      "cell_type": "code",
      "source": [
        "# 클래스 변수도 정의 이후에 추가/삭제 가능"
      ],
      "metadata": {
        "id": "kV3-ymT0ETqC"
      },
      "execution_count": 494,
      "outputs": []
    },
    {
      "cell_type": "code",
      "source": [
        "MyClass.addr = \"진무네 집\""
      ],
      "metadata": {
        "id": "QNEhj27cETnb"
      },
      "execution_count": 495,
      "outputs": []
    },
    {
      "cell_type": "code",
      "source": [
        "MyClass.__dict__"
      ],
      "metadata": {
        "colab": {
          "base_uri": "https://localhost:8080/"
        },
        "id": "SX8HH4ZvETk6",
        "outputId": "98b51ce2-76f2-4a8b-ca21-5279b17f4efb"
      },
      "execution_count": 496,
      "outputs": [
        {
          "output_type": "execute_result",
          "data": {
            "text/plain": [
              "mappingproxy({'__module__': '__main__',\n",
              "              'count': 0,\n",
              "              '__init__': <function __main__.MyClass.__init__(self, num)>,\n",
              "              'disp': <function __main__.MyClass.disp(self)>,\n",
              "              '__dict__': <attribute '__dict__' of 'MyClass' objects>,\n",
              "              '__weakref__': <attribute '__weakref__' of 'MyClass' objects>,\n",
              "              '__doc__': None,\n",
              "              'addr': '진무네 집'})"
            ]
          },
          "metadata": {},
          "execution_count": 496
        }
      ]
    },
    {
      "cell_type": "code",
      "source": [
        "del MyClass.count"
      ],
      "metadata": {
        "id": "SKYWHkf-ETia"
      },
      "execution_count": 497,
      "outputs": []
    },
    {
      "cell_type": "code",
      "source": [
        "MyClass.__dict__"
      ],
      "metadata": {
        "colab": {
          "base_uri": "https://localhost:8080/"
        },
        "id": "uStU7c16ETfb",
        "outputId": "28fa280a-443d-4591-db63-e1b35fe9eaa8"
      },
      "execution_count": 498,
      "outputs": [
        {
          "output_type": "execute_result",
          "data": {
            "text/plain": [
              "mappingproxy({'__module__': '__main__',\n",
              "              '__init__': <function __main__.MyClass.__init__(self, num)>,\n",
              "              'disp': <function __main__.MyClass.disp(self)>,\n",
              "              '__dict__': <attribute '__dict__' of 'MyClass' objects>,\n",
              "              '__weakref__': <attribute '__weakref__' of 'MyClass' objects>,\n",
              "              '__doc__': None,\n",
              "              'addr': '진무네 집'})"
            ]
          },
          "metadata": {},
          "execution_count": 498
        }
      ]
    },
    {
      "cell_type": "code",
      "source": [
        "# m1.disp()  # 에러    더이상 MyClass.count 는 없기에!"
      ],
      "metadata": {
        "id": "1e6jju4xEiDi"
      },
      "execution_count": 499,
      "outputs": []
    },
    {
      "cell_type": "markdown",
      "source": [
        "# 클래스의 상속"
      ],
      "metadata": {
        "id": "OCu4hs5NE4mC"
      }
    },
    {
      "cell_type": "code",
      "source": [
        "# 기존의 클래스 상속하여 새로운 클래스 정의하는 구문\n",
        "#    class 새클래스명(기존의 클래스명)\n",
        "#    class 새클래스명(기존클래스1, 기존클래스2, ...)  <-- 다중상속 허용"
      ],
      "metadata": {
        "id": "gSUdQAzHEiBU"
      },
      "execution_count": 500,
      "outputs": []
    },
    {
      "cell_type": "code",
      "source": [
        "# 2차원 원 Circle\n",
        "#  └─ 3차원 구 (球,Sphere)\n",
        "\n",
        "#  1. '원' 객체 정의\n",
        "#  클래스 이름 : Circle\n",
        "#  생성자 : '반지름(radius)'를 받아서 초기화\n",
        "#  getArea() : 면적을 계산하여 리턴하는 메소드\n",
        "#  getPerimeter() : 둘레을 계산하여 리턴하는 메소드\n",
        "\n",
        "# 2. '구' 객체 정의 <-- Circle 상속받아 정의\n",
        "#  클래스 이름 : Cube\n",
        "#  getArea() : 정육면체의 총 면적\n",
        "#  getVolume() : 정육면체의 부피 계산"
      ],
      "metadata": {
        "id": "asCgrGubEh-r"
      },
      "execution_count": 501,
      "outputs": []
    },
    {
      "cell_type": "code",
      "source": [
        "import math"
      ],
      "metadata": {
        "id": "WLH3ibBqEh8D"
      },
      "execution_count": 502,
      "outputs": []
    },
    {
      "cell_type": "code",
      "source": [
        "# 2차원 원 Circle 정의\n",
        "class Circle:\n",
        "  def __init__(self, radius = 0):\n",
        "    self.radius = radius\n",
        "\n",
        "  def getArea(self): # 면적\n",
        "    return math.pi * self.radius ** 2\n",
        "\n",
        "  def getPerimeter(self): # 둘레\n",
        "    return 2 * math.pi * self.radius"
      ],
      "metadata": {
        "id": "UbHHZXZzEh5S"
      },
      "execution_count": 503,
      "outputs": []
    },
    {
      "cell_type": "code",
      "source": [
        "c1 = Circle(10)\n",
        "\n",
        "c1.getArea(), c1.getPerimeter()"
      ],
      "metadata": {
        "colab": {
          "base_uri": "https://localhost:8080/"
        },
        "id": "XNbeU0K1Eh2r",
        "outputId": "e56645ae-b393-4ea9-8e0e-1d235798d28b"
      },
      "execution_count": 504,
      "outputs": [
        {
          "output_type": "execute_result",
          "data": {
            "text/plain": [
              "(314.1592653589793, 62.83185307179586)"
            ]
          },
          "metadata": {},
          "execution_count": 504
        }
      ]
    },
    {
      "cell_type": "code",
      "source": [
        "# Circle 을 상속받아 Sphere 객체 만들기\n",
        "\n",
        "class Sphere(Circle):\n",
        "  pass\n",
        "\n",
        "s1 = Sphere()\n",
        "s1.radius = 10\n",
        "\n",
        "s1.getArea(), s1.getPerimeter()"
      ],
      "metadata": {
        "colab": {
          "base_uri": "https://localhost:8080/"
        },
        "id": "yYDzyD-cEh0D",
        "outputId": "9b98d407-f30c-4252-83fc-64476be17c40"
      },
      "execution_count": 505,
      "outputs": [
        {
          "output_type": "execute_result",
          "data": {
            "text/plain": [
              "(314.1592653589793, 62.83185307179586)"
            ]
          },
          "metadata": {},
          "execution_count": 505
        }
      ]
    },
    {
      "cell_type": "code",
      "source": [
        "Circle.__dict__"
      ],
      "metadata": {
        "colab": {
          "base_uri": "https://localhost:8080/"
        },
        "id": "GrBN7mlkI_A2",
        "outputId": "90f0391d-6a14-49bc-fd18-5193d310c20a"
      },
      "execution_count": 506,
      "outputs": [
        {
          "output_type": "execute_result",
          "data": {
            "text/plain": [
              "mappingproxy({'__module__': '__main__',\n",
              "              '__init__': <function __main__.Circle.__init__(self, radius=0)>,\n",
              "              'getArea': <function __main__.Circle.getArea(self)>,\n",
              "              'getPerimeter': <function __main__.Circle.getPerimeter(self)>,\n",
              "              '__dict__': <attribute '__dict__' of 'Circle' objects>,\n",
              "              '__weakref__': <attribute '__weakref__' of 'Circle' objects>,\n",
              "              '__doc__': None})"
            ]
          },
          "metadata": {},
          "execution_count": 506
        }
      ]
    },
    {
      "cell_type": "code",
      "source": [
        "Sphere.__dict__"
      ],
      "metadata": {
        "colab": {
          "base_uri": "https://localhost:8080/"
        },
        "id": "Q1Ysp5XkI--k",
        "outputId": "b88fce77-1052-479a-bdc2-5e2adb2efd27"
      },
      "execution_count": 507,
      "outputs": [
        {
          "output_type": "execute_result",
          "data": {
            "text/plain": [
              "mappingproxy({'__module__': '__main__', '__doc__': None})"
            ]
          },
          "metadata": {},
          "execution_count": 507
        }
      ]
    },
    {
      "cell_type": "code",
      "source": [
        "class Sphere(Circle):\n",
        "  def getArea(self):  # 메소드 오버라이딩\n",
        "    return 4 * math.pi * self.radius ** 2\n",
        "\n",
        "  def getVolume(self):  # 자식 클래스에서 추가되는 메소드\n",
        "    return (4 / 3) * math.pi * self.radius ** 3\n"
      ],
      "metadata": {
        "id": "vK9n4J6cI-78"
      },
      "execution_count": 508,
      "outputs": []
    },
    {
      "cell_type": "code",
      "source": [
        "s3 = Sphere(4)"
      ],
      "metadata": {
        "id": "7Ra2uHFEI-5k"
      },
      "execution_count": 509,
      "outputs": []
    },
    {
      "cell_type": "code",
      "source": [
        "s3.getArea(), s3.getVolume()"
      ],
      "metadata": {
        "colab": {
          "base_uri": "https://localhost:8080/"
        },
        "id": "zZYG_5raI-3M",
        "outputId": "69716fca-cf4f-4d76-b8d0-31e4c57a9b93"
      },
      "execution_count": 510,
      "outputs": [
        {
          "output_type": "execute_result",
          "data": {
            "text/plain": [
              "(201.06192982974676, 268.082573106329)"
            ]
          },
          "metadata": {},
          "execution_count": 510
        }
      ]
    },
    {
      "cell_type": "code",
      "source": [
        "Circle.__dict__"
      ],
      "metadata": {
        "colab": {
          "base_uri": "https://localhost:8080/"
        },
        "id": "CyZiOVfNI-0t",
        "outputId": "d3888940-c0ad-4a7e-9de1-6c6b54e854cd"
      },
      "execution_count": 511,
      "outputs": [
        {
          "output_type": "execute_result",
          "data": {
            "text/plain": [
              "mappingproxy({'__module__': '__main__',\n",
              "              '__init__': <function __main__.Circle.__init__(self, radius=0)>,\n",
              "              'getArea': <function __main__.Circle.getArea(self)>,\n",
              "              'getPerimeter': <function __main__.Circle.getPerimeter(self)>,\n",
              "              '__dict__': <attribute '__dict__' of 'Circle' objects>,\n",
              "              '__weakref__': <attribute '__weakref__' of 'Circle' objects>,\n",
              "              '__doc__': None})"
            ]
          },
          "metadata": {},
          "execution_count": 511
        }
      ]
    },
    {
      "cell_type": "code",
      "source": [
        "Sphere.__dict__"
      ],
      "metadata": {
        "colab": {
          "base_uri": "https://localhost:8080/"
        },
        "id": "UniFgiafI-x8",
        "outputId": "05f3c3e4-b0de-48fa-c121-249d8cc7b8e1"
      },
      "execution_count": 512,
      "outputs": [
        {
          "output_type": "execute_result",
          "data": {
            "text/plain": [
              "mappingproxy({'__module__': '__main__',\n",
              "              'getArea': <function __main__.Sphere.getArea(self)>,\n",
              "              'getVolume': <function __main__.Sphere.getVolume(self)>,\n",
              "              '__doc__': None})"
            ]
          },
          "metadata": {},
          "execution_count": 512
        }
      ]
    },
    {
      "cell_type": "code",
      "source": [
        "# 부모쪽의 메소드를 호출하려 한다면?\n",
        "\n",
        "print(s3.getArea())  # Sphere 의 getArea()\n",
        "print(Sphere.getArea(s3))\n",
        "print(Circle.getArea(s3))  # 부모쪽 메소드 호출.\n",
        "\n",
        "# super(하위클래스이름, 하위클래스 객체)\n",
        "print(super(Sphere, s3).getArea())  # 부모쪽 메소드 호출"
      ],
      "metadata": {
        "colab": {
          "base_uri": "https://localhost:8080/"
        },
        "id": "j88chv2QI-vE",
        "outputId": "cc069c04-680b-43bc-8d62-d9a5807b76f3"
      },
      "execution_count": 513,
      "outputs": [
        {
          "output_type": "stream",
          "name": "stdout",
          "text": [
            "201.06192982974676\n",
            "201.06192982974676\n",
            "50.26548245743669\n",
            "50.26548245743669\n"
          ]
        }
      ]
    },
    {
      "cell_type": "markdown",
      "source": [
        "# 상속과 생성자"
      ],
      "metadata": {
        "id": "zjiY3AYnOUDY"
      }
    },
    {
      "cell_type": "code",
      "source": [
        "class Vehicle:\n",
        "  def __init__(self, speed = 0):\n",
        "    print(f'Vehicle 생성 speed = {speed}')\n",
        "    self.speed = speed\n",
        "\n",
        "class Car(Vehicle):\n",
        "  def __init__(self, oil = 0):\n",
        "    # 파이썬은 부모생성자를 자동으로 호출되지 않나?\n",
        "    super().__init__(20)   # 명시적으로 부모 생성자를 호출해야 한다.!\n",
        "    print(f'Car 생성 oil = {oil}')\n",
        "    self.oil = oil\n",
        "\n",
        "car1 = Car(10)"
      ],
      "metadata": {
        "colab": {
          "base_uri": "https://localhost:8080/"
        },
        "id": "OAwkNxEwEhxS",
        "outputId": "91828887-31e7-4f17-c786-174097a9dc52"
      },
      "execution_count": 514,
      "outputs": [
        {
          "output_type": "stream",
          "name": "stdout",
          "text": [
            "Vehicle 생성 speed = 20\n",
            "Car 생성 oil = 10\n"
          ]
        }
      ]
    },
    {
      "cell_type": "markdown",
      "source": [
        "# Magic Method\n",
        "special method 라고도 함"
      ],
      "metadata": {
        "id": "E8QXZbsEPZPA"
      }
    },
    {
      "cell_type": "code",
      "source": [
        "# Magic Method 매직 메소드란?\n",
        "# 클래스안에 정의할 수 있는 스페셜 메소드이며 클래스를 int, str, list등의 파이썬의 빌트인 타입(built-in type)과 같은 작동을 하게 해준다.\n",
        "# +, -, >, < 등의 오퍼레이터에 대해서 각각의 데이터 타입에 맞는 메소드로 오버로딩하여 백그라운드에서 연산을 한다.\n",
        "# __init__이나 __str__과 같이 메소드 이름 앞뒤에 더블 언더스코어(\"__\")를 붙인다.\n",
        "\n",
        "# special method 라고도 한다 https://docs.python.org/3/reference/datamodel.html#specialnames\n",
        "\n",
        "\"\"\"\n",
        "\n",
        "연산자     메소드                     설명\n",
        "─────────────────────────\n",
        "         <binary operator>\n",
        "\n",
        " +      __add__(self, other)         덧셈\n",
        " *      __mul__(self, other)         곱셈\n",
        " -      __sub__(self, other)         뺄셈\n",
        " /      __truediv__(self, other)     나눗셈\n",
        " //     __floordiv__(self, other)\n",
        " %       __mod__(self, other)             나머지\n",
        " **      __pow__(self, other[, modulo])\n",
        " >>      __lshift__(self, other)\n",
        " <<      __rshift__(self, other)\n",
        " &       __and__(self, other)\n",
        " ^      __xor__(self, other)\n",
        " |      __or__(self, other)\n",
        "\n",
        "\n",
        "             <Extended operator>\n",
        "+=         __iadd__(self, other)\n",
        "-=         __isub__(self, other)\n",
        "*=         __imul__(self, other)\n",
        "/=         __idiv__(self, other)\n",
        "//=        __ifloordiv__(self, other)\n",
        "%=         __imod__(self, other)\n",
        "**=        __ipow__(self, other)\n",
        "<<=        __ilshift__(self, other)\n",
        ">>=        __irshift__(self, other)\n",
        "&=         __iand__(self, other)\n",
        "^=         __ixor__(self, other)\n",
        "|=         __ior__(self, other)\n",
        "\n",
        "        <unary operators>\n",
        "-\n",
        "+\n",
        "abs()\n",
        "~\n",
        "complex()\n",
        "int()\n",
        "long()\n",
        "float()\n",
        "oct()\n",
        "hex()\n",
        "\n",
        "\n",
        "\n",
        " <       __lt__(self, other)         작다(미만)\n",
        " <=      __le__(self, other)         작거나 같다(이하)\n",
        " ==      __eq__(self, other)         같다\n",
        " !=      __ne__(self, other)         같지 않다\n",
        " >      __gt__(self, other)          크다(초과)\n",
        " >=     __ge__(self, other)          크거나 같다(이상)\n",
        " [index]   __getitem__(self, index)   인덱스 연산자\n",
        " in       __contains__(self, value)   멤버 확인\n",
        " len     __len__(self)                요소 길이\n",
        " str      __str__(self)                문자열 표현\n",
        "\n",
        "\n",
        "         __init__\n",
        "         __del__\n",
        "         __new__\n",
        "\n",
        "         __repr__(self)              representative form\n",
        " \"\"\"\n",
        "None"
      ],
      "metadata": {
        "id": "84OhbbIEEhu0"
      },
      "execution_count": 515,
      "outputs": []
    },
    {
      "cell_type": "code",
      "source": [
        "s1 = \"Hello\"\n",
        "s2 = \"최짐무\""
      ],
      "metadata": {
        "id": "JDYul9IhOVpG"
      },
      "execution_count": 516,
      "outputs": []
    },
    {
      "cell_type": "code",
      "source": [
        "# 실제로 아래 연산은 내부적으로 magic method 가 동작하는 거다!\n",
        "s1 + s2, s1.__add__(s2)"
      ],
      "metadata": {
        "colab": {
          "base_uri": "https://localhost:8080/"
        },
        "id": "JB1vRMkMOVmv",
        "outputId": "cc341fa4-1f07-43a8-ed0f-31e4b59b34d8"
      },
      "execution_count": 517,
      "outputs": [
        {
          "output_type": "execute_result",
          "data": {
            "text/plain": [
              "('Hello최짐무', 'Hello최짐무')"
            ]
          },
          "metadata": {},
          "execution_count": 517
        }
      ]
    },
    {
      "cell_type": "code",
      "source": [
        "\"PYTHON\" > \"Python\",  \"PYTHON\".__gt__(\"Python\")"
      ],
      "metadata": {
        "colab": {
          "base_uri": "https://localhost:8080/"
        },
        "id": "FqvZFkpQOVkY",
        "outputId": "83bc1c62-52e0-476a-c351-0520bd34e5aa"
      },
      "execution_count": 518,
      "outputs": [
        {
          "output_type": "execute_result",
          "data": {
            "text/plain": [
              "(False, False)"
            ]
          },
          "metadata": {},
          "execution_count": 518
        }
      ]
    },
    {
      "cell_type": "code",
      "source": [
        "s2[0], s2.__getitem__(0)"
      ],
      "metadata": {
        "colab": {
          "base_uri": "https://localhost:8080/"
        },
        "id": "TfacM7mkOVhm",
        "outputId": "b2c2edca-9f15-420f-874d-4891e224e0fe"
      },
      "execution_count": 519,
      "outputs": [
        {
          "output_type": "execute_result",
          "data": {
            "text/plain": [
              "('최', '최')"
            ]
          },
          "metadata": {},
          "execution_count": 519
        }
      ]
    },
    {
      "cell_type": "code",
      "source": [
        "'무' in s2, s2.__contains__('무')"
      ],
      "metadata": {
        "colab": {
          "base_uri": "https://localhost:8080/"
        },
        "id": "JiNz-pdaOVd2",
        "outputId": "3e3b15c2-b757-42f8-e983-711cf2af43dd"
      },
      "execution_count": 520,
      "outputs": [
        {
          "output_type": "execute_result",
          "data": {
            "text/plain": [
              "(True, True)"
            ]
          },
          "metadata": {},
          "execution_count": 520
        }
      ]
    },
    {
      "cell_type": "code",
      "source": [
        "# __repr__(),  __str__()\n",
        "# 공통점 : 객체를 문자열로 리턴\n",
        "# 차이점\n",
        "#    `__repr__` : out 값\n",
        "#    `__str__` : str(), print() 등에서 문자열(str) 변환시 호출됨,\n",
        "#                 오버라이딩 안되어 있으면 __repr__ 의 값을 리턴한다"
      ],
      "metadata": {
        "id": "ZKUd0fSXOVTt"
      },
      "execution_count": 521,
      "outputs": []
    },
    {
      "cell_type": "code",
      "source": [
        "car1"
      ],
      "metadata": {
        "colab": {
          "base_uri": "https://localhost:8080/"
        },
        "id": "rjiDfauPXDRi",
        "outputId": "37364736-30e8-49eb-d8c8-89aa1bd6a7ef"
      },
      "execution_count": 522,
      "outputs": [
        {
          "output_type": "execute_result",
          "data": {
            "text/plain": [
              "<__main__.Car at 0x7addb8793940>"
            ]
          },
          "metadata": {},
          "execution_count": 522
        }
      ]
    },
    {
      "cell_type": "code",
      "source": [
        "print(car1)"
      ],
      "metadata": {
        "colab": {
          "base_uri": "https://localhost:8080/"
        },
        "id": "pWS-Pk6oXDOf",
        "outputId": "966f4af4-9c73-4717-9c06-97e4e921e61a"
      },
      "execution_count": 523,
      "outputs": [
        {
          "output_type": "stream",
          "name": "stdout",
          "text": [
            "<__main__.Car object at 0x7addb8793940>\n"
          ]
        }
      ]
    },
    {
      "cell_type": "code",
      "source": [
        "class Student:\n",
        "  def __init__(self, name, grade):\n",
        "    self.name = name\n",
        "    self.grade = grade"
      ],
      "metadata": {
        "id": "PWvWUz7mXDLf"
      },
      "execution_count": 524,
      "outputs": []
    },
    {
      "cell_type": "code",
      "source": [
        "s1 = Student('최징무', 4)\n",
        "s1"
      ],
      "metadata": {
        "colab": {
          "base_uri": "https://localhost:8080/"
        },
        "id": "lnxXsg6WXDJX",
        "outputId": "93f116b9-0479-4eed-93c7-dfa3189b3d39"
      },
      "execution_count": 525,
      "outputs": [
        {
          "output_type": "execute_result",
          "data": {
            "text/plain": [
              "<__main__.Student at 0x7addb87bf2e0>"
            ]
          },
          "metadata": {},
          "execution_count": 525
        }
      ]
    },
    {
      "cell_type": "code",
      "source": [
        "class Student:\n",
        "  def __init__(self, name, grade):\n",
        "    self.name = name\n",
        "    self.grade = grade\n",
        "\n",
        "  def __repr__(self):\n",
        "    return f'이름 {self.name}, 학년 {self.grade}'"
      ],
      "metadata": {
        "id": "VshYZjDoXDHB"
      },
      "execution_count": 526,
      "outputs": []
    },
    {
      "cell_type": "code",
      "source": [
        "s2 = Student('찐무', 2)\n",
        "s2"
      ],
      "metadata": {
        "colab": {
          "base_uri": "https://localhost:8080/"
        },
        "id": "dquUOXh9XDD_",
        "outputId": "58df030f-c08e-430d-b0f3-92deec953a26"
      },
      "execution_count": 527,
      "outputs": [
        {
          "output_type": "execute_result",
          "data": {
            "text/plain": [
              "이름 찐무, 학년 2"
            ]
          },
          "metadata": {},
          "execution_count": 527
        }
      ]
    },
    {
      "cell_type": "code",
      "source": [
        "print(s2)\n",
        "# __str__ 의 값이어야 하나.. 정의안되어 있으면 __repr__ 의 값으로 동작"
      ],
      "metadata": {
        "colab": {
          "base_uri": "https://localhost:8080/"
        },
        "id": "SqITiAm-XDBH",
        "outputId": "fabf6a27-6b49-4c83-cde5-527b33a4b9bf"
      },
      "execution_count": 528,
      "outputs": [
        {
          "output_type": "stream",
          "name": "stdout",
          "text": [
            "이름 찐무, 학년 2\n"
          ]
        }
      ]
    },
    {
      "cell_type": "code",
      "source": [
        "class Student:\n",
        "  def __init__(self, name, grade):\n",
        "    self.name = name\n",
        "    self.grade = grade\n",
        "\n",
        "  def __repr__(self):\n",
        "    return f'이름 {self.name}, 학년 {self.grade}'\n",
        "\n",
        "  def __str__(self):\n",
        "    return f'{self.name} : {self.grade}'"
      ],
      "metadata": {
        "id": "g0uUEIY2XIo3"
      },
      "execution_count": 529,
      "outputs": []
    },
    {
      "cell_type": "code",
      "source": [
        "s3 = Student('치킨무', 1)\n",
        "s3  # __repr__ 값"
      ],
      "metadata": {
        "colab": {
          "base_uri": "https://localhost:8080/"
        },
        "id": "f0CTs3OdXImI",
        "outputId": "a6ec218c-5e12-4a32-8b73-aa3efa169b9f"
      },
      "execution_count": 530,
      "outputs": [
        {
          "output_type": "execute_result",
          "data": {
            "text/plain": [
              "이름 치킨무, 학년 1"
            ]
          },
          "metadata": {},
          "execution_count": 530
        }
      ]
    },
    {
      "cell_type": "code",
      "source": [
        "print(s3)  # __str__ 값"
      ],
      "metadata": {
        "colab": {
          "base_uri": "https://localhost:8080/"
        },
        "id": "btyMcTkTXIjo",
        "outputId": "6a3d1547-c536-4761-99ad-b0fcb4c15252"
      },
      "execution_count": 531,
      "outputs": [
        {
          "output_type": "stream",
          "name": "stdout",
          "text": [
            "치킨무 : 1\n"
          ]
        }
      ]
    },
    {
      "cell_type": "code",
      "source": [
        "f'{s3} 한개 부탁해요'   # __str__ 동작"
      ],
      "metadata": {
        "colab": {
          "base_uri": "https://localhost:8080/",
          "height": 35
        },
        "id": "lYRKyFQIXIhH",
        "outputId": "4d1257e6-e904-4416-e2cf-b0d3844b1186"
      },
      "execution_count": 532,
      "outputs": [
        {
          "output_type": "execute_result",
          "data": {
            "text/plain": [
              "'치킨무 : 1 한개 부탁해요'"
            ],
            "application/vnd.google.colaboratory.intrinsic+json": {
              "type": "string"
            }
          },
          "metadata": {},
          "execution_count": 532
        }
      ]
    },
    {
      "cell_type": "code",
      "source": [
        "str(s3) + '부탁해요'   # __str__ 동작"
      ],
      "metadata": {
        "colab": {
          "base_uri": "https://localhost:8080/",
          "height": 35
        },
        "id": "7KaL4PHqXIeX",
        "outputId": "972e5bf7-6214-4e95-b675-d44858258456"
      },
      "execution_count": 533,
      "outputs": [
        {
          "output_type": "execute_result",
          "data": {
            "text/plain": [
              "'치킨무 : 1부탁해요'"
            ],
            "application/vnd.google.colaboratory.intrinsic+json": {
              "type": "string"
            }
          },
          "metadata": {},
          "execution_count": 533
        }
      ]
    },
    {
      "cell_type": "code",
      "source": [
        "class Number:\n",
        "    def __init__(self, number):\n",
        "        self.number = number\n",
        "\n",
        "    def __repr__(self):\n",
        "        return str(self.number)"
      ],
      "metadata": {
        "id": "an7NW16jXIbf"
      },
      "execution_count": 534,
      "outputs": []
    },
    {
      "cell_type": "code",
      "source": [
        "f1 = Number(10)\n",
        "f2 = Number(20)\n",
        "print(f1, f2)"
      ],
      "metadata": {
        "colab": {
          "base_uri": "https://localhost:8080/"
        },
        "id": "UIS0ktGCXIYX",
        "outputId": "c16b70dd-ec38-47af-b4da-e7b45fb26db6"
      },
      "execution_count": 535,
      "outputs": [
        {
          "output_type": "stream",
          "name": "stdout",
          "text": [
            "10 20\n"
          ]
        }
      ]
    },
    {
      "cell_type": "code",
      "source": [
        "# 원래 객체간의 + 연산은 불가\n",
        "# 그러나!  MagicMethod 를 오버라이딩 하면 객체간의 연산도 가능해진다!\n",
        "# f1 + f2"
      ],
      "metadata": {
        "id": "8LxTCRByXPQo"
      },
      "execution_count": 536,
      "outputs": []
    },
    {
      "cell_type": "code",
      "source": [
        "class Number:\n",
        "    def __init__(self, number):\n",
        "        self.number = number\n",
        "\n",
        "    def __repr__(self):\n",
        "        return str(self.number)\n",
        "\n",
        "    def __add__(self, other):\n",
        "      return self.number + other.number"
      ],
      "metadata": {
        "id": "EFb8ZtNwXPNo"
      },
      "execution_count": 537,
      "outputs": []
    },
    {
      "cell_type": "code",
      "source": [
        "f1 = Number(10)\n",
        "f2 = Number(20)\n",
        "\n",
        "f1 + f2  # Number 의 + 연산  => Number 의 __add__(호출)"
      ],
      "metadata": {
        "id": "WQVNu-DkXPIo",
        "colab": {
          "base_uri": "https://localhost:8080/"
        },
        "outputId": "9ca566a5-219f-4b58-bb60-426d9c97ec49"
      },
      "execution_count": 538,
      "outputs": [
        {
          "output_type": "execute_result",
          "data": {
            "text/plain": [
              "30"
            ]
          },
          "metadata": {},
          "execution_count": 538
        }
      ]
    },
    {
      "cell_type": "code",
      "source": [
        "f3 = Number(30)\n",
        "# f1 + f2 + f3   # 에러다    f1 + f2 의 결과는 int 이니까!   int + f3 는 불가!"
      ],
      "metadata": {
        "id": "a1211vdPXPF5"
      },
      "execution_count": 539,
      "outputs": []
    },
    {
      "cell_type": "code",
      "source": [
        "class Number:\n",
        "    def __init__(self, number):\n",
        "        self.number = number\n",
        "\n",
        "    def __repr__(self):\n",
        "        return str(self.number)\n",
        "\n",
        "    def __add__(self, other):\n",
        "      return Number(self.number + other.number)"
      ],
      "metadata": {
        "id": "hJ8gT-eCXPDQ"
      },
      "execution_count": 540,
      "outputs": []
    },
    {
      "cell_type": "code",
      "source": [
        "f1 = Number(10)\n",
        "f2 = Number(20)\n",
        "f3 = Number(30)\n",
        "\n",
        "f1 + f2 + f3"
      ],
      "metadata": {
        "id": "ZgFnOnjnXPAo",
        "colab": {
          "base_uri": "https://localhost:8080/"
        },
        "outputId": "1ceed1d2-0eab-410c-db8f-23d7de4c8357"
      },
      "execution_count": 541,
      "outputs": [
        {
          "output_type": "execute_result",
          "data": {
            "text/plain": [
              "60"
            ]
          },
          "metadata": {},
          "execution_count": 541
        }
      ]
    },
    {
      "cell_type": "code",
      "source": [],
      "metadata": {
        "id": "poszE61sXO94"
      },
      "execution_count": 541,
      "outputs": []
    },
    {
      "cell_type": "code",
      "source": [],
      "metadata": {
        "id": "A_GIrHCFXO7Y"
      },
      "execution_count": 541,
      "outputs": []
    },
    {
      "cell_type": "code",
      "source": [],
      "metadata": {
        "id": "uJcLnkVCXO4w"
      },
      "execution_count": 541,
      "outputs": []
    },
    {
      "cell_type": "code",
      "source": [],
      "metadata": {
        "id": "iKavswk3XO2I"
      },
      "execution_count": 541,
      "outputs": []
    },
    {
      "cell_type": "code",
      "source": [],
      "metadata": {
        "id": "s-SNVX6-XOzQ"
      },
      "execution_count": 541,
      "outputs": []
    }
  ]
}