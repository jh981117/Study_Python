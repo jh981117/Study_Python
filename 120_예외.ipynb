{
  "nbformat": 4,
  "nbformat_minor": 0,
  "metadata": {
    "colab": {
      "provenance": [],
      "authorship_tag": "ABX9TyOu4UlsPFi/WFynklpimIqO",
      "include_colab_link": true
    },
    "kernelspec": {
      "name": "python3",
      "display_name": "Python 3"
    },
    "language_info": {
      "name": "python"
    }
  },
  "cells": [
    {
      "cell_type": "markdown",
      "metadata": {
        "id": "view-in-github",
        "colab_type": "text"
      },
      "source": [
        "<a href=\"https://colab.research.google.com/github/jh981117/Study_Python/blob/main/120_%EC%98%88%EC%99%B8.ipynb\" target=\"_parent\"><img src=\"https://colab.research.google.com/assets/colab-badge.svg\" alt=\"Open In Colab\"/></a>"
      ]
    },
    {
      "cell_type": "markdown",
      "source": [
        "# 예외 처리\n",
        "try ~ except ~ else ~ finally"
      ],
      "metadata": {
        "id": "KuiZPEDce4sa"
      }
    },
    {
      "cell_type": "code",
      "source": [
        "# f = open('없는파일', 'r')"
      ],
      "metadata": {
        "id": "4I_UH31Se3BS"
      },
      "execution_count": 5,
      "outputs": []
    },
    {
      "cell_type": "code",
      "source": [
        "# try ~ except"
      ],
      "metadata": {
        "id": "rWbN_72te2-i"
      },
      "execution_count": 6,
      "outputs": []
    },
    {
      "cell_type": "code",
      "source": [
        "# 구문]\n",
        "# try:\n",
        "#     코드수행블럭\n",
        "#     ...\n",
        "# except [발생 오류[as 오류 메시지 변수]]:\n",
        "#     예외처리블럭\n",
        "#     ...\n",
        "\n",
        "#  try 블록 수행 중 오류가 발생하면 except 블록이 수행된다.\n",
        "# 하지만 try블록에서 오류가 발생하지 않는다면 except 블록은 수행되지 않는다."
      ],
      "metadata": {
        "id": "MFc7sU8ve27a"
      },
      "execution_count": 7,
      "outputs": []
    },
    {
      "cell_type": "code",
      "source": [
        "try:\n",
        "  f = open('없는파일', 'r')\n",
        "  print('1. 파일 open 성공')\n",
        "except:\n",
        "  print('2 오류 발생')\n",
        "\n",
        "print('3 프로그램 종료')"
      ],
      "metadata": {
        "colab": {
          "base_uri": "https://localhost:8080/"
        },
        "id": "ndSLv-QMfCsS",
        "outputId": "d4c1468b-943d-4d1a-a98d-51d424f398de"
      },
      "execution_count": 8,
      "outputs": [
        {
          "output_type": "stream",
          "name": "stdout",
          "text": [
            "2 오류 발생\n",
            "3 프로그램 종료\n"
          ]
        }
      ]
    },
    {
      "cell_type": "markdown",
      "source": [
        "# try ~ except 오류:"
      ],
      "metadata": {
        "id": "kLwXEA1ce2p6"
      }
    },
    {
      "cell_type": "code",
      "execution_count": 9,
      "metadata": {
        "colab": {
          "base_uri": "https://localhost:8080/"
        },
        "id": "NQolbR24e0Ew",
        "outputId": "6f1eba01-122e-43d8-cc5b-a6c35d2991b0"
      },
      "outputs": [
        {
          "output_type": "stream",
          "name": "stdout",
          "text": [
            "2-1 ZeroDivisionError 오류 발생\n",
            "3 프로그램 종료\n"
          ]
        }
      ],
      "source": [
        "num = 0\n",
        "\n",
        "try:\n",
        "  result = 4 / num\n",
        "  print('1. 성공')\n",
        "except ZeroDivisionError:\n",
        "  print('2-1 ZeroDivisionError 오류 발생')\n",
        "except TypeError:\n",
        "  print('2-2 TypeError 오류 발생')\n",
        "\n",
        "\n",
        "print('3 프로그램 종료')"
      ]
    },
    {
      "cell_type": "code",
      "source": [
        "num = 0\n",
        "\n",
        "try:\n",
        "   #f = open('이기원', 'r')    # 에러 처리하는 except 절이 없으면 프로그램 종료\n",
        "  print('1. 성공')\n",
        "except ZeroDivisionError:\n",
        "  print('2-1 ZeroDivisionError 오류 발생')\n",
        "except TypeError:\n",
        "  print('2-2 TypeError 오류 발생')\n",
        "\n",
        "\n",
        "print('3 프로그램 종료')"
      ],
      "metadata": {
        "colab": {
          "base_uri": "https://localhost:8080/"
        },
        "id": "8y-xGqDsfFvb",
        "outputId": "74f1eb0a-63ac-4268-dce8-d717a04494d5"
      },
      "execution_count": 10,
      "outputs": [
        {
          "output_type": "stream",
          "name": "stdout",
          "text": [
            "1. 성공\n",
            "3 프로그램 종료\n"
          ]
        }
      ]
    },
    {
      "cell_type": "markdown",
      "source": [
        "# try ~ except 오류 as 변수:"
      ],
      "metadata": {
        "id": "EZlMl315fMrz"
      }
    },
    {
      "cell_type": "code",
      "source": [
        "num = 0\n",
        "\n",
        "try:\n",
        "  result = 4 / num\n",
        "  print('1. 성공')\n",
        "except ZeroDivisionError as e:\n",
        "  print('2-1 ZeroDivisionError 오류 발생')\n",
        "  print(e.args)\n",
        "  print(e)\n",
        "except TypeError:\n",
        "  print('2-2 TypeError 오류 발생')\n",
        "\n",
        "\n",
        "print('3 프로그램 종료')"
      ],
      "metadata": {
        "colab": {
          "base_uri": "https://localhost:8080/"
        },
        "id": "umIQ-gczfFsq",
        "outputId": "1ee5fd27-7c22-44cb-b90c-23060ab71200"
      },
      "execution_count": 11,
      "outputs": [
        {
          "output_type": "stream",
          "name": "stdout",
          "text": [
            "2-1 ZeroDivisionError 오류 발생\n",
            "('division by zero',)\n",
            "division by zero\n",
            "3 프로그램 종료\n"
          ]
        }
      ]
    },
    {
      "cell_type": "markdown",
      "source": [
        "# try ~ else:"
      ],
      "metadata": {
        "id": "C5_Jz-_7fPsS"
      }
    },
    {
      "cell_type": "code",
      "source": [
        "# try문은 else절을 지원한다.\n",
        "# else절은 예외가 발생하지 않은 경우에 실행되며\n",
        "# 반드시 except절 바로 다음에 위치해야 한다.\n",
        "\n",
        "# 그닥 비추, 차라리 걍 try 블럭안에 넣자"
      ],
      "metadata": {
        "id": "cuhYEXiIfRFK"
      },
      "execution_count": 12,
      "outputs": []
    },
    {
      "cell_type": "code",
      "source": [
        "try:\n",
        "  f = open(\"이기원.txt\", 'r')\n",
        "except FileNotFoundError as e:\n",
        "  print(\"2.\", e)\n",
        "else:\n",
        "  # 예외 발생하지 않으면 수행하는 블럭\n",
        "  data = f.read()\n",
        "  f.close()"
      ],
      "metadata": {
        "colab": {
          "base_uri": "https://localhost:8080/"
        },
        "id": "z6JG1BBhfFla",
        "outputId": "9007adf0-dc72-4b1e-dd63-3b38f5835d9b"
      },
      "execution_count": 13,
      "outputs": [
        {
          "output_type": "stream",
          "name": "stdout",
          "text": [
            "2. [Errno 2] No such file or directory: '이기원.txt'\n"
          ]
        }
      ]
    },
    {
      "cell_type": "markdown",
      "source": [
        "# try ~ finally:"
      ],
      "metadata": {
        "id": "mbAiAH9TfS8T"
      }
    },
    {
      "cell_type": "code",
      "source": [
        "try:\n",
        "  f = open('기원기원.txt', 'w')\n",
        "  a = 10\n",
        "  a = a + b  # NameError 발생\n",
        "  print('1. 파일저장')\n",
        "except NameError as e:\n",
        "  print('2.', e)\n",
        "finally:\n",
        "  print('3. finally')\n",
        "  f.close()\n",
        "\n",
        "print('4.프로그램 종료')"
      ],
      "metadata": {
        "colab": {
          "base_uri": "https://localhost:8080/"
        },
        "id": "2DmbM4PzfUd6",
        "outputId": "8fc7eb1b-ea83-4422-90bc-b1ba51ffbf54"
      },
      "execution_count": 14,
      "outputs": [
        {
          "output_type": "stream",
          "name": "stdout",
          "text": [
            "2. name 'b' is not defined\n",
            "3. finally\n",
            "4.프로그램 종료\n"
          ]
        }
      ]
    },
    {
      "cell_type": "markdown",
      "source": [
        "# 오류 만들기 & 강제로 오류 발생시키기 (raise )"
      ],
      "metadata": {
        "id": "_7o8HgH1fVxK"
      }
    },
    {
      "cell_type": "code",
      "source": [
        "#  Bird라는 클래스를 상속받는 자식 클래스는\n",
        "# 반드시 fly라는 함수를 구현하도록 만들고 싶은 경우(강제로 그렇게 하고 싶은 경우)가 있을 수 있다. 다음 예를 보자\n",
        "# '구현(implement)' : 부모클래스의 메소드를 오버라이딩해서 재정의하는것.\n",
        "# NotImplementedError는 파이썬 내장 오류로, 꼭 작성해야 하는 부분이 구현되지 않았을 경우 일부러 오류를 발생\n",
        "\n",
        "\n",
        "class Bird:\n",
        "  def fly(self):\n",
        "    raise NotImplementedError"
      ],
      "metadata": {
        "id": "Kyz0KLOTfXpy"
      },
      "execution_count": 15,
      "outputs": []
    },
    {
      "cell_type": "code",
      "source": [
        "class Eagle(Bird):\n",
        "  pass\n",
        "\n",
        "eagle = Eagle()\n",
        "# eagle.fly()"
      ],
      "metadata": {
        "id": "HB-wVEu7fX9y"
      },
      "execution_count": 16,
      "outputs": []
    },
    {
      "cell_type": "code",
      "source": [
        "class Eagle(Bird):\n",
        "  def fly(self):\n",
        "    print('하늘 날다')\n",
        "\n",
        "eagle = Eagle()\n",
        "eagle.fly()"
      ],
      "metadata": {
        "colab": {
          "base_uri": "https://localhost:8080/"
        },
        "id": "yUYhx5-zfa2S",
        "outputId": "f3b97117-d220-4221-b91a-b0d2f8f5082c"
      },
      "execution_count": 17,
      "outputs": [
        {
          "output_type": "stream",
          "name": "stdout",
          "text": [
            "하늘 날다\n"
          ]
        }
      ]
    },
    {
      "cell_type": "code",
      "source": [
        "# 커스텀 오류 만들기:   Exception 클래스를 상속받아 정의\n",
        "class MyError(Exception):\n",
        "  def __init__(self, msg):\n",
        "    self.msg = msg\n",
        "\n",
        "  def __str__(self):\n",
        "    return self.msg"
      ],
      "metadata": {
        "id": "9R-HtlXWfazT"
      },
      "execution_count": 18,
      "outputs": []
    },
    {
      "cell_type": "code",
      "source": [
        "def say_nick(nick):\n",
        "  if nick == \"진무\":\n",
        "    raise MyError(f'{nick} 은 허용하지 않는 별명')\n",
        "\n",
        "  print(nick)\n"
      ],
      "metadata": {
        "id": "c1Mhx-j0fari"
      },
      "execution_count": 19,
      "outputs": []
    },
    {
      "cell_type": "code",
      "source": [
        "say_nick('찜무')\n",
        "say_nick('징무')\n",
        "say_nick('진무')"
      ],
      "metadata": {
        "colab": {
          "base_uri": "https://localhost:8080/",
          "height": 349
        },
        "id": "h7VV_vuEfhaC",
        "outputId": "bb73ed88-266f-43c2-cf50-91e4315f775a"
      },
      "execution_count": 20,
      "outputs": [
        {
          "output_type": "stream",
          "name": "stdout",
          "text": [
            "찜무\n",
            "징무\n"
          ]
        },
        {
          "output_type": "error",
          "ename": "MyError",
          "evalue": "진무 은 허용하지 않는 별명",
          "traceback": [
            "\u001b[0;31m---------------------------------------------------------------------------\u001b[0m",
            "\u001b[0;31mMyError\u001b[0m                                   Traceback (most recent call last)",
            "\u001b[0;32m<ipython-input-20-b03701123419>\u001b[0m in \u001b[0;36m<cell line: 3>\u001b[0;34m()\u001b[0m\n\u001b[1;32m      1\u001b[0m \u001b[0msay_nick\u001b[0m\u001b[0;34m(\u001b[0m\u001b[0;34m'찜무'\u001b[0m\u001b[0;34m)\u001b[0m\u001b[0;34m\u001b[0m\u001b[0;34m\u001b[0m\u001b[0m\n\u001b[1;32m      2\u001b[0m \u001b[0msay_nick\u001b[0m\u001b[0;34m(\u001b[0m\u001b[0;34m'징무'\u001b[0m\u001b[0;34m)\u001b[0m\u001b[0;34m\u001b[0m\u001b[0;34m\u001b[0m\u001b[0m\n\u001b[0;32m----> 3\u001b[0;31m \u001b[0msay_nick\u001b[0m\u001b[0;34m(\u001b[0m\u001b[0;34m'진무'\u001b[0m\u001b[0;34m)\u001b[0m\u001b[0;34m\u001b[0m\u001b[0;34m\u001b[0m\u001b[0m\n\u001b[0m",
            "\u001b[0;32m<ipython-input-19-27561b6a845c>\u001b[0m in \u001b[0;36msay_nick\u001b[0;34m(nick)\u001b[0m\n\u001b[1;32m      1\u001b[0m \u001b[0;32mdef\u001b[0m \u001b[0msay_nick\u001b[0m\u001b[0;34m(\u001b[0m\u001b[0mnick\u001b[0m\u001b[0;34m)\u001b[0m\u001b[0;34m:\u001b[0m\u001b[0;34m\u001b[0m\u001b[0;34m\u001b[0m\u001b[0m\n\u001b[1;32m      2\u001b[0m   \u001b[0;32mif\u001b[0m \u001b[0mnick\u001b[0m \u001b[0;34m==\u001b[0m \u001b[0;34m\"진무\"\u001b[0m\u001b[0;34m:\u001b[0m\u001b[0;34m\u001b[0m\u001b[0;34m\u001b[0m\u001b[0m\n\u001b[0;32m----> 3\u001b[0;31m     \u001b[0;32mraise\u001b[0m \u001b[0mMyError\u001b[0m\u001b[0;34m(\u001b[0m\u001b[0;34mf'{nick} 은 허용하지 않는 별명'\u001b[0m\u001b[0;34m)\u001b[0m\u001b[0;34m\u001b[0m\u001b[0;34m\u001b[0m\u001b[0m\n\u001b[0m\u001b[1;32m      4\u001b[0m \u001b[0;34m\u001b[0m\u001b[0m\n\u001b[1;32m      5\u001b[0m   \u001b[0mprint\u001b[0m\u001b[0;34m(\u001b[0m\u001b[0mnick\u001b[0m\u001b[0;34m)\u001b[0m\u001b[0;34m\u001b[0m\u001b[0;34m\u001b[0m\u001b[0m\n",
            "\u001b[0;31mMyError\u001b[0m: 진무 은 허용하지 않는 별명"
          ]
        }
      ]
    }
  ]
}